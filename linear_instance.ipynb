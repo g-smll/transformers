{
 "cells": [
  {
   "cell_type": "code",
   "execution_count": 1,
   "id": "72edbfea-a396-4e2d-824c-3a64ba492867",
   "metadata": {
    "tags": []
   },
   "outputs": [
    {
     "name": "stdout",
     "output_type": "stream",
     "text": [
      "Epoch [100/1000], Loss: 0.0039\n",
      "Epoch [200/1000], Loss: 0.0002\n",
      "Epoch [300/1000], Loss: 0.0002\n",
      "Epoch [400/1000], Loss: 0.0001\n",
      "Epoch [500/1000], Loss: 0.0001\n",
      "Epoch [600/1000], Loss: 0.0001\n",
      "Epoch [700/1000], Loss: 0.0001\n",
      "Epoch [800/1000], Loss: 0.0001\n",
      "Epoch [900/1000], Loss: 0.0001\n",
      "Epoch [1000/1000], Loss: 0.0001\n",
      "预测房价: 295.69 万元\n"
     ]
    }
   ],
   "source": [
    "import torch\n",
    "import torch.nn as nn\n",
    "import torch.optim as optim\n",
    "\n",
    "# 1. 准备数据：3个特征(面积㎡, 房间数, 建造年份) -> 预测房价(万元)\n",
    "# 这里是模拟数据，实际中会使用真实的房屋数据集\n",
    "X_raw = torch.tensor([\n",
    "    [80.0, 2, 2010],   # 80㎡, 2室, 2010年建\n",
    "    [120.0, 3, 2015],  # 120㎡, 3室, 2015年建\n",
    "    [95.0, 2, 2005],   # 95㎡, 2室, 2005年建\n",
    "    [150.0, 4, 2020]   # 150㎡, 4室, 2020年建\n",
    "], dtype=torch.float32)\n",
    "\n",
    "y_raw = torch.tensor([180.0, 320.0, 220.0, 450.0], dtype=torch.float32)  # 对应房价\n",
    "\n",
    "# 数据标准化：防止数值不稳定\n",
    "# 对特征进行标准化 (X - mean) / std\n",
    "X_mean = X_raw.mean(dim=0)\n",
    "X_std = X_raw.std(dim=0)\n",
    "X = (X_raw - X_mean) / X_std\n",
    "\n",
    "# 对目标值进行标准化\n",
    "y_mean = y_raw.mean()\n",
    "y_std = y_raw.std()\n",
    "y = (y_raw - y_mean) / y_std\n",
    "\n",
    "# 2. 定义模型：使用线性层实现从3个特征到1个输出(房价)的映射\n",
    "class HousePriceModel(nn.Module):\n",
    "    def __init__(self):\n",
    "        super().__init__()\n",
    "        # 输入3个特征，输出1个预测值(房价)\n",
    "        self.linear = nn.Linear(in_features=3, out_features=1)\n",
    "    \n",
    "    def forward(self, x):\n",
    "        return self.linear(x).flatten()  # 展平输出为一维\n",
    "\n",
    "# 3. 初始化模型、损失函数和优化器\n",
    "model = HousePriceModel()\n",
    "criterion = nn.MSELoss()  # 均方误差损失\n",
    "optimizer = optim.SGD(model.parameters(), lr=0.01)  # 随机梯度下降，调整学习率\n",
    "\n",
    "# 4. 训练模型\n",
    "for epoch in range(1000):\n",
    "    # 前向传播：计算预测值\n",
    "    y_pred = model(X)\n",
    "    \n",
    "    # 计算损失\n",
    "    loss = criterion(y_pred, y)\n",
    "    \n",
    "    # 反向传播和参数更新\n",
    "    optimizer.zero_grad()  # 清零梯度\n",
    "    loss.backward()        # 计算梯度\n",
    "    optimizer.step()       # 更新权重和偏置\n",
    "    \n",
    "    if (epoch + 1) % 100 == 0:\n",
    "        print(f'Epoch [{epoch+1}/1000], Loss: {loss.item():.4f}')\n",
    "\n",
    "# 5. 预测新数据\n",
    "new_house_raw = torch.tensor([[110.0, 3, 2018]], dtype=torch.float32)  # 新房屋特征\n",
    "# 对新数据进行同样的标准化处理\n",
    "new_house = (new_house_raw - X_mean) / X_std\n",
    "predicted_price_normalized = model(new_house)\n",
    "# 将预测结果反标准化回原始尺度\n",
    "predicted_price = predicted_price_normalized * y_std + y_mean\n",
    "print(f'预测房价: {predicted_price.item():.2f} 万元')"
   ]
  }
 ],
 "metadata": {
  "kernelspec": {
   "display_name": "myconda",
   "language": "python",
   "name": "myconda"
  },
  "language_info": {
   "codemirror_mode": {
    "name": "ipython",
    "version": 3
   },
   "file_extension": ".py",
   "mimetype": "text/x-python",
   "name": "python",
   "nbconvert_exporter": "python",
   "pygments_lexer": "ipython3",
   "version": "3.10.12"
  }
 },
 "nbformat": 4,
 "nbformat_minor": 5
}
