{
 "cells": [
  {
   "cell_type": "code",
   "execution_count": 1,
   "id": "f01bfb03-df57-45b2-b470-d185b9ef21fa",
   "metadata": {
    "tags": []
   },
   "outputs": [],
   "source": [
    "import torch"
   ]
  },
  {
   "cell_type": "code",
   "execution_count": 2,
   "id": "a385140c-c1a1-4a74-96aa-0d82a90a361d",
   "metadata": {
    "tags": []
   },
   "outputs": [],
   "source": [
    "import torch.nn as nn"
   ]
  },
  {
   "cell_type": "code",
   "execution_count": 3,
   "id": "467e31a9-58b2-4b15-8d43-ed95a5b0fcdb",
   "metadata": {
    "tags": []
   },
   "outputs": [],
   "source": [
    "import torch.nn.functional as F"
   ]
  },
  {
   "cell_type": "code",
   "execution_count": 4,
   "id": "822e3bba-b0e7-4069-9397-630eb26925ce",
   "metadata": {
    "tags": []
   },
   "outputs": [],
   "source": [
    "import os"
   ]
  },
  {
   "cell_type": "code",
   "execution_count": 5,
   "id": "f2e2ebbe-682c-4104-9aae-f429cf114e0d",
   "metadata": {
    "tags": []
   },
   "outputs": [],
   "source": [
    "import requests"
   ]
  },
  {
   "cell_type": "code",
   "execution_count": 6,
   "id": "37ea1383-80e2-4ecd-ac87-23eed5aeb148",
   "metadata": {
    "tags": []
   },
   "outputs": [],
   "source": [
    "import tiktoken"
   ]
  },
  {
   "cell_type": "code",
   "execution_count": 7,
   "id": "3cc9e033-11b3-443b-af93-c27a7a393760",
   "metadata": {
    "tags": []
   },
   "outputs": [],
   "source": [
    "import math"
   ]
  },
  {
   "cell_type": "markdown",
   "id": "b0d4f376-1b50-4ba8-b0e1-fe58d913e169",
   "metadata": {},
   "source": [
    "# 1、获取数据集-由于无法访问huggingface手动上传"
   ]
  },
  {
   "cell_type": "code",
   "execution_count": 8,
   "id": "e80c9701-dcae-4dec-b987-6d108b9d649f",
   "metadata": {
    "tags": []
   },
   "outputs": [],
   "source": [
    "# todo nothing"
   ]
  },
  {
   "cell_type": "markdown",
   "id": "bb55f574-2c65-4880-bf7e-9e2dfe696493",
   "metadata": {},
   "source": [
    "# 2、读取sales_textbook.txt文件"
   ]
  },
  {
   "cell_type": "code",
   "execution_count": 9,
   "id": "0c3d41af-aeec-4bbf-bf27-4bf3a1ee0312",
   "metadata": {
    "tags": []
   },
   "outputs": [],
   "source": [
    "with open('trans_instance.txt','r') as f:\n",
    "    text = f.read()"
   ]
  },
  {
   "cell_type": "code",
   "execution_count": 10,
   "id": "59d9532b-d8c9-4f73-a768-5277682c68b6",
   "metadata": {
    "tags": []
   },
   "outputs": [
    {
     "data": {
      "text/plain": [
       "'小沈阳江西演唱会邀请沈春，\\n明星刀郎的歌火遍大江南北\\n2002年的第一场雪比2001年来得\\n大模型张老师的粉丝全是正能量'"
      ]
     },
     "execution_count": 10,
     "metadata": {},
     "output_type": "execute_result"
    }
   ],
   "source": [
    "text[0:1000]"
   ]
  },
  {
   "cell_type": "code",
   "execution_count": 11,
   "id": "b950e755-8226-41c4-bc32-4d1b4a98a0d3",
   "metadata": {
    "tags": []
   },
   "outputs": [
    {
     "data": {
      "text/plain": [
       "60"
      ]
     },
     "execution_count": 11,
     "metadata": {},
     "output_type": "execute_result"
    }
   ],
   "source": [
    "len(text)"
   ]
  },
  {
   "cell_type": "markdown",
   "id": "7cdf88e4-6b74-47c7-b38c-262c0e577346",
   "metadata": {},
   "source": [
    "# 3、引入tiktoken 将文字token化"
   ]
  },
  {
   "cell_type": "code",
   "execution_count": 12,
   "id": "6830e9af-7ca1-40ce-9596-5ad09573fc0c",
   "metadata": {
    "tags": []
   },
   "outputs": [],
   "source": [
    "encoding = tiktoken.get_encoding(\"cl100k_base\")"
   ]
  },
  {
   "cell_type": "code",
   "execution_count": 13,
   "id": "bd61a35d-91d9-4502-9803-34c61473f97f",
   "metadata": {
    "tags": []
   },
   "outputs": [],
   "source": [
    "tokenized_text = encoding.encode(text)"
   ]
  },
  {
   "cell_type": "code",
   "execution_count": 14,
   "id": "1191ce53-dbb5-4ac8-8774-2d5d27bfc0c4",
   "metadata": {
    "tags": []
   },
   "outputs": [],
   "source": [
    "tokenized_text = torch.tensor(tokenized_text, dtype=torch.long)"
   ]
  },
  {
   "cell_type": "code",
   "execution_count": 15,
   "id": "b4d6469c-a4de-4dbd-9bdc-7c8f50efc264",
   "metadata": {
    "tags": []
   },
   "outputs": [],
   "source": [
    "max_token_value = tokenized_text.max().item()"
   ]
  },
  {
   "cell_type": "code",
   "execution_count": 16,
   "id": "8c61e739-6e7a-4cee-a772-c7157a00a6ae",
   "metadata": {
    "tags": []
   },
   "outputs": [
    {
     "data": {
      "text/plain": [
       "69"
      ]
     },
     "execution_count": 16,
     "metadata": {},
     "output_type": "execute_result"
    }
   ],
   "source": [
    "len(tokenized_text)"
   ]
  },
  {
   "cell_type": "code",
   "execution_count": 17,
   "id": "e8b3fd34-73a8-40d5-acd7-7b3e814f3356",
   "metadata": {
    "tags": []
   },
   "outputs": [
    {
     "data": {
      "text/plain": [
       "92877"
      ]
     },
     "execution_count": 17,
     "metadata": {},
     "output_type": "execute_result"
    }
   ],
   "source": [
    "max_token_value"
   ]
  },
  {
   "cell_type": "markdown",
   "id": "4bd8ed9d-a20c-4dc2-bbbe-c667954450a8",
   "metadata": {},
   "source": [
    "# 4、参数设置"
   ]
  },
  {
   "cell_type": "code",
   "execution_count": 18,
   "id": "d97cd4bb-2110-4f4b-b58d-e18a834f2117",
   "metadata": {
    "tags": []
   },
   "outputs": [],
   "source": [
    "context_length = 16"
   ]
  },
  {
   "cell_type": "code",
   "execution_count": 19,
   "id": "03928e24-ac80-4b09-b9ba-78ce1052fd64",
   "metadata": {
    "tags": []
   },
   "outputs": [],
   "source": [
    "d_model = 64"
   ]
  },
  {
   "cell_type": "code",
   "execution_count": 20,
   "id": "9ba23807-39f4-4efe-83d4-d6ffdc7c3fd8",
   "metadata": {
    "tags": []
   },
   "outputs": [],
   "source": [
    "batch_size = 4"
   ]
  },
  {
   "cell_type": "code",
   "execution_count": 21,
   "id": "54bfcfac-4e0d-48b4-95f2-3728861ffa45",
   "metadata": {
    "tags": []
   },
   "outputs": [],
   "source": [
    "data = tokenized_text"
   ]
  },
  {
   "cell_type": "code",
   "execution_count": 22,
   "id": "2ad04db9-ea56-409e-99dc-e5d084e44eb8",
   "metadata": {
    "tags": []
   },
   "outputs": [],
   "source": [
    "high = len(data) - context_length"
   ]
  },
  {
   "cell_type": "code",
   "execution_count": 23,
   "id": "a24b9115-00da-4c82-b527-27c44ff00951",
   "metadata": {
    "tags": []
   },
   "outputs": [
    {
     "data": {
      "text/plain": [
       "53"
      ]
     },
     "execution_count": 23,
     "metadata": {},
     "output_type": "execute_result"
    }
   ],
   "source": [
    "high"
   ]
  },
  {
   "cell_type": "markdown",
   "id": "e4a9d447-d409-4042-9d47-c327ed30735a",
   "metadata": {},
   "source": [
    "# 5、初始化张量"
   ]
  },
  {
   "cell_type": "markdown",
   "id": "94f33561-84e5-479a-aa46-e75c3ac7fdff",
   "metadata": {},
   "source": [
    "## 参数low随机整数，最小值为零"
   ]
  },
  {
   "cell_type": "markdown",
   "id": "038daea9-f42e-403f-8563-8b970f06d6d7",
   "metadata": {},
   "source": [
    "## 参数high随机整数，最大值为49"
   ]
  },
  {
   "cell_type": "code",
   "execution_count": 24,
   "id": "4bc5ceeb-24cc-4657-82ba-9f0b5672fd69",
   "metadata": {
    "tags": []
   },
   "outputs": [],
   "source": [
    "idxs = torch.randint(low=0, high=high, size=(batch_size,))"
   ]
  },
  {
   "cell_type": "code",
   "execution_count": 25,
   "id": "99f0571e-cb23-410d-a222-a258091be845",
   "metadata": {
    "tags": []
   },
   "outputs": [],
   "source": [
    "#idxs tensor([53, 25, 13,  7])"
   ]
  },
  {
   "cell_type": "markdown",
   "id": "512ca36f-611e-4fcc-8924-defb9108c09e",
   "metadata": {},
   "source": [
    "## 说明初始化一维张量的目的"
   ]
  },
  {
   "cell_type": "markdown",
   "id": "699d37cb-de94-4c74-993d-1b8dc38c2d00",
   "metadata": {},
   "source": [
    "### 在trans_instance.txt文件中，中文字数59， token数65"
   ]
  },
  {
   "cell_type": "markdown",
   "id": "5116f4e4-afad-4581-8e62-77410a6ee8f9",
   "metadata": {},
   "source": [
    "### 随机张量tensor([41, 1, 32, 50]) 以41，1，32，50为token索引， 获取分别41，1，32，50为起始索引的token"
   ]
  },
  {
   "cell_type": "markdown",
   "id": "f5cb925c-cb80-40c2-9345-5a2fb4346a6b",
   "metadata": {},
   "source": [
    "### 例如41为起点的索引，取长度为10的文本，其它索引的值为41，42，43，44，45，46，47，48，49，50 每个索引对应了具体的token"
   ]
  },
  {
   "cell_type": "markdown",
   "id": "2c5b5f2b-ca97-4720-9a01-c2723829a0bc",
   "metadata": {},
   "source": [
    "# 6、初始化4批数据"
   ]
  },
  {
   "cell_type": "markdown",
   "id": "dcbd3514-9dcf-4cda-a8a5-e6e0c5d5dcb0",
   "metadata": {},
   "source": [
    "## 数据结构是4行10列， 即4行token， 每行10个token"
   ]
  },
  {
   "cell_type": "code",
   "execution_count": 26,
   "id": "abb4f7b0-ef49-4dfb-b7f7-5212dc2cf3cb",
   "metadata": {
    "tags": []
   },
   "outputs": [],
   "source": [
    "x_batch = torch.stack([data[idx:idx+context_length] for idx in idxs])"
   ]
  },
  {
   "cell_type": "code",
   "execution_count": 27,
   "id": "977559d0-b209-4fcb-bb70-e4c015d43f66",
   "metadata": {
    "tags": []
   },
   "outputs": [
    {
     "data": {
      "text/plain": [
       "tensor([[  230, 11881,    98, 42553, 31958, 78519,  6701,   222, 31938,   236,\n",
       "          9554, 15722,   234, 80699, 30250,   235],\n",
       "        [70277, 59563, 49409,   198,  1049,    17,  8107,  9554, 30537, 15120,\n",
       "         83324, 25132,   103, 57106,  1049,    16],\n",
       "        [ 8107, 37507, 50928,   198, 27384, 54872, 25287, 87441, 92877, 13821,\n",
       "           230,  9554, 90397,   231,  3574,   251],\n",
       "        [  236,  9554, 15722,   234, 80699, 30250,   235, 27384, 70277, 59563,\n",
       "         49409,   198,  1049,    17,  8107,  9554]])"
      ]
     },
     "execution_count": 27,
     "metadata": {},
     "output_type": "execute_result"
    }
   ],
   "source": [
    "x_batch"
   ]
  },
  {
   "cell_type": "code",
   "execution_count": 28,
   "id": "ed701842-7c8f-4589-8c7c-6c5463321886",
   "metadata": {
    "tags": []
   },
   "outputs": [],
   "source": [
    "y_batch = torch.stack([data[idx+1:idx+context_length+1] for idx in idxs])"
   ]
  },
  {
   "cell_type": "code",
   "execution_count": 29,
   "id": "6898ea29-2c95-43d5-811e-5850ac3c5dea",
   "metadata": {
    "tags": []
   },
   "outputs": [
    {
     "data": {
      "text/plain": [
       "tensor([[11881,    98, 42553, 31958, 78519,  6701,   222, 31938,   236,  9554,\n",
       "         15722,   234, 80699, 30250,   235, 27384],\n",
       "        [59563, 49409,   198,  1049,    17,  8107,  9554, 30537, 15120, 83324,\n",
       "         25132,   103, 57106,  1049,    16,  8107],\n",
       "        [37507, 50928,   198, 27384, 54872, 25287, 87441, 92877, 13821,   230,\n",
       "          9554, 90397,   231,  3574,   251, 37087],\n",
       "        [ 9554, 15722,   234, 80699, 30250,   235, 27384, 70277, 59563, 49409,\n",
       "           198,  1049,    17,  8107,  9554, 30537]])"
      ]
     },
     "execution_count": 29,
     "metadata": {},
     "output_type": "execute_result"
    }
   ],
   "source": [
    "y_batch"
   ]
  },
  {
   "cell_type": "markdown",
   "id": "270925e3-eaee-4255-b39a-b34faffa8114",
   "metadata": {},
   "source": [
    "# 7、引入pandas查看原始数据"
   ]
  },
  {
   "cell_type": "code",
   "execution_count": 30,
   "id": "50bbdc16-312a-4ce1-ae9a-99200cca79ce",
   "metadata": {
    "tags": []
   },
   "outputs": [],
   "source": [
    "import pandas as pd"
   ]
  },
  {
   "cell_type": "code",
   "execution_count": 31,
   "id": "19daa57a-5a37-4e0c-be79-5e1c9ec6668a",
   "metadata": {
    "tags": []
   },
   "outputs": [
    {
     "data": {
      "text/plain": [
       "'�春，\\n明星刀郎的歌火遍'"
      ]
     },
     "execution_count": 31,
     "metadata": {},
     "output_type": "execute_result"
    }
   ],
   "source": [
    "encoding.decode(x_batch[0].numpy())"
   ]
  },
  {
   "cell_type": "code",
   "execution_count": 32,
   "id": "fd0ec3ea-432a-4846-81ab-fd52780b69d9",
   "metadata": {
    "tags": []
   },
   "outputs": [
    {
     "data": {
      "text/plain": [
       "'江南北\\n2002年的第一场雪比2001'"
      ]
     },
     "execution_count": 32,
     "metadata": {},
     "output_type": "execute_result"
    }
   ],
   "source": [
    "encoding.decode(x_batch[1].numpy())"
   ]
  },
  {
   "cell_type": "code",
   "execution_count": 33,
   "id": "f279ec9c-37d6-4188-82a8-bb55e85a9e5b",
   "metadata": {
    "tags": []
   },
   "outputs": [
    {
     "data": {
      "text/plain": [
       "'年来得\\n大模型张老师的粉丝'"
      ]
     },
     "execution_count": 33,
     "metadata": {},
     "output_type": "execute_result"
    }
   ],
   "source": [
    "encoding.decode(x_batch[2].numpy())"
   ]
  },
  {
   "cell_type": "code",
   "execution_count": 34,
   "id": "da93ee60-783e-474c-a57a-a42de8f19fb5",
   "metadata": {
    "tags": []
   },
   "outputs": [
    {
     "data": {
      "text/plain": [
       "'�的歌火遍大江南北\\n2002年的'"
      ]
     },
     "execution_count": 34,
     "metadata": {},
     "output_type": "execute_result"
    }
   ],
   "source": [
    "encoding.decode(x_batch[3].numpy())"
   ]
  },
  {
   "cell_type": "code",
   "execution_count": 35,
   "id": "2c07719f-d056-42ee-ac52-e4c39dc63c2f",
   "metadata": {
    "tags": []
   },
   "outputs": [
    {
     "data": {
      "text/plain": [
       "'春，\\n明星刀郎的歌火遍大'"
      ]
     },
     "execution_count": 35,
     "metadata": {},
     "output_type": "execute_result"
    }
   ],
   "source": [
    "encoding.decode(y_batch[0].numpy())"
   ]
  },
  {
   "cell_type": "code",
   "execution_count": 36,
   "id": "01f6bdfb-d951-41d2-8e0a-893c36a1df3f",
   "metadata": {
    "tags": []
   },
   "outputs": [
    {
     "data": {
      "text/plain": [
       "'南北\\n2002年的第一场雪比2001年'"
      ]
     },
     "execution_count": 36,
     "metadata": {},
     "output_type": "execute_result"
    }
   ],
   "source": [
    "encoding.decode(y_batch[1].numpy())"
   ]
  },
  {
   "cell_type": "code",
   "execution_count": 37,
   "id": "a17f942d-d6f8-42d0-bc2c-1b2ed950d25b",
   "metadata": {
    "tags": []
   },
   "outputs": [
    {
     "data": {
      "text/plain": [
       "'来得\\n大模型张老师的粉丝全'"
      ]
     },
     "execution_count": 37,
     "metadata": {},
     "output_type": "execute_result"
    }
   ],
   "source": [
    "encoding.decode(y_batch[2].numpy())"
   ]
  },
  {
   "cell_type": "code",
   "execution_count": 38,
   "id": "65d05fac-36de-4d61-b21c-dd46f307fc91",
   "metadata": {
    "tags": []
   },
   "outputs": [
    {
     "data": {
      "text/plain": [
       "'的歌火遍大江南北\\n2002年的第'"
      ]
     },
     "execution_count": 38,
     "metadata": {},
     "output_type": "execute_result"
    }
   ],
   "source": [
    "encoding.decode(y_batch[3].numpy())"
   ]
  },
  {
   "cell_type": "markdown",
   "id": "6b663f28-d98a-49e8-b086-4e5f0bb296ff",
   "metadata": {},
   "source": [
    "# 8、input Enbedding 初始化"
   ]
  },
  {
   "cell_type": "code",
   "execution_count": 39,
   "id": "f882236b-5fa9-42c5-81f4-87eaa123ae7e",
   "metadata": {
    "tags": []
   },
   "outputs": [
    {
     "data": {
      "text/plain": [
       "'阳'"
      ]
     },
     "execution_count": 39,
     "metadata": {},
     "output_type": "execute_result"
    }
   ],
   "source": [
    "encoding.decode([83175]) "
   ]
  },
  {
   "cell_type": "markdown",
   "id": "777ed814-5712-4a16-a248-8cc92ea32ea0",
   "metadata": {},
   "source": [
    "## 创建一个Embedding table （92877， 64）即行为92877 列为64列"
   ]
  },
  {
   "cell_type": "code",
   "execution_count": 40,
   "id": "a981d641-2773-4004-83ad-d326720f8372",
   "metadata": {
    "tags": []
   },
   "outputs": [],
   "source": [
    "input_embedding_lookup_table = nn.Embedding(\n",
    "    num_embeddings=max_token_value + 1,  # 词汇表大小（含未知标记）92877+1 = 92878\n",
    "    embedding_dim=d_model               # 嵌入向量维度 64纬\n",
    ")"
   ]
  },
  {
   "cell_type": "code",
   "execution_count": 41,
   "id": "641fea89-3c04-4a74-99e8-c871f2a0a336",
   "metadata": {
    "tags": []
   },
   "outputs": [
    {
     "data": {
      "text/plain": [
       "Embedding(92878, 64)"
      ]
     },
     "execution_count": 41,
     "metadata": {},
     "output_type": "execute_result"
    }
   ],
   "source": [
    "input_embedding_lookup_table"
   ]
  },
  {
   "cell_type": "code",
   "execution_count": 42,
   "id": "6ea94e70-b7e6-4e1a-9b7a-ecb9ee15a6cf",
   "metadata": {
    "tags": []
   },
   "outputs": [
    {
     "data": {
      "text/plain": [
       "tensor([[-0.5780,  1.6609,  0.1632,  ...,  0.2959, -0.2797,  0.9779],\n",
       "        [ 0.7430, -1.3938,  0.6316,  ...,  1.3084,  0.2072, -0.5817],\n",
       "        [ 0.4162, -0.3061,  0.1173,  ..., -0.2112,  0.2564,  0.4808],\n",
       "        ...,\n",
       "        [-0.1850, -2.2917, -2.3920,  ..., -1.1244,  0.5728,  0.3276],\n",
       "        [ 1.1549, -1.0915, -1.2170,  ..., -0.4748, -0.5551, -0.9152],\n",
       "        [-1.6030, -1.0925,  1.1802,  ...,  1.1817, -1.0096, -0.3890]])"
      ]
     },
     "execution_count": 42,
     "metadata": {},
     "output_type": "execute_result"
    }
   ],
   "source": [
    "input_embedding_lookup_table.weight.data #初始化的权重，这些初始值在训练过程中修正"
   ]
  },
  {
   "cell_type": "code",
   "execution_count": 43,
   "id": "f28936a7-3c60-43e0-86e6-aeded4b3e049",
   "metadata": {
    "tags": []
   },
   "outputs": [],
   "source": [
    "x_batch_embedding = input_embedding_lookup_table(x_batch)\n",
    "y_batch_embedding = input_embedding_lookup_table(y_batch)"
   ]
  },
  {
   "cell_type": "code",
   "execution_count": 44,
   "id": "903833c0-2a20-42cb-b747-7034ae095620",
   "metadata": {
    "tags": []
   },
   "outputs": [
    {
     "data": {
      "text/plain": [
       "torch.Size([4, 16, 64])"
      ]
     },
     "execution_count": 44,
     "metadata": {},
     "output_type": "execute_result"
    }
   ],
   "source": [
    "x_batch_embedding.shape"
   ]
  },
  {
   "cell_type": "code",
   "execution_count": 45,
   "id": "c29b0dfb-bcc0-4790-8abb-cc9ff06f6d8d",
   "metadata": {
    "tags": []
   },
   "outputs": [
    {
     "data": {
      "text/plain": [
       "tensor([[[ 1.0707, -0.4468, -0.8520,  ...,  0.0923,  0.1597, -0.9516],\n",
       "         [ 0.0337,  1.4017, -1.4048,  ..., -1.2651,  0.0346,  0.0758],\n",
       "         [ 1.0686,  0.4825,  0.7246,  ...,  0.0688, -1.6042, -0.3969],\n",
       "         ...,\n",
       "         [-0.1253,  1.5412, -0.0727,  ...,  0.6935,  1.0645,  1.0084],\n",
       "         [-1.7950, -0.3195, -0.2953,  ...,  1.0053, -0.1796,  0.4493],\n",
       "         [ 1.6761,  0.1702, -0.1364,  ...,  0.1556, -0.3729, -0.6825]],\n",
       "\n",
       "        [[-0.5167,  0.8715,  0.2613,  ..., -0.9310, -0.4571, -0.4582],\n",
       "         [ 1.2399,  2.1289, -1.3575,  ...,  0.9277,  0.5227, -0.0994],\n",
       "         [-0.6833, -0.0347, -1.3029,  ...,  0.2252, -0.9638,  0.1589],\n",
       "         ...,\n",
       "         [-1.5317,  1.3492,  1.4461,  ...,  0.0987,  0.3917, -0.4518],\n",
       "         [ 0.4378,  0.4854, -0.8767,  ..., -0.4123, -0.0226, -1.7436],\n",
       "         [ 0.7326,  0.4549, -0.0190,  ..., -1.2537, -1.1128, -0.6554]],\n",
       "\n",
       "        [[-0.5713,  0.5345,  0.8107,  ...,  0.3134, -0.1900, -0.7947],\n",
       "         [ 0.6898, -0.3686, -0.2822,  ..., -0.8470, -0.2296,  0.7614],\n",
       "         [ 0.2027,  0.2399, -1.7059,  ..., -0.0047, -0.2046,  1.4563],\n",
       "         ...,\n",
       "         [ 0.7924,  1.1328,  1.3827,  ...,  0.8277, -0.2612, -0.3251],\n",
       "         [-1.1582, -0.2280, -1.0234,  ...,  0.9181, -0.8642,  0.8174],\n",
       "         [-1.4106, -1.4910, -0.7170,  ..., -0.3142, -2.2290, -0.7310]],\n",
       "\n",
       "        [[ 1.6650,  1.5911, -0.7094,  ..., -0.3978,  0.7564,  0.0198],\n",
       "         [ 1.2344,  0.0374,  0.6583,  ...,  0.3021, -1.0570, -0.1598],\n",
       "         [ 2.0757, -1.7545, -2.5038,  ..., -0.1721,  0.1630, -0.0717],\n",
       "         ...,\n",
       "         [-0.3405,  0.8104,  1.9295,  ..., -0.1372, -1.5537,  1.1492],\n",
       "         [-0.5713,  0.5345,  0.8107,  ...,  0.3134, -0.1900, -0.7947],\n",
       "         [ 1.2344,  0.0374,  0.6583,  ...,  0.3021, -1.0570, -0.1598]]],\n",
       "       grad_fn=<EmbeddingBackward0>)"
      ]
     },
     "execution_count": 45,
     "metadata": {},
     "output_type": "execute_result"
    }
   ],
   "source": [
    "x_batch_embedding"
   ]
  },
  {
   "cell_type": "markdown",
   "id": "1aaef8b4-74dd-4aee-bee3-1f8535eab6d3",
   "metadata": {},
   "source": [
    "## 4 代表的是4个批次， 16是行数即16个token， 64即64列64个纬度"
   ]
  },
  {
   "cell_type": "markdown",
   "id": "30ea4d3a-9762-458a-a5c7-43746f92496f",
   "metadata": {},
   "source": [
    "## 现在来说明input_embedding_lookup_table(x_batch)业务含义 ；\n",
    "1. x_batch[3].numpy() = [31106,   230, 83175, 70277, 61786, 78256,   242, 84150,   109, 38093]\n",
    "2. 第一个token= 31106 代表的是中文字 “沈”\n",
    "3. input_embedding_lookup_table(x_batch) 将token=31106关联到enbedding第31106行， 每一行都代表第token行的toekn，表示一个文字"
   ]
  },
  {
   "cell_type": "code",
   "execution_count": 58,
   "id": "b2413976-a5b5-4a91-9ded-44966895921b",
   "metadata": {
    "tags": []
   },
   "outputs": [
    {
     "data": {
      "text/plain": [
       "torch.Size([4, 16, 64])"
      ]
     },
     "execution_count": 58,
     "metadata": {},
     "output_type": "execute_result"
    }
   ],
   "source": [
    "y_batch_embedding.shape"
   ]
  },
  {
   "cell_type": "markdown",
   "id": "a6c19873-2a93-4191-858a-564866d1ba02",
   "metadata": {},
   "source": [
    "# 9、positional embedding 加入位置信息"
   ]
  },
  {
   "cell_type": "code",
   "execution_count": 47,
   "id": "8b12df2a-0822-4c7d-aefc-443ff60d5bc6",
   "metadata": {
    "tags": []
   },
   "outputs": [],
   "source": [
    "position_encoding_lookup_table = torch.zeros(context_length, d_model)"
   ]
  },
  {
   "cell_type": "code",
   "execution_count": 48,
   "id": "61bd6064-f53c-4e64-8e04-0391baf9bdbb",
   "metadata": {
    "tags": []
   },
   "outputs": [
    {
     "data": {
      "text/plain": [
       "tensor([[0., 0., 0.,  ..., 0., 0., 0.],\n",
       "        [0., 0., 0.,  ..., 0., 0., 0.],\n",
       "        [0., 0., 0.,  ..., 0., 0., 0.],\n",
       "        ...,\n",
       "        [0., 0., 0.,  ..., 0., 0., 0.],\n",
       "        [0., 0., 0.,  ..., 0., 0., 0.],\n",
       "        [0., 0., 0.,  ..., 0., 0., 0.]])"
      ]
     },
     "execution_count": 48,
     "metadata": {},
     "output_type": "execute_result"
    }
   ],
   "source": [
    "position_encoding_lookup_table"
   ]
  },
  {
   "cell_type": "markdown",
   "id": "4a532502-ef57-481e-8068-69662b5d06e7",
   "metadata": {},
   "source": [
    "## 目标是初始一个10x64的二维矩阵，目的就是给每一个"
   ]
  },
  {
   "cell_type": "code",
   "execution_count": 49,
   "id": "78527b5f-4ba0-49fc-9b9b-7a53f8b4d420",
   "metadata": {
    "tags": []
   },
   "outputs": [],
   "source": [
    "# 2. 生成位置序列 [0, 1, 2, ..., context_length-1]\n",
    "position = torch.arange(0, context_length, dtype=torch.float).unsqueeze(1)\n",
    "\n",
    "# 3. 计算频率缩放因子（指数衰减）\n",
    "div_term = torch.exp(torch.arange(0, d_model, 2).float() * (-math.log(10000.0) / d_model))\n",
    "\n",
    "# 4. 交替应用正弦和余弦函数\n",
    "position_encoding_lookup_table[:, 0::2] = torch.sin(position * div_term)  # 偶数位置\n",
    "position_encoding_lookup_table[:, 1::2] = torch.cos(position * div_term)  # 奇数位置\n",
    "\n",
    "# 5. 添加batch维度 [batch_size, seq_len, d_model]\n",
    "position_encoding_lookup_table = position_encoding_lookup_table.unsqueeze(0).expand(batch_size, -1, -1)"
   ]
  },
  {
   "cell_type": "code",
   "execution_count": 50,
   "id": "b81650a6-44f9-4805-9e0a-f07a0d053840",
   "metadata": {
    "tags": []
   },
   "outputs": [
    {
     "data": {
      "text/plain": [
       "tensor([[[ 0.0000e+00,  1.0000e+00,  0.0000e+00,  ...,  1.0000e+00,\n",
       "           0.0000e+00,  1.0000e+00],\n",
       "         [ 8.4147e-01,  5.4030e-01,  6.8156e-01,  ...,  1.0000e+00,\n",
       "           1.3335e-04,  1.0000e+00],\n",
       "         [ 9.0930e-01, -4.1615e-01,  9.9748e-01,  ...,  1.0000e+00,\n",
       "           2.6670e-04,  1.0000e+00],\n",
       "         ...,\n",
       "         [ 4.2017e-01,  9.0745e-01, -3.1822e-01,  ...,  1.0000e+00,\n",
       "           1.7336e-03,  1.0000e+00],\n",
       "         [ 9.9061e-01,  1.3674e-01, -8.7899e-01,  ...,  1.0000e+00,\n",
       "           1.8669e-03,  1.0000e+00],\n",
       "         [ 6.5029e-01, -7.5969e-01, -9.6821e-01,  ...,  1.0000e+00,\n",
       "           2.0003e-03,  1.0000e+00]],\n",
       "\n",
       "        [[ 0.0000e+00,  1.0000e+00,  0.0000e+00,  ...,  1.0000e+00,\n",
       "           0.0000e+00,  1.0000e+00],\n",
       "         [ 8.4147e-01,  5.4030e-01,  6.8156e-01,  ...,  1.0000e+00,\n",
       "           1.3335e-04,  1.0000e+00],\n",
       "         [ 9.0930e-01, -4.1615e-01,  9.9748e-01,  ...,  1.0000e+00,\n",
       "           2.6670e-04,  1.0000e+00],\n",
       "         ...,\n",
       "         [ 4.2017e-01,  9.0745e-01, -3.1822e-01,  ...,  1.0000e+00,\n",
       "           1.7336e-03,  1.0000e+00],\n",
       "         [ 9.9061e-01,  1.3674e-01, -8.7899e-01,  ...,  1.0000e+00,\n",
       "           1.8669e-03,  1.0000e+00],\n",
       "         [ 6.5029e-01, -7.5969e-01, -9.6821e-01,  ...,  1.0000e+00,\n",
       "           2.0003e-03,  1.0000e+00]],\n",
       "\n",
       "        [[ 0.0000e+00,  1.0000e+00,  0.0000e+00,  ...,  1.0000e+00,\n",
       "           0.0000e+00,  1.0000e+00],\n",
       "         [ 8.4147e-01,  5.4030e-01,  6.8156e-01,  ...,  1.0000e+00,\n",
       "           1.3335e-04,  1.0000e+00],\n",
       "         [ 9.0930e-01, -4.1615e-01,  9.9748e-01,  ...,  1.0000e+00,\n",
       "           2.6670e-04,  1.0000e+00],\n",
       "         ...,\n",
       "         [ 4.2017e-01,  9.0745e-01, -3.1822e-01,  ...,  1.0000e+00,\n",
       "           1.7336e-03,  1.0000e+00],\n",
       "         [ 9.9061e-01,  1.3674e-01, -8.7899e-01,  ...,  1.0000e+00,\n",
       "           1.8669e-03,  1.0000e+00],\n",
       "         [ 6.5029e-01, -7.5969e-01, -9.6821e-01,  ...,  1.0000e+00,\n",
       "           2.0003e-03,  1.0000e+00]],\n",
       "\n",
       "        [[ 0.0000e+00,  1.0000e+00,  0.0000e+00,  ...,  1.0000e+00,\n",
       "           0.0000e+00,  1.0000e+00],\n",
       "         [ 8.4147e-01,  5.4030e-01,  6.8156e-01,  ...,  1.0000e+00,\n",
       "           1.3335e-04,  1.0000e+00],\n",
       "         [ 9.0930e-01, -4.1615e-01,  9.9748e-01,  ...,  1.0000e+00,\n",
       "           2.6670e-04,  1.0000e+00],\n",
       "         ...,\n",
       "         [ 4.2017e-01,  9.0745e-01, -3.1822e-01,  ...,  1.0000e+00,\n",
       "           1.7336e-03,  1.0000e+00],\n",
       "         [ 9.9061e-01,  1.3674e-01, -8.7899e-01,  ...,  1.0000e+00,\n",
       "           1.8669e-03,  1.0000e+00],\n",
       "         [ 6.5029e-01, -7.5969e-01, -9.6821e-01,  ...,  1.0000e+00,\n",
       "           2.0003e-03,  1.0000e+00]]])"
      ]
     },
     "execution_count": 50,
     "metadata": {},
     "output_type": "execute_result"
    }
   ],
   "source": [
    "position_encoding_lookup_table"
   ]
  },
  {
   "cell_type": "markdown",
   "id": "b90ad248-2c4a-464b-8b3d-64df2d8a8a4a",
   "metadata": {},
   "source": [
    "## 增加位置编码"
   ]
  },
  {
   "cell_type": "code",
   "execution_count": 51,
   "id": "d0620843-cd29-4781-a9bc-663b947fee46",
   "metadata": {
    "tags": []
   },
   "outputs": [],
   "source": [
    "x = x_batch_embedding + position_encoding_lookup_table"
   ]
  },
  {
   "cell_type": "code",
   "execution_count": 52,
   "id": "56edc1bf-7287-4c25-a25f-fd68c7fab578",
   "metadata": {
    "tags": []
   },
   "outputs": [
    {
     "data": {
      "text/plain": [
       "tensor([[[ 1.0707,  0.5532, -0.8520,  ...,  1.0923,  0.1597,  0.0484],\n",
       "         [ 0.8752,  1.9420, -0.7232,  ..., -0.2651,  0.0347,  1.0758],\n",
       "         [ 1.9779,  0.0663,  1.7221,  ...,  1.0688, -1.6040,  0.6031],\n",
       "         ...,\n",
       "         [ 0.2948,  2.4487, -0.3909,  ...,  1.6935,  1.0662,  2.0084],\n",
       "         [-0.8044, -0.1828, -1.1743,  ...,  2.0053, -0.1777,  1.4493],\n",
       "         [ 2.3263, -0.5895, -1.1046,  ...,  1.1556, -0.3709,  0.3175]],\n",
       "\n",
       "        [[-0.5167,  1.8715,  0.2613,  ...,  0.0690, -0.4571,  0.5418],\n",
       "         [ 2.0814,  2.6692, -0.6760,  ...,  1.9277,  0.5228,  0.9006],\n",
       "         [ 0.2260, -0.4509, -0.3054,  ...,  1.2252, -0.9635,  1.1589],\n",
       "         ...,\n",
       "         [-1.1115,  2.2567,  1.1279,  ...,  1.0987,  0.3934,  0.5482],\n",
       "         [ 1.4284,  0.6221, -1.7557,  ...,  0.5877, -0.0207, -0.7436],\n",
       "         [ 1.3829, -0.3048, -0.9872,  ..., -0.2537, -1.1108,  0.3446]],\n",
       "\n",
       "        [[-0.5713,  1.5345,  0.8107,  ...,  1.3134, -0.1900,  0.2053],\n",
       "         [ 1.5313,  0.1717,  0.3994,  ...,  0.1530, -0.2295,  1.7614],\n",
       "         [ 1.1120, -0.1763, -0.7084,  ...,  0.9953, -0.2043,  2.4563],\n",
       "         ...,\n",
       "         [ 1.2126,  2.0402,  1.0645,  ...,  1.8277, -0.2595,  0.6749],\n",
       "         [-0.1676, -0.0912, -1.9024,  ...,  1.9180, -0.8623,  1.8174],\n",
       "         [-0.7603, -2.2507, -1.6852,  ...,  0.6858, -2.2270,  0.2690]],\n",
       "\n",
       "        [[ 1.6650,  2.5911, -0.7094,  ...,  0.6022,  0.7564,  1.0198],\n",
       "         [ 2.0758,  0.5777,  1.3398,  ...,  1.3021, -1.0568,  0.8402],\n",
       "         [ 2.9850, -2.1707, -1.5063,  ...,  0.8279,  0.1633,  0.9283],\n",
       "         ...,\n",
       "         [ 0.0796,  1.7179,  1.6113,  ...,  0.8628, -1.5519,  2.1492],\n",
       "         [ 0.4193,  0.6712, -0.0683,  ...,  1.3134, -0.1881,  0.2053],\n",
       "         [ 1.8847, -0.7223, -0.3099,  ...,  1.3021, -1.0550,  0.8402]]],\n",
       "       grad_fn=<AddBackward0>)"
      ]
     },
     "execution_count": 52,
     "metadata": {},
     "output_type": "execute_result"
    }
   ],
   "source": [
    "x"
   ]
  },
  {
   "cell_type": "code",
   "execution_count": 53,
   "id": "b9d6bd23-18c6-4690-affa-347f5bfbdbce",
   "metadata": {
    "tags": []
   },
   "outputs": [],
   "source": [
    "y = y_batch_embedding + position_encoding_lookup_table"
   ]
  },
  {
   "cell_type": "code",
   "execution_count": 54,
   "id": "e5783eac-7a01-47be-8c57-117a92af8074",
   "metadata": {
    "tags": []
   },
   "outputs": [
    {
     "data": {
      "text/plain": [
       "tensor([[[ 0.0337,  2.4017, -1.4048,  ..., -0.2651,  0.0346,  1.0758],\n",
       "         [ 1.9101,  1.0228,  1.4062,  ...,  1.0688, -1.6041,  0.6031],\n",
       "         [ 2.0754,  0.4042,  2.2460,  ...,  1.4674,  0.1222,  1.8013],\n",
       "         ...,\n",
       "         [-1.3748,  0.5879, -0.6135,  ...,  2.0053, -0.1779,  1.4493],\n",
       "         [ 2.6667,  0.3069, -1.0154,  ...,  1.1556, -0.3711,  0.3175],\n",
       "         [-0.0609, -2.5063,  0.8733,  ...,  0.3753,  0.4652,  0.0864]],\n",
       "\n",
       "        [[ 1.2399,  3.1289, -1.3575,  ...,  1.9277,  0.5227,  0.9006],\n",
       "         [ 0.1582,  0.5056, -0.6213,  ...,  1.2252, -0.9637,  1.1589],\n",
       "         [ 0.3071, -1.2332,  2.3207,  ...,  0.4757, -0.3268,  1.7862],\n",
       "         ...,\n",
       "         [ 0.8579,  1.3928, -1.1949,  ...,  0.5877, -0.0209, -0.7436],\n",
       "         [ 1.7232,  0.5916, -0.8980,  ..., -0.2537, -1.1109,  0.3446],\n",
       "         [ 0.0790, -0.2252, -0.1575,  ...,  1.3134, -0.1880,  0.2053]],\n",
       "\n",
       "        [[ 0.6898,  0.6314, -0.2822,  ...,  0.1530, -0.2296,  1.7614],\n",
       "         [ 1.0442,  0.7802, -1.0243,  ...,  0.9953, -0.2044,  2.4563],\n",
       "         [ 0.3071, -1.2332,  2.3207,  ...,  0.4757, -0.3268,  1.7862],\n",
       "         ...,\n",
       "         [-0.7381,  0.6795, -1.3416,  ...,  1.9180, -0.8624,  1.8174],\n",
       "         [-0.4200, -1.3543, -1.5960,  ...,  0.6858, -2.2271,  0.2690],\n",
       "         [ 0.8100, -2.5172, -0.5947,  ...,  2.4697,  0.0420, -0.0278]],\n",
       "\n",
       "        [[ 1.2344,  1.0374,  0.6583,  ...,  1.3021, -1.0570,  0.8402],\n",
       "         [ 2.9172, -1.2142, -1.8222,  ...,  0.8279,  0.1631,  0.9283],\n",
       "         [ 1.9710, -3.6159,  0.4627,  ...,  1.6995,  1.1772,  0.5368],\n",
       "         ...,\n",
       "         [-0.1512,  1.4419,  0.4925,  ...,  1.3134, -0.1882,  0.2053],\n",
       "         [ 2.2250,  0.1742, -0.2207,  ...,  1.3021, -1.0551,  0.8402],\n",
       "         [ 0.1783, -1.3343, -0.4397,  ...,  1.8219, -0.2716,  0.1032]]],\n",
       "       grad_fn=<AddBackward0>)"
      ]
     },
     "execution_count": 54,
     "metadata": {},
     "output_type": "execute_result"
    }
   ],
   "source": [
    "y"
   ]
  },
  {
   "cell_type": "code",
   "execution_count": 55,
   "id": "e251f280-01d9-4fe0-b0b7-08636f0ab79c",
   "metadata": {
    "tags": []
   },
   "outputs": [
    {
     "data": {
      "text/plain": [
       "(torch.Size([4, 16, 64]), torch.Size([4, 16, 64]))"
      ]
     },
     "execution_count": 55,
     "metadata": {},
     "output_type": "execute_result"
    }
   ],
   "source": [
    "x.shape, y.shape"
   ]
  },
  {
   "cell_type": "code",
   "execution_count": 56,
   "id": "b3c63241-a63b-4b12-b2db-d370642066c2",
   "metadata": {
    "tags": []
   },
   "outputs": [
    {
     "data": {
      "text/html": [
       "<div>\n",
       "<style scoped>\n",
       "    .dataframe tbody tr th:only-of-type {\n",
       "        vertical-align: middle;\n",
       "    }\n",
       "\n",
       "    .dataframe tbody tr th {\n",
       "        vertical-align: top;\n",
       "    }\n",
       "\n",
       "    .dataframe thead th {\n",
       "        text-align: right;\n",
       "    }\n",
       "</style>\n",
       "<table border=\"1\" class=\"dataframe\">\n",
       "  <thead>\n",
       "    <tr style=\"text-align: right;\">\n",
       "      <th></th>\n",
       "      <th>0</th>\n",
       "      <th>1</th>\n",
       "      <th>2</th>\n",
       "      <th>3</th>\n",
       "      <th>4</th>\n",
       "      <th>5</th>\n",
       "      <th>6</th>\n",
       "      <th>7</th>\n",
       "      <th>8</th>\n",
       "      <th>9</th>\n",
       "      <th>...</th>\n",
       "      <th>54</th>\n",
       "      <th>55</th>\n",
       "      <th>56</th>\n",
       "      <th>57</th>\n",
       "      <th>58</th>\n",
       "      <th>59</th>\n",
       "      <th>60</th>\n",
       "      <th>61</th>\n",
       "      <th>62</th>\n",
       "      <th>63</th>\n",
       "    </tr>\n",
       "  </thead>\n",
       "  <tbody>\n",
       "    <tr>\n",
       "      <th>0</th>\n",
       "      <td>1.070652</td>\n",
       "      <td>0.553198</td>\n",
       "      <td>-0.851963</td>\n",
       "      <td>-0.319861</td>\n",
       "      <td>-0.529040</td>\n",
       "      <td>0.942364</td>\n",
       "      <td>-0.637911</td>\n",
       "      <td>0.792380</td>\n",
       "      <td>0.857789</td>\n",
       "      <td>0.770201</td>\n",
       "      <td>...</td>\n",
       "      <td>0.254611</td>\n",
       "      <td>0.332331</td>\n",
       "      <td>0.721469</td>\n",
       "      <td>1.693290</td>\n",
       "      <td>0.873619</td>\n",
       "      <td>-0.152157</td>\n",
       "      <td>0.844965</td>\n",
       "      <td>1.092265</td>\n",
       "      <td>0.159677</td>\n",
       "      <td>0.048377</td>\n",
       "    </tr>\n",
       "    <tr>\n",
       "      <th>1</th>\n",
       "      <td>0.875163</td>\n",
       "      <td>1.942040</td>\n",
       "      <td>-0.723217</td>\n",
       "      <td>1.371266</td>\n",
       "      <td>2.521662</td>\n",
       "      <td>1.866796</td>\n",
       "      <td>-0.078784</td>\n",
       "      <td>1.216764</td>\n",
       "      <td>0.681742</td>\n",
       "      <td>1.561050</td>\n",
       "      <td>...</td>\n",
       "      <td>0.736463</td>\n",
       "      <td>0.446045</td>\n",
       "      <td>0.908376</td>\n",
       "      <td>1.090495</td>\n",
       "      <td>1.206476</td>\n",
       "      <td>1.519725</td>\n",
       "      <td>0.447973</td>\n",
       "      <td>-0.265075</td>\n",
       "      <td>0.034708</td>\n",
       "      <td>1.075806</td>\n",
       "    </tr>\n",
       "    <tr>\n",
       "      <th>2</th>\n",
       "      <td>1.977931</td>\n",
       "      <td>0.066348</td>\n",
       "      <td>1.722088</td>\n",
       "      <td>-0.834678</td>\n",
       "      <td>1.011282</td>\n",
       "      <td>1.033940</td>\n",
       "      <td>0.565909</td>\n",
       "      <td>0.394565</td>\n",
       "      <td>0.759725</td>\n",
       "      <td>0.969948</td>\n",
       "      <td>...</td>\n",
       "      <td>-0.933124</td>\n",
       "      <td>-0.626546</td>\n",
       "      <td>-1.571673</td>\n",
       "      <td>-0.002953</td>\n",
       "      <td>0.140017</td>\n",
       "      <td>-0.134487</td>\n",
       "      <td>-0.922008</td>\n",
       "      <td>1.068821</td>\n",
       "      <td>-1.603981</td>\n",
       "      <td>0.603122</td>\n",
       "    </tr>\n",
       "    <tr>\n",
       "      <th>3</th>\n",
       "      <td>1.307241</td>\n",
       "      <td>-0.169625</td>\n",
       "      <td>2.026830</td>\n",
       "      <td>1.179281</td>\n",
       "      <td>0.741384</td>\n",
       "      <td>-0.456651</td>\n",
       "      <td>1.210368</td>\n",
       "      <td>-0.120287</td>\n",
       "      <td>1.574893</td>\n",
       "      <td>0.543000</td>\n",
       "      <td>...</td>\n",
       "      <td>0.755719</td>\n",
       "      <td>-0.299773</td>\n",
       "      <td>1.435957</td>\n",
       "      <td>0.193814</td>\n",
       "      <td>-1.078188</td>\n",
       "      <td>0.248084</td>\n",
       "      <td>0.467280</td>\n",
       "      <td>1.467364</td>\n",
       "      <td>0.122304</td>\n",
       "      <td>1.801259</td>\n",
       "    </tr>\n",
       "    <tr>\n",
       "      <th>4</th>\n",
       "      <td>-1.179754</td>\n",
       "      <td>-0.649103</td>\n",
       "      <td>0.193952</td>\n",
       "      <td>-0.062931</td>\n",
       "      <td>1.547482</td>\n",
       "      <td>-0.580412</td>\n",
       "      <td>2.519892</td>\n",
       "      <td>1.524630</td>\n",
       "      <td>-0.282805</td>\n",
       "      <td>-1.636536</td>\n",
       "      <td>...</td>\n",
       "      <td>-0.686128</td>\n",
       "      <td>2.888756</td>\n",
       "      <td>0.379104</td>\n",
       "      <td>1.302801</td>\n",
       "      <td>-0.639535</td>\n",
       "      <td>0.322805</td>\n",
       "      <td>-0.314615</td>\n",
       "      <td>2.883026</td>\n",
       "      <td>2.323025</td>\n",
       "      <td>2.333615</td>\n",
       "    </tr>\n",
       "    <tr>\n",
       "      <th>5</th>\n",
       "      <td>-1.251513</td>\n",
       "      <td>-0.983003</td>\n",
       "      <td>0.315711</td>\n",
       "      <td>-2.662877</td>\n",
       "      <td>-0.477959</td>\n",
       "      <td>-2.529489</td>\n",
       "      <td>1.138389</td>\n",
       "      <td>1.163526</td>\n",
       "      <td>0.979777</td>\n",
       "      <td>2.072133</td>\n",
       "      <td>...</td>\n",
       "      <td>0.274205</td>\n",
       "      <td>1.914037</td>\n",
       "      <td>1.839754</td>\n",
       "      <td>-0.175969</td>\n",
       "      <td>-2.179759</td>\n",
       "      <td>1.569786</td>\n",
       "      <td>-0.948764</td>\n",
       "      <td>-0.457335</td>\n",
       "      <td>0.625957</td>\n",
       "      <td>2.535669</td>\n",
       "    </tr>\n",
       "    <tr>\n",
       "      <th>6</th>\n",
       "      <td>1.508204</td>\n",
       "      <td>1.013694</td>\n",
       "      <td>-1.311430</td>\n",
       "      <td>-0.237390</td>\n",
       "      <td>0.299233</td>\n",
       "      <td>-2.193677</td>\n",
       "      <td>0.935845</td>\n",
       "      <td>-1.332642</td>\n",
       "      <td>2.340673</td>\n",
       "      <td>-1.439728</td>\n",
       "      <td>...</td>\n",
       "      <td>-0.252182</td>\n",
       "      <td>0.123048</td>\n",
       "      <td>0.162652</td>\n",
       "      <td>0.611883</td>\n",
       "      <td>-0.036612</td>\n",
       "      <td>1.796330</td>\n",
       "      <td>0.582246</td>\n",
       "      <td>0.250248</td>\n",
       "      <td>-0.281787</td>\n",
       "      <td>-0.712890</td>\n",
       "    </tr>\n",
       "    <tr>\n",
       "      <th>7</th>\n",
       "      <td>0.537846</td>\n",
       "      <td>0.397206</td>\n",
       "      <td>-0.894905</td>\n",
       "      <td>0.617004</td>\n",
       "      <td>-0.452340</td>\n",
       "      <td>-0.881734</td>\n",
       "      <td>1.133551</td>\n",
       "      <td>-0.995513</td>\n",
       "      <td>1.049162</td>\n",
       "      <td>-0.262692</td>\n",
       "      <td>...</td>\n",
       "      <td>1.051534</td>\n",
       "      <td>1.186461</td>\n",
       "      <td>-1.067721</td>\n",
       "      <td>1.258784</td>\n",
       "      <td>0.967621</td>\n",
       "      <td>0.361644</td>\n",
       "      <td>0.971150</td>\n",
       "      <td>0.258724</td>\n",
       "      <td>0.065297</td>\n",
       "      <td>-0.884608</td>\n",
       "    </tr>\n",
       "    <tr>\n",
       "      <th>8</th>\n",
       "      <td>0.429165</td>\n",
       "      <td>0.324527</td>\n",
       "      <td>0.591671</td>\n",
       "      <td>0.749725</td>\n",
       "      <td>-0.737783</td>\n",
       "      <td>0.377465</td>\n",
       "      <td>0.041821</td>\n",
       "      <td>-0.579644</td>\n",
       "      <td>2.293993</td>\n",
       "      <td>1.157515</td>\n",
       "      <td>...</td>\n",
       "      <td>1.448025</td>\n",
       "      <td>1.539738</td>\n",
       "      <td>-2.641353</td>\n",
       "      <td>0.269691</td>\n",
       "      <td>-1.444083</td>\n",
       "      <td>0.611037</td>\n",
       "      <td>0.326495</td>\n",
       "      <td>1.737991</td>\n",
       "      <td>-0.541025</td>\n",
       "      <td>1.327647</td>\n",
       "    </tr>\n",
       "    <tr>\n",
       "      <th>9</th>\n",
       "      <td>2.077146</td>\n",
       "      <td>0.679966</td>\n",
       "      <td>-0.260202</td>\n",
       "      <td>0.684418</td>\n",
       "      <td>-1.286441</td>\n",
       "      <td>0.172257</td>\n",
       "      <td>-2.562258</td>\n",
       "      <td>0.396132</td>\n",
       "      <td>-0.075899</td>\n",
       "      <td>-1.021532</td>\n",
       "      <td>...</td>\n",
       "      <td>-1.753314</td>\n",
       "      <td>4.348763</td>\n",
       "      <td>0.895697</td>\n",
       "      <td>-0.445916</td>\n",
       "      <td>0.474179</td>\n",
       "      <td>2.449888</td>\n",
       "      <td>-0.534662</td>\n",
       "      <td>0.602241</td>\n",
       "      <td>0.757603</td>\n",
       "      <td>1.019817</td>\n",
       "    </tr>\n",
       "    <tr>\n",
       "      <th>10</th>\n",
       "      <td>0.690344</td>\n",
       "      <td>-0.801638</td>\n",
       "      <td>1.595897</td>\n",
       "      <td>2.193506</td>\n",
       "      <td>-0.280326</td>\n",
       "      <td>1.449255</td>\n",
       "      <td>-2.374706</td>\n",
       "      <td>-2.500581</td>\n",
       "      <td>-1.306108</td>\n",
       "      <td>0.372417</td>\n",
       "      <td>...</td>\n",
       "      <td>0.611766</td>\n",
       "      <td>0.872224</td>\n",
       "      <td>0.237814</td>\n",
       "      <td>-0.580865</td>\n",
       "      <td>0.316641</td>\n",
       "      <td>0.248648</td>\n",
       "      <td>0.234145</td>\n",
       "      <td>1.302146</td>\n",
       "      <td>-1.055635</td>\n",
       "      <td>0.840174</td>\n",
       "    </tr>\n",
       "    <tr>\n",
       "      <th>11</th>\n",
       "      <td>1.075712</td>\n",
       "      <td>-1.750086</td>\n",
       "      <td>-1.580751</td>\n",
       "      <td>-0.665743</td>\n",
       "      <td>-1.401591</td>\n",
       "      <td>0.658768</td>\n",
       "      <td>-1.790484</td>\n",
       "      <td>1.262968</td>\n",
       "      <td>-0.113035</td>\n",
       "      <td>-2.210076</td>\n",
       "      <td>...</td>\n",
       "      <td>1.071968</td>\n",
       "      <td>0.968651</td>\n",
       "      <td>0.984774</td>\n",
       "      <td>-0.135069</td>\n",
       "      <td>-0.180528</td>\n",
       "      <td>0.261925</td>\n",
       "      <td>-0.808761</td>\n",
       "      <td>0.827898</td>\n",
       "      <td>0.164457</td>\n",
       "      <td>0.928301</td>\n",
       "    </tr>\n",
       "    <tr>\n",
       "      <th>12</th>\n",
       "      <td>0.525132</td>\n",
       "      <td>-2.355932</td>\n",
       "      <td>-0.121540</td>\n",
       "      <td>-0.659613</td>\n",
       "      <td>-1.175020</td>\n",
       "      <td>1.459890</td>\n",
       "      <td>-1.621483</td>\n",
       "      <td>0.053639</td>\n",
       "      <td>-1.896893</td>\n",
       "      <td>-0.318233</td>\n",
       "      <td>...</td>\n",
       "      <td>0.944607</td>\n",
       "      <td>2.172968</td>\n",
       "      <td>1.531854</td>\n",
       "      <td>1.251523</td>\n",
       "      <td>-0.111363</td>\n",
       "      <td>3.156958</td>\n",
       "      <td>1.162127</td>\n",
       "      <td>1.699504</td>\n",
       "      <td>1.178508</td>\n",
       "      <td>0.536822</td>\n",
       "    </tr>\n",
       "    <tr>\n",
       "      <th>13</th>\n",
       "      <td>0.294818</td>\n",
       "      <td>2.448684</td>\n",
       "      <td>-0.390934</td>\n",
       "      <td>-2.486654</td>\n",
       "      <td>1.328828</td>\n",
       "      <td>0.311806</td>\n",
       "      <td>0.662942</td>\n",
       "      <td>1.363168</td>\n",
       "      <td>-2.569116</td>\n",
       "      <td>-2.422494</td>\n",
       "      <td>...</td>\n",
       "      <td>-1.150143</td>\n",
       "      <td>0.453537</td>\n",
       "      <td>0.841275</td>\n",
       "      <td>-0.329736</td>\n",
       "      <td>-0.886607</td>\n",
       "      <td>0.783842</td>\n",
       "      <td>-0.021199</td>\n",
       "      <td>1.693498</td>\n",
       "      <td>1.066238</td>\n",
       "      <td>2.008403</td>\n",
       "    </tr>\n",
       "    <tr>\n",
       "      <th>14</th>\n",
       "      <td>-0.804375</td>\n",
       "      <td>-0.182784</td>\n",
       "      <td>-1.174287</td>\n",
       "      <td>-0.548801</td>\n",
       "      <td>-1.286413</td>\n",
       "      <td>2.024663</td>\n",
       "      <td>-0.768152</td>\n",
       "      <td>0.810993</td>\n",
       "      <td>-1.137065</td>\n",
       "      <td>-0.841661</td>\n",
       "      <td>...</td>\n",
       "      <td>1.253832</td>\n",
       "      <td>0.107596</td>\n",
       "      <td>0.147993</td>\n",
       "      <td>0.773378</td>\n",
       "      <td>0.361454</td>\n",
       "      <td>0.769264</td>\n",
       "      <td>-0.058503</td>\n",
       "      <td>2.005260</td>\n",
       "      <td>-0.177740</td>\n",
       "      <td>1.449325</td>\n",
       "    </tr>\n",
       "    <tr>\n",
       "      <th>15</th>\n",
       "      <td>2.326343</td>\n",
       "      <td>-0.589503</td>\n",
       "      <td>-1.104575</td>\n",
       "      <td>0.089318</td>\n",
       "      <td>0.528964</td>\n",
       "      <td>-1.802284</td>\n",
       "      <td>-0.469518</td>\n",
       "      <td>0.984684</td>\n",
       "      <td>-1.863764</td>\n",
       "      <td>0.582387</td>\n",
       "      <td>...</td>\n",
       "      <td>1.729281</td>\n",
       "      <td>-0.301007</td>\n",
       "      <td>1.317402</td>\n",
       "      <td>0.045661</td>\n",
       "      <td>-1.162019</td>\n",
       "      <td>0.718742</td>\n",
       "      <td>0.639162</td>\n",
       "      <td>1.155555</td>\n",
       "      <td>-0.370919</td>\n",
       "      <td>0.317545</td>\n",
       "    </tr>\n",
       "  </tbody>\n",
       "</table>\n",
       "<p>16 rows × 64 columns</p>\n",
       "</div>"
      ],
      "text/plain": [
       "          0         1         2         3         4         5         6   \\\n",
       "0   1.070652  0.553198 -0.851963 -0.319861 -0.529040  0.942364 -0.637911   \n",
       "1   0.875163  1.942040 -0.723217  1.371266  2.521662  1.866796 -0.078784   \n",
       "2   1.977931  0.066348  1.722088 -0.834678  1.011282  1.033940  0.565909   \n",
       "3   1.307241 -0.169625  2.026830  1.179281  0.741384 -0.456651  1.210368   \n",
       "4  -1.179754 -0.649103  0.193952 -0.062931  1.547482 -0.580412  2.519892   \n",
       "5  -1.251513 -0.983003  0.315711 -2.662877 -0.477959 -2.529489  1.138389   \n",
       "6   1.508204  1.013694 -1.311430 -0.237390  0.299233 -2.193677  0.935845   \n",
       "7   0.537846  0.397206 -0.894905  0.617004 -0.452340 -0.881734  1.133551   \n",
       "8   0.429165  0.324527  0.591671  0.749725 -0.737783  0.377465  0.041821   \n",
       "9   2.077146  0.679966 -0.260202  0.684418 -1.286441  0.172257 -2.562258   \n",
       "10  0.690344 -0.801638  1.595897  2.193506 -0.280326  1.449255 -2.374706   \n",
       "11  1.075712 -1.750086 -1.580751 -0.665743 -1.401591  0.658768 -1.790484   \n",
       "12  0.525132 -2.355932 -0.121540 -0.659613 -1.175020  1.459890 -1.621483   \n",
       "13  0.294818  2.448684 -0.390934 -2.486654  1.328828  0.311806  0.662942   \n",
       "14 -0.804375 -0.182784 -1.174287 -0.548801 -1.286413  2.024663 -0.768152   \n",
       "15  2.326343 -0.589503 -1.104575  0.089318  0.528964 -1.802284 -0.469518   \n",
       "\n",
       "          7         8         9   ...        54        55        56        57  \\\n",
       "0   0.792380  0.857789  0.770201  ...  0.254611  0.332331  0.721469  1.693290   \n",
       "1   1.216764  0.681742  1.561050  ...  0.736463  0.446045  0.908376  1.090495   \n",
       "2   0.394565  0.759725  0.969948  ... -0.933124 -0.626546 -1.571673 -0.002953   \n",
       "3  -0.120287  1.574893  0.543000  ...  0.755719 -0.299773  1.435957  0.193814   \n",
       "4   1.524630 -0.282805 -1.636536  ... -0.686128  2.888756  0.379104  1.302801   \n",
       "5   1.163526  0.979777  2.072133  ...  0.274205  1.914037  1.839754 -0.175969   \n",
       "6  -1.332642  2.340673 -1.439728  ... -0.252182  0.123048  0.162652  0.611883   \n",
       "7  -0.995513  1.049162 -0.262692  ...  1.051534  1.186461 -1.067721  1.258784   \n",
       "8  -0.579644  2.293993  1.157515  ...  1.448025  1.539738 -2.641353  0.269691   \n",
       "9   0.396132 -0.075899 -1.021532  ... -1.753314  4.348763  0.895697 -0.445916   \n",
       "10 -2.500581 -1.306108  0.372417  ...  0.611766  0.872224  0.237814 -0.580865   \n",
       "11  1.262968 -0.113035 -2.210076  ...  1.071968  0.968651  0.984774 -0.135069   \n",
       "12  0.053639 -1.896893 -0.318233  ...  0.944607  2.172968  1.531854  1.251523   \n",
       "13  1.363168 -2.569116 -2.422494  ... -1.150143  0.453537  0.841275 -0.329736   \n",
       "14  0.810993 -1.137065 -0.841661  ...  1.253832  0.107596  0.147993  0.773378   \n",
       "15  0.984684 -1.863764  0.582387  ...  1.729281 -0.301007  1.317402  0.045661   \n",
       "\n",
       "          58        59        60        61        62        63  \n",
       "0   0.873619 -0.152157  0.844965  1.092265  0.159677  0.048377  \n",
       "1   1.206476  1.519725  0.447973 -0.265075  0.034708  1.075806  \n",
       "2   0.140017 -0.134487 -0.922008  1.068821 -1.603981  0.603122  \n",
       "3  -1.078188  0.248084  0.467280  1.467364  0.122304  1.801259  \n",
       "4  -0.639535  0.322805 -0.314615  2.883026  2.323025  2.333615  \n",
       "5  -2.179759  1.569786 -0.948764 -0.457335  0.625957  2.535669  \n",
       "6  -0.036612  1.796330  0.582246  0.250248 -0.281787 -0.712890  \n",
       "7   0.967621  0.361644  0.971150  0.258724  0.065297 -0.884608  \n",
       "8  -1.444083  0.611037  0.326495  1.737991 -0.541025  1.327647  \n",
       "9   0.474179  2.449888 -0.534662  0.602241  0.757603  1.019817  \n",
       "10  0.316641  0.248648  0.234145  1.302146 -1.055635  0.840174  \n",
       "11 -0.180528  0.261925 -0.808761  0.827898  0.164457  0.928301  \n",
       "12 -0.111363  3.156958  1.162127  1.699504  1.178508  0.536822  \n",
       "13 -0.886607  0.783842 -0.021199  1.693498  1.066238  2.008403  \n",
       "14  0.361454  0.769264 -0.058503  2.005260 -0.177740  1.449325  \n",
       "15 -1.162019  0.718742  0.639162  1.155555 -0.370919  0.317545  \n",
       "\n",
       "[16 rows x 64 columns]"
      ]
     },
     "execution_count": 56,
     "metadata": {},
     "output_type": "execute_result"
    }
   ],
   "source": [
    "pd.DataFrame(x[0].detach().numpy())"
   ]
  },
  {
   "cell_type": "code",
   "execution_count": 57,
   "id": "9ece05aa-ad35-40c1-843e-370a13ddc910",
   "metadata": {},
   "outputs": [
    {
     "data": {
      "text/html": [
       "<div>\n",
       "<style scoped>\n",
       "    .dataframe tbody tr th:only-of-type {\n",
       "        vertical-align: middle;\n",
       "    }\n",
       "\n",
       "    .dataframe tbody tr th {\n",
       "        vertical-align: top;\n",
       "    }\n",
       "\n",
       "    .dataframe thead th {\n",
       "        text-align: right;\n",
       "    }\n",
       "</style>\n",
       "<table border=\"1\" class=\"dataframe\">\n",
       "  <thead>\n",
       "    <tr style=\"text-align: right;\">\n",
       "      <th></th>\n",
       "      <th>0</th>\n",
       "      <th>1</th>\n",
       "      <th>2</th>\n",
       "      <th>3</th>\n",
       "      <th>4</th>\n",
       "      <th>5</th>\n",
       "      <th>6</th>\n",
       "      <th>7</th>\n",
       "      <th>8</th>\n",
       "      <th>9</th>\n",
       "      <th>...</th>\n",
       "      <th>54</th>\n",
       "      <th>55</th>\n",
       "      <th>56</th>\n",
       "      <th>57</th>\n",
       "      <th>58</th>\n",
       "      <th>59</th>\n",
       "      <th>60</th>\n",
       "      <th>61</th>\n",
       "      <th>62</th>\n",
       "      <th>63</th>\n",
       "    </tr>\n",
       "  </thead>\n",
       "  <tbody>\n",
       "    <tr>\n",
       "      <th>0</th>\n",
       "      <td>0.033692</td>\n",
       "      <td>2.401738</td>\n",
       "      <td>-1.404779</td>\n",
       "      <td>1.639505</td>\n",
       "      <td>1.988493</td>\n",
       "      <td>2.020787</td>\n",
       "      <td>-0.488093</td>\n",
       "      <td>1.304368</td>\n",
       "      <td>0.370758</td>\n",
       "      <td>1.610635</td>\n",
       "      <td>...</td>\n",
       "      <td>0.736042</td>\n",
       "      <td>0.446045</td>\n",
       "      <td>0.908060</td>\n",
       "      <td>1.090495</td>\n",
       "      <td>1.206239</td>\n",
       "      <td>1.519725</td>\n",
       "      <td>0.447795</td>\n",
       "      <td>-0.265075</td>\n",
       "      <td>0.034574</td>\n",
       "      <td>1.075806</td>\n",
       "    </tr>\n",
       "    <tr>\n",
       "      <th>1</th>\n",
       "      <td>1.910105</td>\n",
       "      <td>1.022797</td>\n",
       "      <td>1.406169</td>\n",
       "      <td>-0.173865</td>\n",
       "      <td>0.642320</td>\n",
       "      <td>1.448486</td>\n",
       "      <td>0.228314</td>\n",
       "      <td>0.642029</td>\n",
       "      <td>0.479582</td>\n",
       "      <td>1.113785</td>\n",
       "      <td>...</td>\n",
       "      <td>-0.933546</td>\n",
       "      <td>-0.626546</td>\n",
       "      <td>-1.571990</td>\n",
       "      <td>-0.002953</td>\n",
       "      <td>0.139780</td>\n",
       "      <td>-0.134487</td>\n",
       "      <td>-0.922185</td>\n",
       "      <td>1.068822</td>\n",
       "      <td>-1.604115</td>\n",
       "      <td>0.603122</td>\n",
       "    </tr>\n",
       "    <tr>\n",
       "      <th>2</th>\n",
       "      <td>2.075419</td>\n",
       "      <td>0.404220</td>\n",
       "      <td>2.246038</td>\n",
       "      <td>1.878156</td>\n",
       "      <td>0.650261</td>\n",
       "      <td>0.090778</td>\n",
       "      <td>1.003637</td>\n",
       "      <td>0.243678</td>\n",
       "      <td>1.353371</td>\n",
       "      <td>0.766825</td>\n",
       "      <td>...</td>\n",
       "      <td>0.755298</td>\n",
       "      <td>-0.299773</td>\n",
       "      <td>1.435641</td>\n",
       "      <td>0.193814</td>\n",
       "      <td>-1.078425</td>\n",
       "      <td>0.248084</td>\n",
       "      <td>0.467102</td>\n",
       "      <td>1.467364</td>\n",
       "      <td>0.122171</td>\n",
       "      <td>1.801259</td>\n",
       "    </tr>\n",
       "    <tr>\n",
       "      <th>3</th>\n",
       "      <td>-0.281832</td>\n",
       "      <td>-0.985452</td>\n",
       "      <td>0.830685</td>\n",
       "      <td>0.299075</td>\n",
       "      <td>1.762264</td>\n",
       "      <td>-0.068699</td>\n",
       "      <td>2.480245</td>\n",
       "      <td>1.941327</td>\n",
       "      <td>-0.423737</td>\n",
       "      <td>-1.354920</td>\n",
       "      <td>...</td>\n",
       "      <td>-0.686550</td>\n",
       "      <td>2.888757</td>\n",
       "      <td>0.378788</td>\n",
       "      <td>1.302802</td>\n",
       "      <td>-0.639772</td>\n",
       "      <td>0.322806</td>\n",
       "      <td>-0.314792</td>\n",
       "      <td>2.883026</td>\n",
       "      <td>2.322892</td>\n",
       "      <td>2.333615</td>\n",
       "    </tr>\n",
       "    <tr>\n",
       "      <th>4</th>\n",
       "      <td>-1.049392</td>\n",
       "      <td>-1.920309</td>\n",
       "      <td>1.028377</td>\n",
       "      <td>-2.831948</td>\n",
       "      <td>-0.023422</td>\n",
       "      <td>-2.211089</td>\n",
       "      <td>1.272774</td>\n",
       "      <td>1.559946</td>\n",
       "      <td>0.933411</td>\n",
       "      <td>2.383613</td>\n",
       "      <td>...</td>\n",
       "      <td>0.273783</td>\n",
       "      <td>1.914038</td>\n",
       "      <td>1.839438</td>\n",
       "      <td>-0.175968</td>\n",
       "      <td>-2.179996</td>\n",
       "      <td>1.569786</td>\n",
       "      <td>-0.948942</td>\n",
       "      <td>-0.457335</td>\n",
       "      <td>0.625824</td>\n",
       "      <td>2.535669</td>\n",
       "    </tr>\n",
       "    <tr>\n",
       "      <th>5</th>\n",
       "      <td>0.828695</td>\n",
       "      <td>0.337186</td>\n",
       "      <td>-0.905161</td>\n",
       "      <td>-0.846835</td>\n",
       "      <td>0.853536</td>\n",
       "      <td>-2.166653</td>\n",
       "      <td>1.220716</td>\n",
       "      <td>-1.025955</td>\n",
       "      <td>2.393471</td>\n",
       "      <td>-1.129274</td>\n",
       "      <td>...</td>\n",
       "      <td>-0.252604</td>\n",
       "      <td>0.123049</td>\n",
       "      <td>0.162336</td>\n",
       "      <td>0.611883</td>\n",
       "      <td>-0.036850</td>\n",
       "      <td>1.796330</td>\n",
       "      <td>0.582068</td>\n",
       "      <td>0.250248</td>\n",
       "      <td>-0.281921</td>\n",
       "      <td>-0.712890</td>\n",
       "    </tr>\n",
       "    <tr>\n",
       "      <th>6</th>\n",
       "      <td>-0.398556</td>\n",
       "      <td>0.603474</td>\n",
       "      <td>-1.012988</td>\n",
       "      <td>-0.105862</td>\n",
       "      <td>0.031014</td>\n",
       "      <td>-1.154408</td>\n",
       "      <td>1.518996</td>\n",
       "      <td>-0.832293</td>\n",
       "      <td>1.195889</td>\n",
       "      <td>0.015949</td>\n",
       "      <td>...</td>\n",
       "      <td>1.051112</td>\n",
       "      <td>1.186463</td>\n",
       "      <td>-1.068037</td>\n",
       "      <td>1.258785</td>\n",
       "      <td>0.967384</td>\n",
       "      <td>0.361645</td>\n",
       "      <td>0.970972</td>\n",
       "      <td>0.258725</td>\n",
       "      <td>0.065164</td>\n",
       "      <td>-0.884608</td>\n",
       "    </tr>\n",
       "    <tr>\n",
       "      <th>7</th>\n",
       "      <td>0.096793</td>\n",
       "      <td>1.223930</td>\n",
       "      <td>0.012586</td>\n",
       "      <td>0.301241</td>\n",
       "      <td>-0.474242</td>\n",
       "      <td>-0.110929</td>\n",
       "      <td>0.460306</td>\n",
       "      <td>-0.588488</td>\n",
       "      <td>2.520097</td>\n",
       "      <td>1.376710</td>\n",
       "      <td>...</td>\n",
       "      <td>1.447603</td>\n",
       "      <td>1.539740</td>\n",
       "      <td>-2.641670</td>\n",
       "      <td>0.269692</td>\n",
       "      <td>-1.444320</td>\n",
       "      <td>0.611038</td>\n",
       "      <td>0.326317</td>\n",
       "      <td>1.737991</td>\n",
       "      <td>-0.541158</td>\n",
       "      <td>1.327647</td>\n",
       "    </tr>\n",
       "    <tr>\n",
       "      <th>8</th>\n",
       "      <td>2.654386</td>\n",
       "      <td>1.445596</td>\n",
       "      <td>-0.989623</td>\n",
       "      <td>0.750917</td>\n",
       "      <td>-1.323880</td>\n",
       "      <td>-0.381440</td>\n",
       "      <td>-2.184054</td>\n",
       "      <td>0.216773</td>\n",
       "      <td>0.207160</td>\n",
       "      <td>-0.883520</td>\n",
       "      <td>...</td>\n",
       "      <td>-1.753736</td>\n",
       "      <td>4.348764</td>\n",
       "      <td>0.895381</td>\n",
       "      <td>-0.445915</td>\n",
       "      <td>0.473942</td>\n",
       "      <td>2.449888</td>\n",
       "      <td>-0.534840</td>\n",
       "      <td>0.602241</td>\n",
       "      <td>0.757469</td>\n",
       "      <td>1.019818</td>\n",
       "    </tr>\n",
       "    <tr>\n",
       "      <th>9</th>\n",
       "      <td>1.646483</td>\n",
       "      <td>-0.873697</td>\n",
       "      <td>1.107458</td>\n",
       "      <td>2.739313</td>\n",
       "      <td>-0.607212</td>\n",
       "      <td>1.000783</td>\n",
       "      <td>-2.103047</td>\n",
       "      <td>-2.819030</td>\n",
       "      <td>-0.994165</td>\n",
       "      <td>0.415559</td>\n",
       "      <td>...</td>\n",
       "      <td>0.611345</td>\n",
       "      <td>0.872226</td>\n",
       "      <td>0.237498</td>\n",
       "      <td>-0.580864</td>\n",
       "      <td>0.316403</td>\n",
       "      <td>0.248648</td>\n",
       "      <td>0.233967</td>\n",
       "      <td>1.302146</td>\n",
       "      <td>-1.055769</td>\n",
       "      <td>0.840174</td>\n",
       "    </tr>\n",
       "    <tr>\n",
       "      <th>10</th>\n",
       "      <td>1.531681</td>\n",
       "      <td>-2.593583</td>\n",
       "      <td>-1.566171</td>\n",
       "      <td>0.066559</td>\n",
       "      <td>-1.917252</td>\n",
       "      <td>0.453643</td>\n",
       "      <td>-1.672967</td>\n",
       "      <td>0.861223</td>\n",
       "      <td>0.196857</td>\n",
       "      <td>-2.266082</td>\n",
       "      <td>...</td>\n",
       "      <td>1.071546</td>\n",
       "      <td>0.968652</td>\n",
       "      <td>0.984457</td>\n",
       "      <td>-0.135068</td>\n",
       "      <td>-0.180765</td>\n",
       "      <td>0.261926</td>\n",
       "      <td>-0.808939</td>\n",
       "      <td>0.827899</td>\n",
       "      <td>0.164324</td>\n",
       "      <td>0.928302</td>\n",
       "    </tr>\n",
       "    <tr>\n",
       "      <th>11</th>\n",
       "      <td>0.061714</td>\n",
       "      <td>-3.195360</td>\n",
       "      <td>0.388238</td>\n",
       "      <td>-0.133681</td>\n",
       "      <td>-1.720639</td>\n",
       "      <td>1.561286</td>\n",
       "      <td>-1.678699</td>\n",
       "      <td>-0.361011</td>\n",
       "      <td>-1.619784</td>\n",
       "      <td>-0.467833</td>\n",
       "      <td>...</td>\n",
       "      <td>0.944185</td>\n",
       "      <td>2.172971</td>\n",
       "      <td>1.531538</td>\n",
       "      <td>1.251524</td>\n",
       "      <td>-0.111600</td>\n",
       "      <td>3.156958</td>\n",
       "      <td>1.161949</td>\n",
       "      <td>1.699504</td>\n",
       "      <td>1.178375</td>\n",
       "      <td>0.536823</td>\n",
       "    </tr>\n",
       "    <tr>\n",
       "      <th>12</th>\n",
       "      <td>-0.661922</td>\n",
       "      <td>2.385091</td>\n",
       "      <td>0.340557</td>\n",
       "      <td>-2.449242</td>\n",
       "      <td>0.921290</td>\n",
       "      <td>0.688495</td>\n",
       "      <td>0.441019</td>\n",
       "      <td>1.008263</td>\n",
       "      <td>-2.352271</td>\n",
       "      <td>-2.650853</td>\n",
       "      <td>...</td>\n",
       "      <td>-1.150565</td>\n",
       "      <td>0.453539</td>\n",
       "      <td>0.840959</td>\n",
       "      <td>-0.329735</td>\n",
       "      <td>-0.886844</td>\n",
       "      <td>0.783843</td>\n",
       "      <td>-0.021377</td>\n",
       "      <td>1.693499</td>\n",
       "      <td>1.066105</td>\n",
       "      <td>2.008404</td>\n",
       "    </tr>\n",
       "    <tr>\n",
       "      <th>13</th>\n",
       "      <td>-1.374815</td>\n",
       "      <td>0.587926</td>\n",
       "      <td>-0.613512</td>\n",
       "      <td>-1.019980</td>\n",
       "      <td>-1.430356</td>\n",
       "      <td>2.560632</td>\n",
       "      <td>-1.115901</td>\n",
       "      <td>0.578014</td>\n",
       "      <td>-1.001988</td>\n",
       "      <td>-1.126132</td>\n",
       "      <td>...</td>\n",
       "      <td>1.253411</td>\n",
       "      <td>0.107599</td>\n",
       "      <td>0.147676</td>\n",
       "      <td>0.773380</td>\n",
       "      <td>0.361216</td>\n",
       "      <td>0.769265</td>\n",
       "      <td>-0.058681</td>\n",
       "      <td>2.005260</td>\n",
       "      <td>-0.177873</td>\n",
       "      <td>1.449325</td>\n",
       "    </tr>\n",
       "    <tr>\n",
       "      <th>14</th>\n",
       "      <td>2.666662</td>\n",
       "      <td>0.306922</td>\n",
       "      <td>-1.015359</td>\n",
       "      <td>-0.637675</td>\n",
       "      <td>0.692949</td>\n",
       "      <td>-1.272105</td>\n",
       "      <td>-0.882162</td>\n",
       "      <td>0.914451</td>\n",
       "      <td>-1.823851</td>\n",
       "      <td>0.270015</td>\n",
       "      <td>...</td>\n",
       "      <td>1.728859</td>\n",
       "      <td>-0.301004</td>\n",
       "      <td>1.317086</td>\n",
       "      <td>0.045662</td>\n",
       "      <td>-1.162256</td>\n",
       "      <td>0.718743</td>\n",
       "      <td>0.638984</td>\n",
       "      <td>1.155556</td>\n",
       "      <td>-0.371052</td>\n",
       "      <td>0.317545</td>\n",
       "    </tr>\n",
       "    <tr>\n",
       "      <th>15</th>\n",
       "      <td>-0.060931</td>\n",
       "      <td>-2.506300</td>\n",
       "      <td>0.873304</td>\n",
       "      <td>0.244115</td>\n",
       "      <td>0.337659</td>\n",
       "      <td>-0.299649</td>\n",
       "      <td>-0.295802</td>\n",
       "      <td>1.619765</td>\n",
       "      <td>-0.263143</td>\n",
       "      <td>-1.683997</td>\n",
       "      <td>...</td>\n",
       "      <td>-0.385268</td>\n",
       "      <td>-0.650312</td>\n",
       "      <td>1.872524</td>\n",
       "      <td>0.893444</td>\n",
       "      <td>0.109210</td>\n",
       "      <td>0.335218</td>\n",
       "      <td>1.116893</td>\n",
       "      <td>0.375315</td>\n",
       "      <td>0.465249</td>\n",
       "      <td>0.086368</td>\n",
       "    </tr>\n",
       "  </tbody>\n",
       "</table>\n",
       "<p>16 rows × 64 columns</p>\n",
       "</div>"
      ],
      "text/plain": [
       "          0         1         2         3         4         5         6   \\\n",
       "0   0.033692  2.401738 -1.404779  1.639505  1.988493  2.020787 -0.488093   \n",
       "1   1.910105  1.022797  1.406169 -0.173865  0.642320  1.448486  0.228314   \n",
       "2   2.075419  0.404220  2.246038  1.878156  0.650261  0.090778  1.003637   \n",
       "3  -0.281832 -0.985452  0.830685  0.299075  1.762264 -0.068699  2.480245   \n",
       "4  -1.049392 -1.920309  1.028377 -2.831948 -0.023422 -2.211089  1.272774   \n",
       "5   0.828695  0.337186 -0.905161 -0.846835  0.853536 -2.166653  1.220716   \n",
       "6  -0.398556  0.603474 -1.012988 -0.105862  0.031014 -1.154408  1.518996   \n",
       "7   0.096793  1.223930  0.012586  0.301241 -0.474242 -0.110929  0.460306   \n",
       "8   2.654386  1.445596 -0.989623  0.750917 -1.323880 -0.381440 -2.184054   \n",
       "9   1.646483 -0.873697  1.107458  2.739313 -0.607212  1.000783 -2.103047   \n",
       "10  1.531681 -2.593583 -1.566171  0.066559 -1.917252  0.453643 -1.672967   \n",
       "11  0.061714 -3.195360  0.388238 -0.133681 -1.720639  1.561286 -1.678699   \n",
       "12 -0.661922  2.385091  0.340557 -2.449242  0.921290  0.688495  0.441019   \n",
       "13 -1.374815  0.587926 -0.613512 -1.019980 -1.430356  2.560632 -1.115901   \n",
       "14  2.666662  0.306922 -1.015359 -0.637675  0.692949 -1.272105 -0.882162   \n",
       "15 -0.060931 -2.506300  0.873304  0.244115  0.337659 -0.299649 -0.295802   \n",
       "\n",
       "          7         8         9   ...        54        55        56        57  \\\n",
       "0   1.304368  0.370758  1.610635  ...  0.736042  0.446045  0.908060  1.090495   \n",
       "1   0.642029  0.479582  1.113785  ... -0.933546 -0.626546 -1.571990 -0.002953   \n",
       "2   0.243678  1.353371  0.766825  ...  0.755298 -0.299773  1.435641  0.193814   \n",
       "3   1.941327 -0.423737 -1.354920  ... -0.686550  2.888757  0.378788  1.302802   \n",
       "4   1.559946  0.933411  2.383613  ...  0.273783  1.914038  1.839438 -0.175968   \n",
       "5  -1.025955  2.393471 -1.129274  ... -0.252604  0.123049  0.162336  0.611883   \n",
       "6  -0.832293  1.195889  0.015949  ...  1.051112  1.186463 -1.068037  1.258785   \n",
       "7  -0.588488  2.520097  1.376710  ...  1.447603  1.539740 -2.641670  0.269692   \n",
       "8   0.216773  0.207160 -0.883520  ... -1.753736  4.348764  0.895381 -0.445915   \n",
       "9  -2.819030 -0.994165  0.415559  ...  0.611345  0.872226  0.237498 -0.580864   \n",
       "10  0.861223  0.196857 -2.266082  ...  1.071546  0.968652  0.984457 -0.135068   \n",
       "11 -0.361011 -1.619784 -0.467833  ...  0.944185  2.172971  1.531538  1.251524   \n",
       "12  1.008263 -2.352271 -2.650853  ... -1.150565  0.453539  0.840959 -0.329735   \n",
       "13  0.578014 -1.001988 -1.126132  ...  1.253411  0.107599  0.147676  0.773380   \n",
       "14  0.914451 -1.823851  0.270015  ...  1.728859 -0.301004  1.317086  0.045662   \n",
       "15  1.619765 -0.263143 -1.683997  ... -0.385268 -0.650312  1.872524  0.893444   \n",
       "\n",
       "          58        59        60        61        62        63  \n",
       "0   1.206239  1.519725  0.447795 -0.265075  0.034574  1.075806  \n",
       "1   0.139780 -0.134487 -0.922185  1.068822 -1.604115  0.603122  \n",
       "2  -1.078425  0.248084  0.467102  1.467364  0.122171  1.801259  \n",
       "3  -0.639772  0.322806 -0.314792  2.883026  2.322892  2.333615  \n",
       "4  -2.179996  1.569786 -0.948942 -0.457335  0.625824  2.535669  \n",
       "5  -0.036850  1.796330  0.582068  0.250248 -0.281921 -0.712890  \n",
       "6   0.967384  0.361645  0.970972  0.258725  0.065164 -0.884608  \n",
       "7  -1.444320  0.611038  0.326317  1.737991 -0.541158  1.327647  \n",
       "8   0.473942  2.449888 -0.534840  0.602241  0.757469  1.019818  \n",
       "9   0.316403  0.248648  0.233967  1.302146 -1.055769  0.840174  \n",
       "10 -0.180765  0.261926 -0.808939  0.827899  0.164324  0.928302  \n",
       "11 -0.111600  3.156958  1.161949  1.699504  1.178375  0.536823  \n",
       "12 -0.886844  0.783843 -0.021377  1.693499  1.066105  2.008404  \n",
       "13  0.361216  0.769265 -0.058681  2.005260 -0.177873  1.449325  \n",
       "14 -1.162256  0.718743  0.638984  1.155556 -0.371052  0.317545  \n",
       "15  0.109210  0.335218  1.116893  0.375315  0.465249  0.086368  \n",
       "\n",
       "[16 rows x 64 columns]"
      ]
     },
     "execution_count": 57,
     "metadata": {},
     "output_type": "execute_result"
    }
   ],
   "source": [
    "pd.DataFrame(y[0].detach().numpy())"
   ]
  },
  {
   "cell_type": "markdown",
   "id": "c624f2f1-d2ec-4cde-a609-86037b217aed",
   "metadata": {},
   "source": [
    "# 10、Q，K，V 初始化"
   ]
  },
  {
   "cell_type": "code",
   "execution_count": 59,
   "id": "a0e67aff-bc39-4c4e-8527-70d5e95b3329",
   "metadata": {
    "tags": []
   },
   "outputs": [],
   "source": [
    "Wq = nn.Linear(d_model, d_model)"
   ]
  },
  {
   "cell_type": "code",
   "execution_count": 60,
   "id": "120bb266-9282-4d77-945b-93732cd4b60a",
   "metadata": {
    "tags": []
   },
   "outputs": [
    {
     "data": {
      "text/plain": [
       "Linear(in_features=64, out_features=64, bias=True)"
      ]
     },
     "execution_count": 60,
     "metadata": {},
     "output_type": "execute_result"
    }
   ],
   "source": [
    "Wq"
   ]
  },
  {
   "cell_type": "code",
   "execution_count": null,
   "id": "d5a099ff-e1fd-493c-ab31-a5e9bfea65ca",
   "metadata": {},
   "outputs": [],
   "source": []
  }
 ],
 "metadata": {
  "kernelspec": {
   "display_name": "myconda",
   "language": "python",
   "name": "myconda"
  },
  "language_info": {
   "codemirror_mode": {
    "name": "ipython",
    "version": 3
   },
   "file_extension": ".py",
   "mimetype": "text/x-python",
   "name": "python",
   "nbconvert_exporter": "python",
   "pygments_lexer": "ipython3",
   "version": "3.10.12"
  }
 },
 "nbformat": 4,
 "nbformat_minor": 5
}
