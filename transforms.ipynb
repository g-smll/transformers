{
 "cells": [
  {
   "cell_type": "code",
   "execution_count": 1,
   "id": "f01bfb03-df57-45b2-b470-d185b9ef21fa",
   "metadata": {
    "tags": []
   },
   "outputs": [],
   "source": [
    "import torch"
   ]
  },
  {
   "cell_type": "code",
   "execution_count": 2,
   "id": "a385140c-c1a1-4a74-96aa-0d82a90a361d",
   "metadata": {
    "tags": []
   },
   "outputs": [],
   "source": [
    "import torch.nn as nn"
   ]
  },
  {
   "cell_type": "code",
   "execution_count": 3,
   "id": "467e31a9-58b2-4b15-8d43-ed95a5b0fcdb",
   "metadata": {
    "tags": []
   },
   "outputs": [],
   "source": [
    "import torch.nn.functional as F"
   ]
  },
  {
   "cell_type": "code",
   "execution_count": 4,
   "id": "822e3bba-b0e7-4069-9397-630eb26925ce",
   "metadata": {
    "tags": []
   },
   "outputs": [],
   "source": [
    "import os"
   ]
  },
  {
   "cell_type": "code",
   "execution_count": 5,
   "id": "f2e2ebbe-682c-4104-9aae-f429cf114e0d",
   "metadata": {
    "tags": []
   },
   "outputs": [],
   "source": [
    "import requests"
   ]
  },
  {
   "cell_type": "markdown",
   "id": "b0d4f376-1b50-4ba8-b0e1-fe58d913e169",
   "metadata": {},
   "source": [
    "# 1 获取数据集-由于无法访问huggingface手动上传"
   ]
  },
  {
   "cell_type": "code",
   "execution_count": 7,
   "id": "e80c9701-dcae-4dec-b987-6d108b9d649f",
   "metadata": {
    "tags": []
   },
   "outputs": [],
   "source": [
    "# todo nothing"
   ]
  },
  {
   "cell_type": "markdown",
   "id": "bb55f574-2c65-4880-bf7e-9e2dfe696493",
   "metadata": {},
   "source": [
    "# 2 读取sales_textbook.txt文件"
   ]
  },
  {
   "cell_type": "code",
   "execution_count": 12,
   "id": "0c3d41af-aeec-4bbf-bf27-4bf3a1ee0312",
   "metadata": {
    "tags": []
   },
   "outputs": [],
   "source": [
    "with open('trans_instance.txt','r') as f:\n",
    "    text = f.read()"
   ]
  },
  {
   "cell_type": "code",
   "execution_count": 13,
   "id": "59d9532b-d8c9-4f73-a768-5277682c68b6",
   "metadata": {
    "tags": []
   },
   "outputs": [
    {
     "data": {
      "text/plain": [
       "'小沈阳江西演唱会邀请，\\n明星刀郎的歌火遍大江南北\\n2002年的第一场雪比2001年来得更\\nLLM张老师的粉丝全是正能量'"
      ]
     },
     "execution_count": 13,
     "metadata": {},
     "output_type": "execute_result"
    }
   ],
   "source": [
    "text[0:1000]"
   ]
  },
  {
   "cell_type": "markdown",
   "id": "7cdf88e4-6b74-47c7-b38c-262c0e577346",
   "metadata": {},
   "source": [
    "# 3 引入tiktoken 将文字token化"
   ]
  },
  {
   "cell_type": "code",
   "execution_count": 14,
   "id": "6830e9af-7ca1-40ce-9596-5ad09573fc0c",
   "metadata": {
    "tags": []
   },
   "outputs": [
    {
     "ename": "ModuleNotFoundError",
     "evalue": "No module named 'tiktoken'",
     "output_type": "error",
     "traceback": [
      "\u001b[0;31m---------------------------------------------------------------------------\u001b[0m",
      "\u001b[0;31mModuleNotFoundError\u001b[0m                       Traceback (most recent call last)",
      "Cell \u001b[0;32mIn[14], line 1\u001b[0m\n\u001b[0;32m----> 1\u001b[0m \u001b[38;5;28;01mimport\u001b[39;00m \u001b[38;5;21;01mtiktoken\u001b[39;00m\n",
      "\u001b[0;31mModuleNotFoundError\u001b[0m: No module named 'tiktoken'"
     ]
    }
   ],
   "source": [
    "import tiktoken"
   ]
  },
  {
   "cell_type": "code",
   "execution_count": null,
   "id": "bd61a35d-91d9-4502-9803-34c61473f97f",
   "metadata": {},
   "outputs": [],
   "source": []
  }
 ],
 "metadata": {
  "kernelspec": {
   "display_name": "myconda",
   "language": "python",
   "name": "myconda"
  },
  "language_info": {
   "codemirror_mode": {
    "name": "ipython",
    "version": 3
   },
   "file_extension": ".py",
   "mimetype": "text/x-python",
   "name": "python",
   "nbconvert_exporter": "python",
   "pygments_lexer": "ipython3",
   "version": "3.10.12"
  }
 },
 "nbformat": 4,
 "nbformat_minor": 5
}
