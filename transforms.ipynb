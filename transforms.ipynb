{
 "cells": [
  {
   "cell_type": "code",
   "execution_count": 1,
   "id": "f01bfb03-df57-45b2-b470-d185b9ef21fa",
   "metadata": {
    "tags": []
   },
   "outputs": [],
   "source": [
    "import torch"
   ]
  },
  {
   "cell_type": "code",
   "execution_count": 2,
   "id": "a385140c-c1a1-4a74-96aa-0d82a90a361d",
   "metadata": {
    "tags": []
   },
   "outputs": [],
   "source": [
    "import torch.nn as nn"
   ]
  },
  {
   "cell_type": "code",
   "execution_count": 3,
   "id": "467e31a9-58b2-4b15-8d43-ed95a5b0fcdb",
   "metadata": {
    "tags": []
   },
   "outputs": [],
   "source": [
    "import torch.nn.functional as F"
   ]
  },
  {
   "cell_type": "code",
   "execution_count": 4,
   "id": "822e3bba-b0e7-4069-9397-630eb26925ce",
   "metadata": {
    "tags": []
   },
   "outputs": [],
   "source": [
    "import os"
   ]
  },
  {
   "cell_type": "code",
   "execution_count": 5,
   "id": "f2e2ebbe-682c-4104-9aae-f429cf114e0d",
   "metadata": {
    "tags": []
   },
   "outputs": [],
   "source": [
    "import requests"
   ]
  },
  {
   "cell_type": "code",
   "execution_count": 6,
   "id": "37ea1383-80e2-4ecd-ac87-23eed5aeb148",
   "metadata": {
    "tags": []
   },
   "outputs": [],
   "source": [
    "import tiktoken"
   ]
  },
  {
   "cell_type": "code",
   "execution_count": 7,
   "id": "3cc9e033-11b3-443b-af93-c27a7a393760",
   "metadata": {
    "tags": []
   },
   "outputs": [],
   "source": [
    "import math"
   ]
  },
  {
   "cell_type": "markdown",
   "id": "b0d4f376-1b50-4ba8-b0e1-fe58d913e169",
   "metadata": {},
   "source": [
    "# 1、获取数据集-由于无法访问huggingface手动上传"
   ]
  },
  {
   "cell_type": "code",
   "execution_count": 8,
   "id": "e80c9701-dcae-4dec-b987-6d108b9d649f",
   "metadata": {
    "tags": []
   },
   "outputs": [],
   "source": [
    "# todo nothing"
   ]
  },
  {
   "cell_type": "markdown",
   "id": "bb55f574-2c65-4880-bf7e-9e2dfe696493",
   "metadata": {},
   "source": [
    "# 2、读取sales_textbook.txt文件"
   ]
  },
  {
   "cell_type": "code",
   "execution_count": 9,
   "id": "0c3d41af-aeec-4bbf-bf27-4bf3a1ee0312",
   "metadata": {
    "tags": []
   },
   "outputs": [],
   "source": [
    "with open('trans_instance.txt','r') as f:\n",
    "    text = f.read()"
   ]
  },
  {
   "cell_type": "code",
   "execution_count": 10,
   "id": "59d9532b-d8c9-4f73-a768-5277682c68b6",
   "metadata": {
    "tags": []
   },
   "outputs": [
    {
     "data": {
      "text/plain": [
       "'小沈阳江西演唱会邀请沈春阳，\\n明星刀郎的歌火遍大江南北\\n2002年的第一场雪比2001年来得\\n大模型张老师的粉丝全是正能量'"
      ]
     },
     "execution_count": 10,
     "metadata": {},
     "output_type": "execute_result"
    }
   ],
   "source": [
    "text[0:1000]"
   ]
  },
  {
   "cell_type": "code",
   "execution_count": 11,
   "id": "b950e755-8226-41c4-bc32-4d1b4a98a0d3",
   "metadata": {
    "tags": []
   },
   "outputs": [
    {
     "data": {
      "text/plain": [
       "61"
      ]
     },
     "execution_count": 11,
     "metadata": {},
     "output_type": "execute_result"
    }
   ],
   "source": [
    "len(text)"
   ]
  },
  {
   "cell_type": "markdown",
   "id": "7cdf88e4-6b74-47c7-b38c-262c0e577346",
   "metadata": {},
   "source": [
    "# 3、引入tiktoken 将文字token化"
   ]
  },
  {
   "cell_type": "code",
   "execution_count": 12,
   "id": "6830e9af-7ca1-40ce-9596-5ad09573fc0c",
   "metadata": {
    "tags": []
   },
   "outputs": [],
   "source": [
    "encoding = tiktoken.get_encoding(\"cl100k_base\")"
   ]
  },
  {
   "cell_type": "code",
   "execution_count": 13,
   "id": "bd61a35d-91d9-4502-9803-34c61473f97f",
   "metadata": {
    "tags": []
   },
   "outputs": [],
   "source": [
    "tokenized_text = encoding.encode(text)"
   ]
  },
  {
   "cell_type": "code",
   "execution_count": 14,
   "id": "1191ce53-dbb5-4ac8-8774-2d5d27bfc0c4",
   "metadata": {
    "tags": []
   },
   "outputs": [],
   "source": [
    "tokenized_text = torch.tensor(tokenized_text, dtype=torch.long)"
   ]
  },
  {
   "cell_type": "code",
   "execution_count": 15,
   "id": "b4d6469c-a4de-4dbd-9bdc-7c8f50efc264",
   "metadata": {
    "tags": []
   },
   "outputs": [],
   "source": [
    "max_token_value = tokenized_text.max().item()"
   ]
  },
  {
   "cell_type": "code",
   "execution_count": 16,
   "id": "8c61e739-6e7a-4cee-a772-c7157a00a6ae",
   "metadata": {
    "tags": []
   },
   "outputs": [
    {
     "data": {
      "text/plain": [
       "70"
      ]
     },
     "execution_count": 16,
     "metadata": {},
     "output_type": "execute_result"
    }
   ],
   "source": [
    "len(tokenized_text)"
   ]
  },
  {
   "cell_type": "code",
   "execution_count": 17,
   "id": "e8b3fd34-73a8-40d5-acd7-7b3e814f3356",
   "metadata": {
    "tags": []
   },
   "outputs": [
    {
     "data": {
      "text/plain": [
       "92877"
      ]
     },
     "execution_count": 17,
     "metadata": {},
     "output_type": "execute_result"
    }
   ],
   "source": [
    "max_token_value"
   ]
  },
  {
   "cell_type": "markdown",
   "id": "4bd8ed9d-a20c-4dc2-bbbe-c667954450a8",
   "metadata": {},
   "source": [
    "# 4、参数设置"
   ]
  },
  {
   "cell_type": "code",
   "execution_count": 18,
   "id": "d97cd4bb-2110-4f4b-b58d-e18a834f2117",
   "metadata": {
    "tags": []
   },
   "outputs": [],
   "source": [
    "context_length = 16"
   ]
  },
  {
   "cell_type": "code",
   "execution_count": 19,
   "id": "03928e24-ac80-4b09-b9ba-78ce1052fd64",
   "metadata": {
    "tags": []
   },
   "outputs": [],
   "source": [
    "d_model = 64"
   ]
  },
  {
   "cell_type": "code",
   "execution_count": 20,
   "id": "9ba23807-39f4-4efe-83d4-d6ffdc7c3fd8",
   "metadata": {
    "tags": []
   },
   "outputs": [],
   "source": [
    "batch_size = 4"
   ]
  },
  {
   "cell_type": "code",
   "execution_count": 21,
   "id": "a84fa9d7-be9c-489f-9573-4087f3f2ef9c",
   "metadata": {},
   "outputs": [],
   "source": [
    "num_heads = 4 # 表示的含义是共16个token（对应文字），分成4个头来处理"
   ]
  },
  {
   "cell_type": "code",
   "execution_count": 22,
   "id": "54bfcfac-4e0d-48b4-95f2-3728861ffa45",
   "metadata": {
    "tags": []
   },
   "outputs": [],
   "source": [
    "data = tokenized_text"
   ]
  },
  {
   "cell_type": "code",
   "execution_count": 23,
   "id": "2ad04db9-ea56-409e-99dc-e5d084e44eb8",
   "metadata": {
    "tags": []
   },
   "outputs": [],
   "source": [
    "high = len(data) - context_length"
   ]
  },
  {
   "cell_type": "code",
   "execution_count": 24,
   "id": "a24b9115-00da-4c82-b527-27c44ff00951",
   "metadata": {
    "tags": []
   },
   "outputs": [
    {
     "data": {
      "text/plain": [
       "54"
      ]
     },
     "execution_count": 24,
     "metadata": {},
     "output_type": "execute_result"
    }
   ],
   "source": [
    "high"
   ]
  },
  {
   "cell_type": "markdown",
   "id": "e4a9d447-d409-4042-9d47-c327ed30735a",
   "metadata": {},
   "source": [
    "# 5、初始化张量"
   ]
  },
  {
   "cell_type": "markdown",
   "id": "94f33561-84e5-479a-aa46-e75c3ac7fdff",
   "metadata": {},
   "source": [
    "## 参数low随机整数，最小值为零"
   ]
  },
  {
   "cell_type": "markdown",
   "id": "038daea9-f42e-403f-8563-8b970f06d6d7",
   "metadata": {},
   "source": [
    "## 参数high随机整数，最大值为49"
   ]
  },
  {
   "cell_type": "code",
   "execution_count": 25,
   "id": "4bc5ceeb-24cc-4657-82ba-9f0b5672fd69",
   "metadata": {
    "tags": []
   },
   "outputs": [],
   "source": [
    "idxs = torch.randint(low=0, high=high, size=(batch_size,))"
   ]
  },
  {
   "cell_type": "code",
   "execution_count": 26,
   "id": "99f0571e-cb23-410d-a222-a258091be845",
   "metadata": {
    "tags": []
   },
   "outputs": [],
   "source": [
    "#idxs tensor([53, 25, 13,  7])"
   ]
  },
  {
   "cell_type": "markdown",
   "id": "512ca36f-611e-4fcc-8924-defb9108c09e",
   "metadata": {},
   "source": [
    "## 说明初始化一维张量的目的"
   ]
  },
  {
   "cell_type": "markdown",
   "id": "699d37cb-de94-4c74-993d-1b8dc38c2d00",
   "metadata": {},
   "source": [
    "### 在trans_instance.txt文件中，中文字数59， token数65"
   ]
  },
  {
   "cell_type": "markdown",
   "id": "5116f4e4-afad-4581-8e62-77410a6ee8f9",
   "metadata": {},
   "source": [
    "### 随机张量tensor([41, 1, 32, 50]) 以41，1，32，50为token索引， 获取分别41，1，32，50为起始索引的token"
   ]
  },
  {
   "cell_type": "markdown",
   "id": "f5cb925c-cb80-40c2-9345-5a2fb4346a6b",
   "metadata": {},
   "source": [
    "### 例如41为起点的索引，取长度为10的文本，其它索引的值为41，42，43，44，45，46，47，48，49，50 每个索引对应了具体的token"
   ]
  },
  {
   "cell_type": "markdown",
   "id": "2c5b5f2b-ca97-4720-9a01-c2723829a0bc",
   "metadata": {},
   "source": [
    "# 6、初始化4批数据"
   ]
  },
  {
   "cell_type": "markdown",
   "id": "dcbd3514-9dcf-4cda-a8a5-e6e0c5d5dcb0",
   "metadata": {},
   "source": [
    "## 数据结构是4行10列， 即4行token， 每行10个token"
   ]
  },
  {
   "cell_type": "code",
   "execution_count": 27,
   "id": "abb4f7b0-ef49-4dfb-b7f7-5212dc2cf3cb",
   "metadata": {
    "tags": []
   },
   "outputs": [],
   "source": [
    "x_batch = torch.stack([data[idx:idx+context_length] for idx in idxs])"
   ]
  },
  {
   "cell_type": "code",
   "execution_count": 28,
   "id": "977559d0-b209-4fcb-bb70-e4c015d43f66",
   "metadata": {
    "tags": []
   },
   "outputs": [
    {
     "data": {
      "text/plain": [
       "tensor([[70277, 61786, 78256,   242, 84150,   109, 38093, 45932,   222, 15225,\n",
       "         31106,   230, 11881,    98, 83175, 42553],\n",
       "        [78519,  6701,   222, 31938,   236,  9554, 15722,   234, 80699, 30250,\n",
       "           235, 27384, 70277, 59563, 49409,   198],\n",
       "        [ 1049,    17,  8107,  9554, 30537, 15120, 83324, 25132,   103, 57106,\n",
       "          1049,    16,  8107, 37507, 50928,   198],\n",
       "        [   17,  8107,  9554, 30537, 15120, 83324, 25132,   103, 57106,  1049,\n",
       "            16,  8107, 37507, 50928,   198, 27384]])"
      ]
     },
     "execution_count": 28,
     "metadata": {},
     "output_type": "execute_result"
    }
   ],
   "source": [
    "x_batch"
   ]
  },
  {
   "cell_type": "code",
   "execution_count": 29,
   "id": "ed701842-7c8f-4589-8c7c-6c5463321886",
   "metadata": {
    "tags": []
   },
   "outputs": [],
   "source": [
    "y_batch = torch.stack([data[idx+1:idx+context_length+1] for idx in idxs])"
   ]
  },
  {
   "cell_type": "code",
   "execution_count": 30,
   "id": "6898ea29-2c95-43d5-811e-5850ac3c5dea",
   "metadata": {
    "tags": []
   },
   "outputs": [
    {
     "data": {
      "text/plain": [
       "tensor([[61786, 78256,   242, 84150,   109, 38093, 45932,   222, 15225, 31106,\n",
       "           230, 11881,    98, 83175, 42553, 31958],\n",
       "        [ 6701,   222, 31938,   236,  9554, 15722,   234, 80699, 30250,   235,\n",
       "         27384, 70277, 59563, 49409,   198,  1049],\n",
       "        [   17,  8107,  9554, 30537, 15120, 83324, 25132,   103, 57106,  1049,\n",
       "            16,  8107, 37507, 50928,   198, 27384],\n",
       "        [ 8107,  9554, 30537, 15120, 83324, 25132,   103, 57106,  1049,    16,\n",
       "          8107, 37507, 50928,   198, 27384, 54872]])"
      ]
     },
     "execution_count": 30,
     "metadata": {},
     "output_type": "execute_result"
    }
   ],
   "source": [
    "y_batch"
   ]
  },
  {
   "cell_type": "markdown",
   "id": "270925e3-eaee-4255-b39a-b34faffa8114",
   "metadata": {},
   "source": [
    "# 7、引入pandas查看原始数据"
   ]
  },
  {
   "cell_type": "code",
   "execution_count": 31,
   "id": "50bbdc16-312a-4ce1-ae9a-99200cca79ce",
   "metadata": {
    "tags": []
   },
   "outputs": [],
   "source": [
    "import pandas as pd"
   ]
  },
  {
   "cell_type": "code",
   "execution_count": 32,
   "id": "19daa57a-5a37-4e0c-be79-5e1c9ec6668a",
   "metadata": {
    "tags": []
   },
   "outputs": [
    {
     "data": {
      "text/plain": [
       "'江西演唱会邀请沈春阳，\\n'"
      ]
     },
     "execution_count": 32,
     "metadata": {},
     "output_type": "execute_result"
    }
   ],
   "source": [
    "encoding.decode(x_batch[0].numpy())"
   ]
  },
  {
   "cell_type": "code",
   "execution_count": 33,
   "id": "fd0ec3ea-432a-4846-81ab-fd52780b69d9",
   "metadata": {
    "tags": []
   },
   "outputs": [
    {
     "data": {
      "text/plain": [
       "'星刀郎的歌火遍大江南北\\n'"
      ]
     },
     "execution_count": 33,
     "metadata": {},
     "output_type": "execute_result"
    }
   ],
   "source": [
    "encoding.decode(x_batch[1].numpy())"
   ]
  },
  {
   "cell_type": "code",
   "execution_count": 34,
   "id": "f279ec9c-37d6-4188-82a8-bb55e85a9e5b",
   "metadata": {
    "tags": []
   },
   "outputs": [
    {
     "data": {
      "text/plain": [
       "'2002年的第一场雪比2001年来得\\n'"
      ]
     },
     "execution_count": 34,
     "metadata": {},
     "output_type": "execute_result"
    }
   ],
   "source": [
    "encoding.decode(x_batch[2].numpy())"
   ]
  },
  {
   "cell_type": "code",
   "execution_count": 35,
   "id": "da93ee60-783e-474c-a57a-a42de8f19fb5",
   "metadata": {
    "tags": []
   },
   "outputs": [
    {
     "data": {
      "text/plain": [
       "'2年的第一场雪比2001年来得\\n大'"
      ]
     },
     "execution_count": 35,
     "metadata": {},
     "output_type": "execute_result"
    }
   ],
   "source": [
    "encoding.decode(x_batch[3].numpy())"
   ]
  },
  {
   "cell_type": "code",
   "execution_count": 36,
   "id": "2c07719f-d056-42ee-ac52-e4c39dc63c2f",
   "metadata": {
    "tags": []
   },
   "outputs": [
    {
     "data": {
      "text/plain": [
       "'西演唱会邀请沈春阳，\\n明'"
      ]
     },
     "execution_count": 36,
     "metadata": {},
     "output_type": "execute_result"
    }
   ],
   "source": [
    "encoding.decode(y_batch[0].numpy())"
   ]
  },
  {
   "cell_type": "code",
   "execution_count": 37,
   "id": "01f6bdfb-d951-41d2-8e0a-893c36a1df3f",
   "metadata": {
    "tags": []
   },
   "outputs": [
    {
     "data": {
      "text/plain": [
       "'刀郎的歌火遍大江南北\\n200'"
      ]
     },
     "execution_count": 37,
     "metadata": {},
     "output_type": "execute_result"
    }
   ],
   "source": [
    "encoding.decode(y_batch[1].numpy())"
   ]
  },
  {
   "cell_type": "code",
   "execution_count": 38,
   "id": "a17f942d-d6f8-42d0-bc2c-1b2ed950d25b",
   "metadata": {
    "tags": []
   },
   "outputs": [
    {
     "data": {
      "text/plain": [
       "'2年的第一场雪比2001年来得\\n大'"
      ]
     },
     "execution_count": 38,
     "metadata": {},
     "output_type": "execute_result"
    }
   ],
   "source": [
    "encoding.decode(y_batch[2].numpy())"
   ]
  },
  {
   "cell_type": "code",
   "execution_count": 39,
   "id": "65d05fac-36de-4d61-b21c-dd46f307fc91",
   "metadata": {
    "tags": []
   },
   "outputs": [
    {
     "data": {
      "text/plain": [
       "'年的第一场雪比2001年来得\\n大模'"
      ]
     },
     "execution_count": 39,
     "metadata": {},
     "output_type": "execute_result"
    }
   ],
   "source": [
    "encoding.decode(y_batch[3].numpy())"
   ]
  },
  {
   "cell_type": "markdown",
   "id": "6b663f28-d98a-49e8-b086-4e5f0bb296ff",
   "metadata": {},
   "source": [
    "# 8、input Enbedding 初始化"
   ]
  },
  {
   "cell_type": "code",
   "execution_count": 40,
   "id": "f882236b-5fa9-42c5-81f4-87eaa123ae7e",
   "metadata": {
    "tags": []
   },
   "outputs": [
    {
     "data": {
      "text/plain": [
       "'阳'"
      ]
     },
     "execution_count": 40,
     "metadata": {},
     "output_type": "execute_result"
    }
   ],
   "source": [
    "encoding.decode([83175]) "
   ]
  },
  {
   "cell_type": "markdown",
   "id": "777ed814-5712-4a16-a248-8cc92ea32ea0",
   "metadata": {},
   "source": [
    "## 创建一个Embedding table （92877， 64）即行为92877 列为64列"
   ]
  },
  {
   "cell_type": "code",
   "execution_count": 41,
   "id": "a981d641-2773-4004-83ad-d326720f8372",
   "metadata": {
    "tags": []
   },
   "outputs": [],
   "source": [
    "input_embedding_lookup_table = nn.Embedding(\n",
    "    num_embeddings=max_token_value + 1,  # 词汇表大小（含未知标记）92877+1 = 92878\n",
    "    embedding_dim=d_model               # 嵌入向量维度 64纬\n",
    ")"
   ]
  },
  {
   "cell_type": "code",
   "execution_count": 42,
   "id": "641fea89-3c04-4a74-99e8-c871f2a0a336",
   "metadata": {
    "tags": []
   },
   "outputs": [
    {
     "data": {
      "text/plain": [
       "Embedding(92878, 64)"
      ]
     },
     "execution_count": 42,
     "metadata": {},
     "output_type": "execute_result"
    }
   ],
   "source": [
    "input_embedding_lookup_table"
   ]
  },
  {
   "cell_type": "code",
   "execution_count": 43,
   "id": "6ea94e70-b7e6-4e1a-9b7a-ecb9ee15a6cf",
   "metadata": {
    "tags": []
   },
   "outputs": [
    {
     "data": {
      "text/plain": [
       "tensor([[-1.6119,  0.2164, -0.3254,  ..., -1.0184, -0.2164, -2.6727],\n",
       "        [-0.1531, -1.4887, -0.0038,  ..., -0.5432,  0.2821, -0.2274],\n",
       "        [-0.2000,  0.5862, -0.6680,  ..., -1.2948,  1.9357, -1.1341],\n",
       "        ...,\n",
       "        [-0.3051, -0.7145, -1.7872,  ...,  0.7477, -0.6250, -2.0174],\n",
       "        [ 0.8880, -1.8811, -1.6866,  ...,  1.5089, -1.5790,  1.0241],\n",
       "        [-0.5316, -0.1321,  0.9559,  ..., -0.2754,  0.6680,  0.1626]])"
      ]
     },
     "execution_count": 43,
     "metadata": {},
     "output_type": "execute_result"
    }
   ],
   "source": [
    "input_embedding_lookup_table.weight.data #初始化的权重，这些初始值在训练过程中修正"
   ]
  },
  {
   "cell_type": "code",
   "execution_count": 44,
   "id": "f28936a7-3c60-43e0-86e6-aeded4b3e049",
   "metadata": {
    "tags": []
   },
   "outputs": [],
   "source": [
    "x_batch_embedding = input_embedding_lookup_table(x_batch)\n",
    "y_batch_embedding = input_embedding_lookup_table(y_batch)"
   ]
  },
  {
   "cell_type": "code",
   "execution_count": 45,
   "id": "903833c0-2a20-42cb-b747-7034ae095620",
   "metadata": {
    "tags": []
   },
   "outputs": [
    {
     "data": {
      "text/plain": [
       "torch.Size([4, 16, 64])"
      ]
     },
     "execution_count": 45,
     "metadata": {},
     "output_type": "execute_result"
    }
   ],
   "source": [
    "x_batch_embedding.shape"
   ]
  },
  {
   "cell_type": "code",
   "execution_count": 46,
   "id": "c29b0dfb-bcc0-4790-8abb-cc9ff06f6d8d",
   "metadata": {
    "tags": []
   },
   "outputs": [
    {
     "data": {
      "text/plain": [
       "tensor([[[ 2.2273,  0.2084, -0.8678,  ...,  0.5926,  0.0512,  1.3771],\n",
       "         [ 0.3578,  0.4508, -0.0893,  ...,  0.6174, -1.6597,  1.0343],\n",
       "         [-1.2180, -0.7694, -0.2508,  ...,  0.7185, -1.3977,  0.0856],\n",
       "         ...,\n",
       "         [-1.4082,  1.1521, -1.9055,  ..., -2.2631,  0.7061, -0.1041],\n",
       "         [ 0.5288, -0.1233,  0.6985,  ...,  1.3189, -1.4232, -1.1154],\n",
       "         [ 0.4350, -0.1887, -0.9183,  ...,  1.2932, -0.1872,  0.6981]],\n",
       "\n",
       "        [[ 0.4197,  1.0569, -0.2055,  ..., -1.3404, -0.4475, -0.2596],\n",
       "         [ 0.7627, -0.1299,  1.3250,  ..., -1.8814,  0.1129, -0.9940],\n",
       "         [-0.5610, -0.6925,  0.0296,  ..., -1.6117, -1.4970, -0.1494],\n",
       "         ...,\n",
       "         [ 0.7085,  1.3735,  1.8415,  ..., -1.6378, -0.6527, -0.1728],\n",
       "         [ 0.7814,  0.4007, -0.2219,  ...,  1.0320, -0.7807,  1.5704],\n",
       "         [ 1.2776, -0.8719,  2.4681,  ..., -0.3040,  0.9005, -0.5709]],\n",
       "\n",
       "        [[-0.6146, -0.1115, -0.8440,  ..., -1.5480,  0.3118, -1.0434],\n",
       "         [ 0.7364,  0.0763,  0.5302,  ...,  0.2749, -1.6080, -0.7708],\n",
       "         [ 0.7295, -1.4588, -0.1017,  ..., -0.5127, -0.4533, -2.9040],\n",
       "         ...,\n",
       "         [ 0.2121, -0.5345, -0.7713,  ...,  0.3243, -0.0922,  1.6106],\n",
       "         [-1.1023, -0.5838, -0.7134,  ...,  0.4604, -0.6963, -1.2318],\n",
       "         [ 1.2776, -0.8719,  2.4681,  ..., -0.3040,  0.9005, -0.5709]],\n",
       "\n",
       "        [[ 0.7364,  0.0763,  0.5302,  ...,  0.2749, -1.6080, -0.7708],\n",
       "         [ 0.7295, -1.4588, -0.1017,  ..., -0.5127, -0.4533, -2.9040],\n",
       "         [-1.1233, -1.6033,  0.1063,  ...,  0.6910,  0.2009,  0.6362],\n",
       "         ...,\n",
       "         [-1.1023, -0.5838, -0.7134,  ...,  0.4604, -0.6963, -1.2318],\n",
       "         [ 1.2776, -0.8719,  2.4681,  ..., -0.3040,  0.9005, -0.5709],\n",
       "         [-1.6890,  0.2515,  0.5369,  ...,  1.2490, -0.5021, -1.1232]]],\n",
       "       grad_fn=<EmbeddingBackward0>)"
      ]
     },
     "execution_count": 46,
     "metadata": {},
     "output_type": "execute_result"
    }
   ],
   "source": [
    "x_batch_embedding"
   ]
  },
  {
   "cell_type": "markdown",
   "id": "1aaef8b4-74dd-4aee-bee3-1f8535eab6d3",
   "metadata": {},
   "source": [
    "## 4 代表的是4个批次， 16是行数即16个token， 64即64列64个纬度"
   ]
  },
  {
   "cell_type": "markdown",
   "id": "30ea4d3a-9762-458a-a5c7-43746f92496f",
   "metadata": {},
   "source": [
    "## 现在来说明input_embedding_lookup_table(x_batch)业务含义 ；\n",
    "1. x_batch[3].numpy() = [31106,   230, 83175, 70277, 61786, 78256,   242, 84150,   109, 38093]\n",
    "2. 第一个token= 31106 代表的是中文字 “沈”\n",
    "3. input_embedding_lookup_table(x_batch) 将token=31106关联到enbedding第31106行， 每一行都代表第token行的toekn，表示一个文字"
   ]
  },
  {
   "cell_type": "code",
   "execution_count": 47,
   "id": "b2413976-a5b5-4a91-9ded-44966895921b",
   "metadata": {
    "tags": []
   },
   "outputs": [
    {
     "data": {
      "text/plain": [
       "torch.Size([4, 16, 64])"
      ]
     },
     "execution_count": 47,
     "metadata": {},
     "output_type": "execute_result"
    }
   ],
   "source": [
    "y_batch_embedding.shape"
   ]
  },
  {
   "cell_type": "markdown",
   "id": "a6c19873-2a93-4191-858a-564866d1ba02",
   "metadata": {},
   "source": [
    "# 9、positional embedding 加入位置信息"
   ]
  },
  {
   "cell_type": "code",
   "execution_count": 48,
   "id": "8b12df2a-0822-4c7d-aefc-443ff60d5bc6",
   "metadata": {
    "tags": []
   },
   "outputs": [],
   "source": [
    "position_encoding_lookup_table = torch.zeros(context_length, d_model)"
   ]
  },
  {
   "cell_type": "code",
   "execution_count": 49,
   "id": "61bd6064-f53c-4e64-8e04-0391baf9bdbb",
   "metadata": {
    "tags": []
   },
   "outputs": [
    {
     "data": {
      "text/plain": [
       "tensor([[0., 0., 0.,  ..., 0., 0., 0.],\n",
       "        [0., 0., 0.,  ..., 0., 0., 0.],\n",
       "        [0., 0., 0.,  ..., 0., 0., 0.],\n",
       "        ...,\n",
       "        [0., 0., 0.,  ..., 0., 0., 0.],\n",
       "        [0., 0., 0.,  ..., 0., 0., 0.],\n",
       "        [0., 0., 0.,  ..., 0., 0., 0.]])"
      ]
     },
     "execution_count": 49,
     "metadata": {},
     "output_type": "execute_result"
    }
   ],
   "source": [
    "position_encoding_lookup_table"
   ]
  },
  {
   "cell_type": "markdown",
   "id": "4a532502-ef57-481e-8068-69662b5d06e7",
   "metadata": {},
   "source": [
    "## 目标是初始一个10x64的二维矩阵，目的就是给每一个"
   ]
  },
  {
   "cell_type": "code",
   "execution_count": 50,
   "id": "78527b5f-4ba0-49fc-9b9b-7a53f8b4d420",
   "metadata": {
    "tags": []
   },
   "outputs": [],
   "source": [
    "# 2. 生成位置序列 [0, 1, 2, ..., context_length-1]\n",
    "position = torch.arange(0, context_length, dtype=torch.float).unsqueeze(1)\n",
    "\n",
    "# 3. 计算频率缩放因子（指数衰减）\n",
    "div_term = torch.exp(torch.arange(0, d_model, 2).float() * (-math.log(10000.0) / d_model))\n",
    "\n",
    "# 4. 交替应用正弦和余弦函数\n",
    "position_encoding_lookup_table[:, 0::2] = torch.sin(position * div_term)  # 偶数位置\n",
    "position_encoding_lookup_table[:, 1::2] = torch.cos(position * div_term)  # 奇数位置\n",
    "\n",
    "# 5. 添加batch维度 [batch_size, seq_len, d_model]\n",
    "position_encoding_lookup_table = position_encoding_lookup_table.unsqueeze(0).expand(batch_size, -1, -1)"
   ]
  },
  {
   "cell_type": "code",
   "execution_count": 51,
   "id": "b81650a6-44f9-4805-9e0a-f07a0d053840",
   "metadata": {
    "tags": []
   },
   "outputs": [
    {
     "data": {
      "text/plain": [
       "tensor([[[ 0.0000e+00,  1.0000e+00,  0.0000e+00,  ...,  1.0000e+00,\n",
       "           0.0000e+00,  1.0000e+00],\n",
       "         [ 8.4147e-01,  5.4030e-01,  6.8156e-01,  ...,  1.0000e+00,\n",
       "           1.3335e-04,  1.0000e+00],\n",
       "         [ 9.0930e-01, -4.1615e-01,  9.9748e-01,  ...,  1.0000e+00,\n",
       "           2.6670e-04,  1.0000e+00],\n",
       "         ...,\n",
       "         [ 4.2017e-01,  9.0745e-01, -3.1822e-01,  ...,  1.0000e+00,\n",
       "           1.7336e-03,  1.0000e+00],\n",
       "         [ 9.9061e-01,  1.3674e-01, -8.7899e-01,  ...,  1.0000e+00,\n",
       "           1.8669e-03,  1.0000e+00],\n",
       "         [ 6.5029e-01, -7.5969e-01, -9.6821e-01,  ...,  1.0000e+00,\n",
       "           2.0003e-03,  1.0000e+00]],\n",
       "\n",
       "        [[ 0.0000e+00,  1.0000e+00,  0.0000e+00,  ...,  1.0000e+00,\n",
       "           0.0000e+00,  1.0000e+00],\n",
       "         [ 8.4147e-01,  5.4030e-01,  6.8156e-01,  ...,  1.0000e+00,\n",
       "           1.3335e-04,  1.0000e+00],\n",
       "         [ 9.0930e-01, -4.1615e-01,  9.9748e-01,  ...,  1.0000e+00,\n",
       "           2.6670e-04,  1.0000e+00],\n",
       "         ...,\n",
       "         [ 4.2017e-01,  9.0745e-01, -3.1822e-01,  ...,  1.0000e+00,\n",
       "           1.7336e-03,  1.0000e+00],\n",
       "         [ 9.9061e-01,  1.3674e-01, -8.7899e-01,  ...,  1.0000e+00,\n",
       "           1.8669e-03,  1.0000e+00],\n",
       "         [ 6.5029e-01, -7.5969e-01, -9.6821e-01,  ...,  1.0000e+00,\n",
       "           2.0003e-03,  1.0000e+00]],\n",
       "\n",
       "        [[ 0.0000e+00,  1.0000e+00,  0.0000e+00,  ...,  1.0000e+00,\n",
       "           0.0000e+00,  1.0000e+00],\n",
       "         [ 8.4147e-01,  5.4030e-01,  6.8156e-01,  ...,  1.0000e+00,\n",
       "           1.3335e-04,  1.0000e+00],\n",
       "         [ 9.0930e-01, -4.1615e-01,  9.9748e-01,  ...,  1.0000e+00,\n",
       "           2.6670e-04,  1.0000e+00],\n",
       "         ...,\n",
       "         [ 4.2017e-01,  9.0745e-01, -3.1822e-01,  ...,  1.0000e+00,\n",
       "           1.7336e-03,  1.0000e+00],\n",
       "         [ 9.9061e-01,  1.3674e-01, -8.7899e-01,  ...,  1.0000e+00,\n",
       "           1.8669e-03,  1.0000e+00],\n",
       "         [ 6.5029e-01, -7.5969e-01, -9.6821e-01,  ...,  1.0000e+00,\n",
       "           2.0003e-03,  1.0000e+00]],\n",
       "\n",
       "        [[ 0.0000e+00,  1.0000e+00,  0.0000e+00,  ...,  1.0000e+00,\n",
       "           0.0000e+00,  1.0000e+00],\n",
       "         [ 8.4147e-01,  5.4030e-01,  6.8156e-01,  ...,  1.0000e+00,\n",
       "           1.3335e-04,  1.0000e+00],\n",
       "         [ 9.0930e-01, -4.1615e-01,  9.9748e-01,  ...,  1.0000e+00,\n",
       "           2.6670e-04,  1.0000e+00],\n",
       "         ...,\n",
       "         [ 4.2017e-01,  9.0745e-01, -3.1822e-01,  ...,  1.0000e+00,\n",
       "           1.7336e-03,  1.0000e+00],\n",
       "         [ 9.9061e-01,  1.3674e-01, -8.7899e-01,  ...,  1.0000e+00,\n",
       "           1.8669e-03,  1.0000e+00],\n",
       "         [ 6.5029e-01, -7.5969e-01, -9.6821e-01,  ...,  1.0000e+00,\n",
       "           2.0003e-03,  1.0000e+00]]])"
      ]
     },
     "execution_count": 51,
     "metadata": {},
     "output_type": "execute_result"
    }
   ],
   "source": [
    "position_encoding_lookup_table"
   ]
  },
  {
   "cell_type": "markdown",
   "id": "b90ad248-2c4a-464b-8b3d-64df2d8a8a4a",
   "metadata": {},
   "source": [
    "## 增加位置编码"
   ]
  },
  {
   "cell_type": "code",
   "execution_count": 52,
   "id": "d0620843-cd29-4781-a9bc-663b947fee46",
   "metadata": {
    "tags": []
   },
   "outputs": [],
   "source": [
    "x = x_batch_embedding + position_encoding_lookup_table"
   ]
  },
  {
   "cell_type": "code",
   "execution_count": 53,
   "id": "56edc1bf-7287-4c25-a25f-fd68c7fab578",
   "metadata": {
    "tags": []
   },
   "outputs": [
    {
     "data": {
      "text/plain": [
       "tensor([[[ 2.2273,  1.2084, -0.8678,  ...,  1.5926,  0.0512,  2.3771],\n",
       "         [ 1.1992,  0.9911,  0.5923,  ...,  1.6174, -1.6596,  2.0343],\n",
       "         [-0.3087, -1.1855,  0.7467,  ...,  1.7185, -1.3974,  1.0856],\n",
       "         ...,\n",
       "         [-0.9880,  2.0595, -2.2237,  ..., -1.2631,  0.7078,  0.8959],\n",
       "         [ 1.5194,  0.0135, -0.1805,  ...,  2.3189, -1.4213, -0.1154],\n",
       "         [ 1.0853, -0.9484, -1.8865,  ...,  2.2932, -0.1852,  1.6981]],\n",
       "\n",
       "        [[ 0.4197,  2.0569, -0.2055,  ..., -0.3404, -0.4475,  0.7404],\n",
       "         [ 1.6042,  0.4104,  2.0066,  ..., -0.8814,  0.1130,  0.0060],\n",
       "         [ 0.3483, -1.1086,  1.0271,  ..., -0.6117, -1.4968,  0.8506],\n",
       "         ...,\n",
       "         [ 1.1287,  2.2809,  1.5233,  ..., -0.6378, -0.6509,  0.8272],\n",
       "         [ 1.7720,  0.5375, -1.1009,  ...,  2.0319, -0.7788,  2.5704],\n",
       "         [ 1.9279, -1.6316,  1.4998,  ...,  0.6960,  0.9025,  0.4291]],\n",
       "\n",
       "        [[-0.6146,  0.8885, -0.8440,  ..., -0.5480,  0.3118, -0.0434],\n",
       "         [ 1.5779,  0.6166,  1.2118,  ...,  1.2749, -1.6079,  0.2292],\n",
       "         [ 1.6388, -1.8749,  0.8958,  ...,  0.4873, -0.4530, -1.9040],\n",
       "         ...,\n",
       "         [ 0.6322,  0.3730, -1.0895,  ...,  1.3243, -0.0905,  2.6106],\n",
       "         [-0.1117, -0.4471, -1.5924,  ...,  1.4604, -0.6944, -0.2318],\n",
       "         [ 1.9279, -1.6316,  1.4998,  ...,  0.6960,  0.9025,  0.4291]],\n",
       "\n",
       "        [[ 0.7364,  1.0763,  0.5302,  ...,  1.2749, -1.6080,  0.2292],\n",
       "         [ 1.5710, -0.9185,  0.5799,  ...,  0.4873, -0.4531, -1.9040],\n",
       "         [-0.2140, -2.0194,  1.1037,  ...,  1.6910,  0.2012,  1.6362],\n",
       "         ...,\n",
       "         [-0.6821,  0.3237, -1.0316,  ...,  1.4604, -0.6945, -0.2318],\n",
       "         [ 2.2682, -0.7351,  1.5891,  ...,  0.6960,  0.9024,  0.4291],\n",
       "         [-1.0387, -0.5082, -0.4313,  ...,  2.2490, -0.5001, -0.1232]]],\n",
       "       grad_fn=<AddBackward0>)"
      ]
     },
     "execution_count": 53,
     "metadata": {},
     "output_type": "execute_result"
    }
   ],
   "source": [
    "x"
   ]
  },
  {
   "cell_type": "code",
   "execution_count": 54,
   "id": "b9d6bd23-18c6-4690-affa-347f5bfbdbce",
   "metadata": {
    "tags": []
   },
   "outputs": [],
   "source": [
    "y = y_batch_embedding + position_encoding_lookup_table"
   ]
  },
  {
   "cell_type": "code",
   "execution_count": 55,
   "id": "e5783eac-7a01-47be-8c57-117a92af8074",
   "metadata": {
    "tags": []
   },
   "outputs": [
    {
     "data": {
      "text/plain": [
       "tensor([[[ 0.3578,  1.4508, -0.0893,  ...,  1.6174, -1.6597,  2.0343],\n",
       "         [-0.3766, -0.2291,  0.4308,  ...,  1.7185, -1.3976,  1.0856],\n",
       "         [ 0.8002, -0.9211,  0.6341,  ...,  1.6799, -1.0962,  0.5426],\n",
       "         ...,\n",
       "         [ 0.9490,  0.7842,  0.3802,  ...,  2.3189, -1.4215, -0.1154],\n",
       "         [ 1.4256, -0.0520, -1.7973,  ...,  2.2932, -0.1853,  1.6981],\n",
       "         [-0.0983, -1.2139, -2.0702,  ...,  2.2897,  1.8374,  0.3341]],\n",
       "\n",
       "        [[ 0.7627,  0.8701,  1.3250,  ..., -0.8814,  0.1129,  0.0060],\n",
       "         [ 0.2805, -0.1522,  0.7111,  ..., -0.6117, -1.4969,  0.8506],\n",
       "         [-0.2667, -0.5526,  0.4538,  ...,  1.2144,  1.7487,  2.1098],\n",
       "         ...,\n",
       "         [ 1.2015,  1.3082, -0.5401,  ...,  2.0320, -0.7789,  2.5704],\n",
       "         [ 2.2682, -0.7351,  1.5891,  ...,  0.6960,  0.9024,  0.4291],\n",
       "         [ 0.0357, -0.8712, -1.8122,  ..., -0.5480,  0.3138, -0.0434]],\n",
       "\n",
       "        [[ 0.7364,  1.0763,  0.5302,  ...,  1.2749, -1.6080,  0.2292],\n",
       "         [ 1.5710, -0.9185,  0.5799,  ...,  0.4873, -0.4531, -1.9040],\n",
       "         [-0.2140, -2.0194,  1.1037,  ...,  1.6910,  0.2012,  1.6362],\n",
       "         ...,\n",
       "         [-0.6821,  0.3237, -1.0316,  ...,  1.4604, -0.6945, -0.2318],\n",
       "         [ 2.2682, -0.7351,  1.5891,  ...,  0.6960,  0.9024,  0.4291],\n",
       "         [-1.0387, -0.5082, -0.4313,  ...,  2.2490, -0.5001, -0.1232]],\n",
       "\n",
       "        [[ 0.7295, -0.4588, -0.1017,  ...,  0.4873, -0.4533, -1.9040],\n",
       "         [-0.2818, -1.0630,  0.7878,  ...,  1.6910,  0.2010,  1.6362],\n",
       "         [ 1.5381,  0.9325,  0.4156,  ...,  0.8430,  0.9286,  0.5567],\n",
       "         ...,\n",
       "         [ 1.6978,  0.0356,  2.1498,  ...,  0.6960,  0.9023,  0.4291],\n",
       "         [-0.6983,  0.3882, -0.3421,  ...,  2.2490, -0.5002, -0.1232],\n",
       "         [ 2.0651,  0.6537, -2.2216,  ...,  0.9668, -0.1715,  1.1939]]],\n",
       "       grad_fn=<AddBackward0>)"
      ]
     },
     "execution_count": 55,
     "metadata": {},
     "output_type": "execute_result"
    }
   ],
   "source": [
    "y"
   ]
  },
  {
   "cell_type": "code",
   "execution_count": 56,
   "id": "e251f280-01d9-4fe0-b0b7-08636f0ab79c",
   "metadata": {
    "tags": []
   },
   "outputs": [
    {
     "data": {
      "text/plain": [
       "(torch.Size([4, 16, 64]), torch.Size([4, 16, 64]))"
      ]
     },
     "execution_count": 56,
     "metadata": {},
     "output_type": "execute_result"
    }
   ],
   "source": [
    "x.shape, y.shape"
   ]
  },
  {
   "cell_type": "code",
   "execution_count": 57,
   "id": "b3c63241-a63b-4b12-b2db-d370642066c2",
   "metadata": {
    "tags": []
   },
   "outputs": [
    {
     "data": {
      "text/html": [
       "<div>\n",
       "<style scoped>\n",
       "    .dataframe tbody tr th:only-of-type {\n",
       "        vertical-align: middle;\n",
       "    }\n",
       "\n",
       "    .dataframe tbody tr th {\n",
       "        vertical-align: top;\n",
       "    }\n",
       "\n",
       "    .dataframe thead th {\n",
       "        text-align: right;\n",
       "    }\n",
       "</style>\n",
       "<table border=\"1\" class=\"dataframe\">\n",
       "  <thead>\n",
       "    <tr style=\"text-align: right;\">\n",
       "      <th></th>\n",
       "      <th>0</th>\n",
       "      <th>1</th>\n",
       "      <th>2</th>\n",
       "      <th>3</th>\n",
       "      <th>4</th>\n",
       "      <th>5</th>\n",
       "      <th>6</th>\n",
       "      <th>7</th>\n",
       "      <th>8</th>\n",
       "      <th>9</th>\n",
       "      <th>...</th>\n",
       "      <th>54</th>\n",
       "      <th>55</th>\n",
       "      <th>56</th>\n",
       "      <th>57</th>\n",
       "      <th>58</th>\n",
       "      <th>59</th>\n",
       "      <th>60</th>\n",
       "      <th>61</th>\n",
       "      <th>62</th>\n",
       "      <th>63</th>\n",
       "    </tr>\n",
       "  </thead>\n",
       "  <tbody>\n",
       "    <tr>\n",
       "      <th>0</th>\n",
       "      <td>2.227319</td>\n",
       "      <td>1.208381</td>\n",
       "      <td>-0.867762</td>\n",
       "      <td>-0.291035</td>\n",
       "      <td>-0.343142</td>\n",
       "      <td>-1.160986</td>\n",
       "      <td>0.202412</td>\n",
       "      <td>0.810499</td>\n",
       "      <td>1.222083</td>\n",
       "      <td>1.075176</td>\n",
       "      <td>...</td>\n",
       "      <td>1.310896</td>\n",
       "      <td>-0.040836</td>\n",
       "      <td>-1.200476</td>\n",
       "      <td>1.212839</td>\n",
       "      <td>0.039117</td>\n",
       "      <td>-0.290366</td>\n",
       "      <td>2.635434</td>\n",
       "      <td>1.592633</td>\n",
       "      <td>0.051152</td>\n",
       "      <td>2.377050</td>\n",
       "    </tr>\n",
       "    <tr>\n",
       "      <th>1</th>\n",
       "      <td>1.199244</td>\n",
       "      <td>0.991056</td>\n",
       "      <td>0.592263</td>\n",
       "      <td>0.933342</td>\n",
       "      <td>0.045801</td>\n",
       "      <td>1.601769</td>\n",
       "      <td>-0.794732</td>\n",
       "      <td>1.100391</td>\n",
       "      <td>0.536851</td>\n",
       "      <td>0.342772</td>\n",
       "      <td>...</td>\n",
       "      <td>-1.421795</td>\n",
       "      <td>0.430002</td>\n",
       "      <td>-2.296274</td>\n",
       "      <td>0.682391</td>\n",
       "      <td>-1.125544</td>\n",
       "      <td>1.039780</td>\n",
       "      <td>-0.736582</td>\n",
       "      <td>1.617381</td>\n",
       "      <td>-1.659551</td>\n",
       "      <td>2.034280</td>\n",
       "    </tr>\n",
       "    <tr>\n",
       "      <th>2</th>\n",
       "      <td>-0.308749</td>\n",
       "      <td>-1.185501</td>\n",
       "      <td>0.746684</td>\n",
       "      <td>-0.780624</td>\n",
       "      <td>0.083542</td>\n",
       "      <td>1.153145</td>\n",
       "      <td>-0.036034</td>\n",
       "      <td>0.175532</td>\n",
       "      <td>-0.025557</td>\n",
       "      <td>1.172675</td>\n",
       "      <td>...</td>\n",
       "      <td>-1.304787</td>\n",
       "      <td>0.517356</td>\n",
       "      <td>-0.768915</td>\n",
       "      <td>2.453286</td>\n",
       "      <td>-0.132233</td>\n",
       "      <td>1.682389</td>\n",
       "      <td>-0.506289</td>\n",
       "      <td>1.718456</td>\n",
       "      <td>-1.397431</td>\n",
       "      <td>1.085632</td>\n",
       "    </tr>\n",
       "    <tr>\n",
       "      <th>3</th>\n",
       "      <td>0.032044</td>\n",
       "      <td>-1.494931</td>\n",
       "      <td>0.414858</td>\n",
       "      <td>-0.925142</td>\n",
       "      <td>2.629792</td>\n",
       "      <td>-1.144530</td>\n",
       "      <td>-0.685785</td>\n",
       "      <td>-0.326149</td>\n",
       "      <td>0.158879</td>\n",
       "      <td>-0.114806</td>\n",
       "      <td>...</td>\n",
       "      <td>0.345901</td>\n",
       "      <td>0.649032</td>\n",
       "      <td>2.280771</td>\n",
       "      <td>0.029028</td>\n",
       "      <td>0.074907</td>\n",
       "      <td>-0.605091</td>\n",
       "      <td>1.007647</td>\n",
       "      <td>1.679901</td>\n",
       "      <td>-1.096116</td>\n",
       "      <td>0.542577</td>\n",
       "    </tr>\n",
       "    <tr>\n",
       "      <th>4</th>\n",
       "      <td>-1.060789</td>\n",
       "      <td>-0.412721</td>\n",
       "      <td>-0.923882</td>\n",
       "      <td>-0.723193</td>\n",
       "      <td>-0.184083</td>\n",
       "      <td>0.678690</td>\n",
       "      <td>1.529256</td>\n",
       "      <td>0.018259</td>\n",
       "      <td>0.129565</td>\n",
       "      <td>0.680820</td>\n",
       "      <td>...</td>\n",
       "      <td>-0.431877</td>\n",
       "      <td>0.779191</td>\n",
       "      <td>0.585883</td>\n",
       "      <td>0.382702</td>\n",
       "      <td>-0.148482</td>\n",
       "      <td>2.479179</td>\n",
       "      <td>1.081517</td>\n",
       "      <td>0.404456</td>\n",
       "      <td>-1.075124</td>\n",
       "      <td>1.786806</td>\n",
       "    </tr>\n",
       "    <tr>\n",
       "      <th>5</th>\n",
       "      <td>-0.948920</td>\n",
       "      <td>-1.361446</td>\n",
       "      <td>-0.797091</td>\n",
       "      <td>-0.989228</td>\n",
       "      <td>0.189803</td>\n",
       "      <td>-2.075689</td>\n",
       "      <td>1.784138</td>\n",
       "      <td>-0.658245</td>\n",
       "      <td>1.799834</td>\n",
       "      <td>-1.738389</td>\n",
       "      <td>...</td>\n",
       "      <td>-1.264379</td>\n",
       "      <td>1.780471</td>\n",
       "      <td>-0.324576</td>\n",
       "      <td>0.633097</td>\n",
       "      <td>0.180765</td>\n",
       "      <td>0.485122</td>\n",
       "      <td>-0.889180</td>\n",
       "      <td>-0.075535</td>\n",
       "      <td>0.407052</td>\n",
       "      <td>1.805238</td>\n",
       "    </tr>\n",
       "    <tr>\n",
       "      <th>6</th>\n",
       "      <td>-0.597395</td>\n",
       "      <td>1.875761</td>\n",
       "      <td>-1.450780</td>\n",
       "      <td>0.821889</td>\n",
       "      <td>0.657613</td>\n",
       "      <td>-0.428291</td>\n",
       "      <td>-1.106940</td>\n",
       "      <td>-1.103467</td>\n",
       "      <td>2.903076</td>\n",
       "      <td>0.899298</td>\n",
       "      <td>...</td>\n",
       "      <td>0.127273</td>\n",
       "      <td>1.778618</td>\n",
       "      <td>0.187178</td>\n",
       "      <td>-0.191826</td>\n",
       "      <td>-0.566161</td>\n",
       "      <td>0.562522</td>\n",
       "      <td>0.795930</td>\n",
       "      <td>1.216661</td>\n",
       "      <td>0.230630</td>\n",
       "      <td>1.741593</td>\n",
       "    </tr>\n",
       "    <tr>\n",
       "      <th>7</th>\n",
       "      <td>0.359223</td>\n",
       "      <td>0.206921</td>\n",
       "      <td>1.131576</td>\n",
       "      <td>-1.144079</td>\n",
       "      <td>-1.432628</td>\n",
       "      <td>-1.236437</td>\n",
       "      <td>-0.190696</td>\n",
       "      <td>-1.427646</td>\n",
       "      <td>0.236537</td>\n",
       "      <td>-1.275339</td>\n",
       "      <td>...</td>\n",
       "      <td>-0.135128</td>\n",
       "      <td>-0.305889</td>\n",
       "      <td>1.485477</td>\n",
       "      <td>-0.562883</td>\n",
       "      <td>0.143539</td>\n",
       "      <td>0.067994</td>\n",
       "      <td>0.391188</td>\n",
       "      <td>1.431948</td>\n",
       "      <td>-0.940127</td>\n",
       "      <td>1.029929</td>\n",
       "    </tr>\n",
       "    <tr>\n",
       "      <th>8</th>\n",
       "      <td>0.428367</td>\n",
       "      <td>-0.837962</td>\n",
       "      <td>-0.250654</td>\n",
       "      <td>1.326563</td>\n",
       "      <td>0.974910</td>\n",
       "      <td>0.246996</td>\n",
       "      <td>0.599119</td>\n",
       "      <td>0.319862</td>\n",
       "      <td>1.503827</td>\n",
       "      <td>1.437559</td>\n",
       "      <td>...</td>\n",
       "      <td>-1.598417</td>\n",
       "      <td>-1.088883</td>\n",
       "      <td>1.673712</td>\n",
       "      <td>-0.454880</td>\n",
       "      <td>0.851233</td>\n",
       "      <td>2.683140</td>\n",
       "      <td>0.223131</td>\n",
       "      <td>-0.611667</td>\n",
       "      <td>-1.495960</td>\n",
       "      <td>0.850562</td>\n",
       "    </tr>\n",
       "    <tr>\n",
       "      <th>9</th>\n",
       "      <td>0.761187</td>\n",
       "      <td>0.178431</td>\n",
       "      <td>-0.929669</td>\n",
       "      <td>0.898708</td>\n",
       "      <td>0.026683</td>\n",
       "      <td>2.011811</td>\n",
       "      <td>0.097315</td>\n",
       "      <td>-1.314950</td>\n",
       "      <td>-1.103001</td>\n",
       "      <td>0.943769</td>\n",
       "      <td>...</td>\n",
       "      <td>-0.419356</td>\n",
       "      <td>0.280893</td>\n",
       "      <td>-0.413504</td>\n",
       "      <td>0.646797</td>\n",
       "      <td>-0.182306</td>\n",
       "      <td>3.690764</td>\n",
       "      <td>0.536161</td>\n",
       "      <td>2.294566</td>\n",
       "      <td>-0.245955</td>\n",
       "      <td>1.193938</td>\n",
       "    </tr>\n",
       "    <tr>\n",
       "      <th>10</th>\n",
       "      <td>-0.119139</td>\n",
       "      <td>-0.793767</td>\n",
       "      <td>-0.663901</td>\n",
       "      <td>-0.443949</td>\n",
       "      <td>1.639031</td>\n",
       "      <td>-0.345473</td>\n",
       "      <td>0.449689</td>\n",
       "      <td>-0.518911</td>\n",
       "      <td>-0.682141</td>\n",
       "      <td>-0.057276</td>\n",
       "      <td>...</td>\n",
       "      <td>-1.804848</td>\n",
       "      <td>1.317153</td>\n",
       "      <td>0.458971</td>\n",
       "      <td>2.032853</td>\n",
       "      <td>0.741896</td>\n",
       "      <td>0.862796</td>\n",
       "      <td>1.827567</td>\n",
       "      <td>1.268273</td>\n",
       "      <td>0.015586</td>\n",
       "      <td>0.840279</td>\n",
       "    </tr>\n",
       "    <tr>\n",
       "      <th>11</th>\n",
       "      <td>-1.767509</td>\n",
       "      <td>0.062002</td>\n",
       "      <td>2.155841</td>\n",
       "      <td>-1.584373</td>\n",
       "      <td>0.324903</td>\n",
       "      <td>2.488071</td>\n",
       "      <td>-1.375307</td>\n",
       "      <td>-0.670647</td>\n",
       "      <td>0.449972</td>\n",
       "      <td>-2.330634</td>\n",
       "      <td>...</td>\n",
       "      <td>-0.327622</td>\n",
       "      <td>1.691435</td>\n",
       "      <td>1.144009</td>\n",
       "      <td>0.440066</td>\n",
       "      <td>0.057642</td>\n",
       "      <td>0.193753</td>\n",
       "      <td>0.218580</td>\n",
       "      <td>1.549918</td>\n",
       "      <td>-1.497157</td>\n",
       "      <td>0.604281</td>\n",
       "    </tr>\n",
       "    <tr>\n",
       "      <th>12</th>\n",
       "      <td>-0.206040</td>\n",
       "      <td>0.278860</td>\n",
       "      <td>1.527862</td>\n",
       "      <td>-0.722072</td>\n",
       "      <td>1.710583</td>\n",
       "      <td>1.622460</td>\n",
       "      <td>-1.219322</td>\n",
       "      <td>1.390621</td>\n",
       "      <td>-1.195254</td>\n",
       "      <td>-1.518073</td>\n",
       "      <td>...</td>\n",
       "      <td>0.749240</td>\n",
       "      <td>1.420098</td>\n",
       "      <td>0.031684</td>\n",
       "      <td>1.713492</td>\n",
       "      <td>0.190950</td>\n",
       "      <td>1.117284</td>\n",
       "      <td>-0.653514</td>\n",
       "      <td>2.449676</td>\n",
       "      <td>-0.803994</td>\n",
       "      <td>1.258677</td>\n",
       "    </tr>\n",
       "    <tr>\n",
       "      <th>13</th>\n",
       "      <td>-0.988027</td>\n",
       "      <td>2.059537</td>\n",
       "      <td>-2.223679</td>\n",
       "      <td>-0.396239</td>\n",
       "      <td>1.094616</td>\n",
       "      <td>-0.574849</td>\n",
       "      <td>-0.038652</td>\n",
       "      <td>-0.199453</td>\n",
       "      <td>-0.623275</td>\n",
       "      <td>0.117403</td>\n",
       "      <td>...</td>\n",
       "      <td>-0.474449</td>\n",
       "      <td>1.275520</td>\n",
       "      <td>0.101235</td>\n",
       "      <td>0.772985</td>\n",
       "      <td>0.025865</td>\n",
       "      <td>0.950259</td>\n",
       "      <td>-1.793974</td>\n",
       "      <td>-1.263074</td>\n",
       "      <td>0.707843</td>\n",
       "      <td>0.895882</td>\n",
       "    </tr>\n",
       "    <tr>\n",
       "      <th>14</th>\n",
       "      <td>1.519404</td>\n",
       "      <td>0.013453</td>\n",
       "      <td>-0.180528</td>\n",
       "      <td>-1.089987</td>\n",
       "      <td>2.297390</td>\n",
       "      <td>0.273756</td>\n",
       "      <td>-1.986973</td>\n",
       "      <td>1.405832</td>\n",
       "      <td>-0.016108</td>\n",
       "      <td>-0.847113</td>\n",
       "      <td>...</td>\n",
       "      <td>-1.053596</td>\n",
       "      <td>-0.042243</td>\n",
       "      <td>0.533234</td>\n",
       "      <td>0.530352</td>\n",
       "      <td>-0.022197</td>\n",
       "      <td>2.151105</td>\n",
       "      <td>-0.258473</td>\n",
       "      <td>2.318940</td>\n",
       "      <td>-1.421343</td>\n",
       "      <td>-0.115446</td>\n",
       "    </tr>\n",
       "    <tr>\n",
       "      <th>15</th>\n",
       "      <td>1.085254</td>\n",
       "      <td>-0.948398</td>\n",
       "      <td>-1.886509</td>\n",
       "      <td>2.327165</td>\n",
       "      <td>0.765637</td>\n",
       "      <td>0.565310</td>\n",
       "      <td>-0.964215</td>\n",
       "      <td>2.345272</td>\n",
       "      <td>-0.862597</td>\n",
       "      <td>0.662060</td>\n",
       "      <td>...</td>\n",
       "      <td>-0.235830</td>\n",
       "      <td>0.356784</td>\n",
       "      <td>-1.192792</td>\n",
       "      <td>2.539941</td>\n",
       "      <td>-0.581010</td>\n",
       "      <td>-0.367471</td>\n",
       "      <td>-0.368991</td>\n",
       "      <td>2.293156</td>\n",
       "      <td>-0.185197</td>\n",
       "      <td>1.698126</td>\n",
       "    </tr>\n",
       "  </tbody>\n",
       "</table>\n",
       "<p>16 rows × 64 columns</p>\n",
       "</div>"
      ],
      "text/plain": [
       "          0         1         2         3         4         5         6   \\\n",
       "0   2.227319  1.208381 -0.867762 -0.291035 -0.343142 -1.160986  0.202412   \n",
       "1   1.199244  0.991056  0.592263  0.933342  0.045801  1.601769 -0.794732   \n",
       "2  -0.308749 -1.185501  0.746684 -0.780624  0.083542  1.153145 -0.036034   \n",
       "3   0.032044 -1.494931  0.414858 -0.925142  2.629792 -1.144530 -0.685785   \n",
       "4  -1.060789 -0.412721 -0.923882 -0.723193 -0.184083  0.678690  1.529256   \n",
       "5  -0.948920 -1.361446 -0.797091 -0.989228  0.189803 -2.075689  1.784138   \n",
       "6  -0.597395  1.875761 -1.450780  0.821889  0.657613 -0.428291 -1.106940   \n",
       "7   0.359223  0.206921  1.131576 -1.144079 -1.432628 -1.236437 -0.190696   \n",
       "8   0.428367 -0.837962 -0.250654  1.326563  0.974910  0.246996  0.599119   \n",
       "9   0.761187  0.178431 -0.929669  0.898708  0.026683  2.011811  0.097315   \n",
       "10 -0.119139 -0.793767 -0.663901 -0.443949  1.639031 -0.345473  0.449689   \n",
       "11 -1.767509  0.062002  2.155841 -1.584373  0.324903  2.488071 -1.375307   \n",
       "12 -0.206040  0.278860  1.527862 -0.722072  1.710583  1.622460 -1.219322   \n",
       "13 -0.988027  2.059537 -2.223679 -0.396239  1.094616 -0.574849 -0.038652   \n",
       "14  1.519404  0.013453 -0.180528 -1.089987  2.297390  0.273756 -1.986973   \n",
       "15  1.085254 -0.948398 -1.886509  2.327165  0.765637  0.565310 -0.964215   \n",
       "\n",
       "          7         8         9   ...        54        55        56        57  \\\n",
       "0   0.810499  1.222083  1.075176  ...  1.310896 -0.040836 -1.200476  1.212839   \n",
       "1   1.100391  0.536851  0.342772  ... -1.421795  0.430002 -2.296274  0.682391   \n",
       "2   0.175532 -0.025557  1.172675  ... -1.304787  0.517356 -0.768915  2.453286   \n",
       "3  -0.326149  0.158879 -0.114806  ...  0.345901  0.649032  2.280771  0.029028   \n",
       "4   0.018259  0.129565  0.680820  ... -0.431877  0.779191  0.585883  0.382702   \n",
       "5  -0.658245  1.799834 -1.738389  ... -1.264379  1.780471 -0.324576  0.633097   \n",
       "6  -1.103467  2.903076  0.899298  ...  0.127273  1.778618  0.187178 -0.191826   \n",
       "7  -1.427646  0.236537 -1.275339  ... -0.135128 -0.305889  1.485477 -0.562883   \n",
       "8   0.319862  1.503827  1.437559  ... -1.598417 -1.088883  1.673712 -0.454880   \n",
       "9  -1.314950 -1.103001  0.943769  ... -0.419356  0.280893 -0.413504  0.646797   \n",
       "10 -0.518911 -0.682141 -0.057276  ... -1.804848  1.317153  0.458971  2.032853   \n",
       "11 -0.670647  0.449972 -2.330634  ... -0.327622  1.691435  1.144009  0.440066   \n",
       "12  1.390621 -1.195254 -1.518073  ...  0.749240  1.420098  0.031684  1.713492   \n",
       "13 -0.199453 -0.623275  0.117403  ... -0.474449  1.275520  0.101235  0.772985   \n",
       "14  1.405832 -0.016108 -0.847113  ... -1.053596 -0.042243  0.533234  0.530352   \n",
       "15  2.345272 -0.862597  0.662060  ... -0.235830  0.356784 -1.192792  2.539941   \n",
       "\n",
       "          58        59        60        61        62        63  \n",
       "0   0.039117 -0.290366  2.635434  1.592633  0.051152  2.377050  \n",
       "1  -1.125544  1.039780 -0.736582  1.617381 -1.659551  2.034280  \n",
       "2  -0.132233  1.682389 -0.506289  1.718456 -1.397431  1.085632  \n",
       "3   0.074907 -0.605091  1.007647  1.679901 -1.096116  0.542577  \n",
       "4  -0.148482  2.479179  1.081517  0.404456 -1.075124  1.786806  \n",
       "5   0.180765  0.485122 -0.889180 -0.075535  0.407052  1.805238  \n",
       "6  -0.566161  0.562522  0.795930  1.216661  0.230630  1.741593  \n",
       "7   0.143539  0.067994  0.391188  1.431948 -0.940127  1.029929  \n",
       "8   0.851233  2.683140  0.223131 -0.611667 -1.495960  0.850562  \n",
       "9  -0.182306  3.690764  0.536161  2.294566 -0.245955  1.193938  \n",
       "10  0.741896  0.862796  1.827567  1.268273  0.015586  0.840279  \n",
       "11  0.057642  0.193753  0.218580  1.549918 -1.497157  0.604281  \n",
       "12  0.190950  1.117284 -0.653514  2.449676 -0.803994  1.258677  \n",
       "13  0.025865  0.950259 -1.793974 -1.263074  0.707843  0.895882  \n",
       "14 -0.022197  2.151105 -0.258473  2.318940 -1.421343 -0.115446  \n",
       "15 -0.581010 -0.367471 -0.368991  2.293156 -0.185197  1.698126  \n",
       "\n",
       "[16 rows x 64 columns]"
      ]
     },
     "execution_count": 57,
     "metadata": {},
     "output_type": "execute_result"
    }
   ],
   "source": [
    "pd.DataFrame(x[0].detach().numpy())"
   ]
  },
  {
   "cell_type": "code",
   "execution_count": 58,
   "id": "9ece05aa-ad35-40c1-843e-370a13ddc910",
   "metadata": {},
   "outputs": [
    {
     "data": {
      "text/html": [
       "<div>\n",
       "<style scoped>\n",
       "    .dataframe tbody tr th:only-of-type {\n",
       "        vertical-align: middle;\n",
       "    }\n",
       "\n",
       "    .dataframe tbody tr th {\n",
       "        vertical-align: top;\n",
       "    }\n",
       "\n",
       "    .dataframe thead th {\n",
       "        text-align: right;\n",
       "    }\n",
       "</style>\n",
       "<table border=\"1\" class=\"dataframe\">\n",
       "  <thead>\n",
       "    <tr style=\"text-align: right;\">\n",
       "      <th></th>\n",
       "      <th>0</th>\n",
       "      <th>1</th>\n",
       "      <th>2</th>\n",
       "      <th>3</th>\n",
       "      <th>4</th>\n",
       "      <th>5</th>\n",
       "      <th>6</th>\n",
       "      <th>7</th>\n",
       "      <th>8</th>\n",
       "      <th>9</th>\n",
       "      <th>...</th>\n",
       "      <th>54</th>\n",
       "      <th>55</th>\n",
       "      <th>56</th>\n",
       "      <th>57</th>\n",
       "      <th>58</th>\n",
       "      <th>59</th>\n",
       "      <th>60</th>\n",
       "      <th>61</th>\n",
       "      <th>62</th>\n",
       "      <th>63</th>\n",
       "    </tr>\n",
       "  </thead>\n",
       "  <tbody>\n",
       "    <tr>\n",
       "      <th>0</th>\n",
       "      <td>0.357773</td>\n",
       "      <td>1.450754</td>\n",
       "      <td>-0.089299</td>\n",
       "      <td>1.201581</td>\n",
       "      <td>-0.487368</td>\n",
       "      <td>1.755760</td>\n",
       "      <td>-1.204041</td>\n",
       "      <td>1.187995</td>\n",
       "      <td>0.225868</td>\n",
       "      <td>0.392357</td>\n",
       "      <td>...</td>\n",
       "      <td>-1.422216</td>\n",
       "      <td>0.430002</td>\n",
       "      <td>-2.296590</td>\n",
       "      <td>0.682391</td>\n",
       "      <td>-1.125781</td>\n",
       "      <td>1.039780</td>\n",
       "      <td>-0.736760</td>\n",
       "      <td>1.617381</td>\n",
       "      <td>-1.659685</td>\n",
       "      <td>2.034280</td>\n",
       "    </tr>\n",
       "    <tr>\n",
       "      <th>1</th>\n",
       "      <td>-0.376576</td>\n",
       "      <td>-0.229051</td>\n",
       "      <td>0.430766</td>\n",
       "      <td>-0.119812</td>\n",
       "      <td>-0.285420</td>\n",
       "      <td>1.567691</td>\n",
       "      <td>-0.373629</td>\n",
       "      <td>0.422995</td>\n",
       "      <td>-0.305700</td>\n",
       "      <td>1.316512</td>\n",
       "      <td>...</td>\n",
       "      <td>-1.305209</td>\n",
       "      <td>0.517357</td>\n",
       "      <td>-0.769232</td>\n",
       "      <td>2.453286</td>\n",
       "      <td>-0.132470</td>\n",
       "      <td>1.682389</td>\n",
       "      <td>-0.506467</td>\n",
       "      <td>1.718456</td>\n",
       "      <td>-1.397565</td>\n",
       "      <td>1.085632</td>\n",
       "    </tr>\n",
       "    <tr>\n",
       "      <th>2</th>\n",
       "      <td>0.800221</td>\n",
       "      <td>-0.921085</td>\n",
       "      <td>0.634066</td>\n",
       "      <td>-0.226267</td>\n",
       "      <td>2.538670</td>\n",
       "      <td>-0.597101</td>\n",
       "      <td>-0.892516</td>\n",
       "      <td>0.037816</td>\n",
       "      <td>-0.062642</td>\n",
       "      <td>0.109018</td>\n",
       "      <td>...</td>\n",
       "      <td>0.345480</td>\n",
       "      <td>0.649032</td>\n",
       "      <td>2.280455</td>\n",
       "      <td>0.029028</td>\n",
       "      <td>0.074670</td>\n",
       "      <td>-0.605091</td>\n",
       "      <td>1.007469</td>\n",
       "      <td>1.679901</td>\n",
       "      <td>-1.096249</td>\n",
       "      <td>0.542577</td>\n",
       "    </tr>\n",
       "    <tr>\n",
       "      <th>3</th>\n",
       "      <td>-0.162866</td>\n",
       "      <td>-0.749070</td>\n",
       "      <td>-0.287149</td>\n",
       "      <td>-0.361187</td>\n",
       "      <td>0.030699</td>\n",
       "      <td>1.190404</td>\n",
       "      <td>1.489609</td>\n",
       "      <td>0.434956</td>\n",
       "      <td>-0.011366</td>\n",
       "      <td>0.962436</td>\n",
       "      <td>...</td>\n",
       "      <td>-0.432298</td>\n",
       "      <td>0.779191</td>\n",
       "      <td>0.585567</td>\n",
       "      <td>0.382702</td>\n",
       "      <td>-0.148719</td>\n",
       "      <td>2.479179</td>\n",
       "      <td>1.081339</td>\n",
       "      <td>0.404456</td>\n",
       "      <td>-1.075257</td>\n",
       "      <td>1.786806</td>\n",
       "    </tr>\n",
       "    <tr>\n",
       "      <th>4</th>\n",
       "      <td>-0.746798</td>\n",
       "      <td>-2.298752</td>\n",
       "      <td>-0.084425</td>\n",
       "      <td>-1.158299</td>\n",
       "      <td>0.644339</td>\n",
       "      <td>-1.757290</td>\n",
       "      <td>1.918523</td>\n",
       "      <td>-0.261824</td>\n",
       "      <td>1.753469</td>\n",
       "      <td>-1.426909</td>\n",
       "      <td>...</td>\n",
       "      <td>-1.264800</td>\n",
       "      <td>1.780472</td>\n",
       "      <td>-0.324892</td>\n",
       "      <td>0.633097</td>\n",
       "      <td>0.180528</td>\n",
       "      <td>0.485122</td>\n",
       "      <td>-0.889358</td>\n",
       "      <td>-0.075535</td>\n",
       "      <td>0.406919</td>\n",
       "      <td>1.805238</td>\n",
       "    </tr>\n",
       "    <tr>\n",
       "      <th>5</th>\n",
       "      <td>-1.276904</td>\n",
       "      <td>1.199253</td>\n",
       "      <td>-1.044511</td>\n",
       "      <td>0.212444</td>\n",
       "      <td>1.211916</td>\n",
       "      <td>-0.401266</td>\n",
       "      <td>-0.822069</td>\n",
       "      <td>-0.796780</td>\n",
       "      <td>2.955874</td>\n",
       "      <td>1.209752</td>\n",
       "      <td>...</td>\n",
       "      <td>0.126851</td>\n",
       "      <td>1.778619</td>\n",
       "      <td>0.186862</td>\n",
       "      <td>-0.191826</td>\n",
       "      <td>-0.566398</td>\n",
       "      <td>0.562522</td>\n",
       "      <td>0.795752</td>\n",
       "      <td>1.216661</td>\n",
       "      <td>0.230497</td>\n",
       "      <td>1.741593</td>\n",
       "    </tr>\n",
       "    <tr>\n",
       "      <th>6</th>\n",
       "      <td>-0.577179</td>\n",
       "      <td>0.413189</td>\n",
       "      <td>1.013493</td>\n",
       "      <td>-1.866944</td>\n",
       "      <td>-0.949274</td>\n",
       "      <td>-1.509111</td>\n",
       "      <td>0.194748</td>\n",
       "      <td>-1.264426</td>\n",
       "      <td>0.383264</td>\n",
       "      <td>-0.996698</td>\n",
       "      <td>...</td>\n",
       "      <td>-0.135550</td>\n",
       "      <td>-0.305888</td>\n",
       "      <td>1.485160</td>\n",
       "      <td>-0.562882</td>\n",
       "      <td>0.143301</td>\n",
       "      <td>0.067994</td>\n",
       "      <td>0.391010</td>\n",
       "      <td>1.431948</td>\n",
       "      <td>-0.940260</td>\n",
       "      <td>1.029929</td>\n",
       "    </tr>\n",
       "    <tr>\n",
       "      <th>7</th>\n",
       "      <td>0.095995</td>\n",
       "      <td>0.061440</td>\n",
       "      <td>-0.829740</td>\n",
       "      <td>0.878079</td>\n",
       "      <td>1.238451</td>\n",
       "      <td>-0.241397</td>\n",
       "      <td>1.017604</td>\n",
       "      <td>0.311017</td>\n",
       "      <td>1.729931</td>\n",
       "      <td>1.656754</td>\n",
       "      <td>...</td>\n",
       "      <td>-1.598838</td>\n",
       "      <td>-1.088881</td>\n",
       "      <td>1.673396</td>\n",
       "      <td>-0.454879</td>\n",
       "      <td>0.850996</td>\n",
       "      <td>2.683141</td>\n",
       "      <td>0.222953</td>\n",
       "      <td>-0.611666</td>\n",
       "      <td>-1.496093</td>\n",
       "      <td>0.850562</td>\n",
       "    </tr>\n",
       "    <tr>\n",
       "      <th>8</th>\n",
       "      <td>1.338427</td>\n",
       "      <td>0.944061</td>\n",
       "      <td>-1.659091</td>\n",
       "      <td>0.965207</td>\n",
       "      <td>-0.010755</td>\n",
       "      <td>1.458114</td>\n",
       "      <td>0.475519</td>\n",
       "      <td>-1.494310</td>\n",
       "      <td>-0.819942</td>\n",
       "      <td>1.081781</td>\n",
       "      <td>...</td>\n",
       "      <td>-0.419777</td>\n",
       "      <td>0.280895</td>\n",
       "      <td>-0.413820</td>\n",
       "      <td>0.646798</td>\n",
       "      <td>-0.182543</td>\n",
       "      <td>3.690764</td>\n",
       "      <td>0.535984</td>\n",
       "      <td>2.294566</td>\n",
       "      <td>-0.246089</td>\n",
       "      <td>1.193938</td>\n",
       "    </tr>\n",
       "    <tr>\n",
       "      <th>9</th>\n",
       "      <td>0.837001</td>\n",
       "      <td>-0.865825</td>\n",
       "      <td>-1.152340</td>\n",
       "      <td>0.101857</td>\n",
       "      <td>1.312144</td>\n",
       "      <td>-0.793945</td>\n",
       "      <td>0.721348</td>\n",
       "      <td>-0.837360</td>\n",
       "      <td>-0.370198</td>\n",
       "      <td>-0.014134</td>\n",
       "      <td>...</td>\n",
       "      <td>-1.805270</td>\n",
       "      <td>1.317155</td>\n",
       "      <td>0.458655</td>\n",
       "      <td>2.032854</td>\n",
       "      <td>0.741658</td>\n",
       "      <td>0.862796</td>\n",
       "      <td>1.827389</td>\n",
       "      <td>1.268273</td>\n",
       "      <td>0.015452</td>\n",
       "      <td>0.840279</td>\n",
       "    </tr>\n",
       "    <tr>\n",
       "      <th>10</th>\n",
       "      <td>-1.311539</td>\n",
       "      <td>-0.781495</td>\n",
       "      <td>2.170422</td>\n",
       "      <td>-0.852072</td>\n",
       "      <td>-0.190757</td>\n",
       "      <td>2.282946</td>\n",
       "      <td>-1.257791</td>\n",
       "      <td>-1.072391</td>\n",
       "      <td>0.759863</td>\n",
       "      <td>-2.386641</td>\n",
       "      <td>...</td>\n",
       "      <td>-0.328043</td>\n",
       "      <td>1.691437</td>\n",
       "      <td>1.143693</td>\n",
       "      <td>0.440067</td>\n",
       "      <td>0.057404</td>\n",
       "      <td>0.193754</td>\n",
       "      <td>0.218403</td>\n",
       "      <td>1.549918</td>\n",
       "      <td>-1.497290</td>\n",
       "      <td>0.604281</td>\n",
       "    </tr>\n",
       "    <tr>\n",
       "      <th>11</th>\n",
       "      <td>-0.669457</td>\n",
       "      <td>-0.560569</td>\n",
       "      <td>2.037639</td>\n",
       "      <td>-0.196140</td>\n",
       "      <td>1.164964</td>\n",
       "      <td>1.723856</td>\n",
       "      <td>-1.276538</td>\n",
       "      <td>0.975971</td>\n",
       "      <td>-0.918146</td>\n",
       "      <td>-1.667673</td>\n",
       "      <td>...</td>\n",
       "      <td>0.748818</td>\n",
       "      <td>1.420100</td>\n",
       "      <td>0.031368</td>\n",
       "      <td>1.713493</td>\n",
       "      <td>0.190713</td>\n",
       "      <td>1.117285</td>\n",
       "      <td>-0.653691</td>\n",
       "      <td>2.449676</td>\n",
       "      <td>-0.804127</td>\n",
       "      <td>1.258677</td>\n",
       "    </tr>\n",
       "    <tr>\n",
       "      <th>12</th>\n",
       "      <td>-1.944767</td>\n",
       "      <td>1.995945</td>\n",
       "      <td>-1.492188</td>\n",
       "      <td>-0.358827</td>\n",
       "      <td>0.687078</td>\n",
       "      <td>-0.198160</td>\n",
       "      <td>-0.260576</td>\n",
       "      <td>-0.554358</td>\n",
       "      <td>-0.406430</td>\n",
       "      <td>-0.110955</td>\n",
       "      <td>...</td>\n",
       "      <td>-0.474871</td>\n",
       "      <td>1.275522</td>\n",
       "      <td>0.100919</td>\n",
       "      <td>0.772986</td>\n",
       "      <td>0.025628</td>\n",
       "      <td>0.950260</td>\n",
       "      <td>-1.794152</td>\n",
       "      <td>-1.263074</td>\n",
       "      <td>0.707710</td>\n",
       "      <td>0.895882</td>\n",
       "    </tr>\n",
       "    <tr>\n",
       "      <th>13</th>\n",
       "      <td>0.948964</td>\n",
       "      <td>0.784162</td>\n",
       "      <td>0.380247</td>\n",
       "      <td>-1.561166</td>\n",
       "      <td>2.153448</td>\n",
       "      <td>0.809725</td>\n",
       "      <td>-2.334722</td>\n",
       "      <td>1.172853</td>\n",
       "      <td>0.118969</td>\n",
       "      <td>-1.131584</td>\n",
       "      <td>...</td>\n",
       "      <td>-1.054018</td>\n",
       "      <td>-0.042240</td>\n",
       "      <td>0.532918</td>\n",
       "      <td>0.530353</td>\n",
       "      <td>-0.022435</td>\n",
       "      <td>2.151105</td>\n",
       "      <td>-0.258651</td>\n",
       "      <td>2.318940</td>\n",
       "      <td>-1.421477</td>\n",
       "      <td>-0.115446</td>\n",
       "    </tr>\n",
       "    <tr>\n",
       "      <th>14</th>\n",
       "      <td>1.425574</td>\n",
       "      <td>-0.051973</td>\n",
       "      <td>-1.797293</td>\n",
       "      <td>1.600172</td>\n",
       "      <td>0.929622</td>\n",
       "      <td>1.095489</td>\n",
       "      <td>-1.376860</td>\n",
       "      <td>2.275039</td>\n",
       "      <td>-0.822683</td>\n",
       "      <td>0.349688</td>\n",
       "      <td>...</td>\n",
       "      <td>-0.236251</td>\n",
       "      <td>0.356787</td>\n",
       "      <td>-1.193108</td>\n",
       "      <td>2.539943</td>\n",
       "      <td>-0.581248</td>\n",
       "      <td>-0.367470</td>\n",
       "      <td>-0.369169</td>\n",
       "      <td>2.293157</td>\n",
       "      <td>-0.185330</td>\n",
       "      <td>1.698127</td>\n",
       "    </tr>\n",
       "    <tr>\n",
       "      <th>15</th>\n",
       "      <td>-0.098295</td>\n",
       "      <td>-1.213943</td>\n",
       "      <td>-2.070245</td>\n",
       "      <td>0.754599</td>\n",
       "      <td>0.155432</td>\n",
       "      <td>0.046495</td>\n",
       "      <td>1.136894</td>\n",
       "      <td>2.952732</td>\n",
       "      <td>-1.559527</td>\n",
       "      <td>0.884742</td>\n",
       "      <td>...</td>\n",
       "      <td>1.210328</td>\n",
       "      <td>0.759358</td>\n",
       "      <td>-1.324322</td>\n",
       "      <td>3.518668</td>\n",
       "      <td>-0.074451</td>\n",
       "      <td>-0.273923</td>\n",
       "      <td>-1.288975</td>\n",
       "      <td>2.289745</td>\n",
       "      <td>1.837441</td>\n",
       "      <td>0.334085</td>\n",
       "    </tr>\n",
       "  </tbody>\n",
       "</table>\n",
       "<p>16 rows × 64 columns</p>\n",
       "</div>"
      ],
      "text/plain": [
       "          0         1         2         3         4         5         6   \\\n",
       "0   0.357773  1.450754 -0.089299  1.201581 -0.487368  1.755760 -1.204041   \n",
       "1  -0.376576 -0.229051  0.430766 -0.119812 -0.285420  1.567691 -0.373629   \n",
       "2   0.800221 -0.921085  0.634066 -0.226267  2.538670 -0.597101 -0.892516   \n",
       "3  -0.162866 -0.749070 -0.287149 -0.361187  0.030699  1.190404  1.489609   \n",
       "4  -0.746798 -2.298752 -0.084425 -1.158299  0.644339 -1.757290  1.918523   \n",
       "5  -1.276904  1.199253 -1.044511  0.212444  1.211916 -0.401266 -0.822069   \n",
       "6  -0.577179  0.413189  1.013493 -1.866944 -0.949274 -1.509111  0.194748   \n",
       "7   0.095995  0.061440 -0.829740  0.878079  1.238451 -0.241397  1.017604   \n",
       "8   1.338427  0.944061 -1.659091  0.965207 -0.010755  1.458114  0.475519   \n",
       "9   0.837001 -0.865825 -1.152340  0.101857  1.312144 -0.793945  0.721348   \n",
       "10 -1.311539 -0.781495  2.170422 -0.852072 -0.190757  2.282946 -1.257791   \n",
       "11 -0.669457 -0.560569  2.037639 -0.196140  1.164964  1.723856 -1.276538   \n",
       "12 -1.944767  1.995945 -1.492188 -0.358827  0.687078 -0.198160 -0.260576   \n",
       "13  0.948964  0.784162  0.380247 -1.561166  2.153448  0.809725 -2.334722   \n",
       "14  1.425574 -0.051973 -1.797293  1.600172  0.929622  1.095489 -1.376860   \n",
       "15 -0.098295 -1.213943 -2.070245  0.754599  0.155432  0.046495  1.136894   \n",
       "\n",
       "          7         8         9   ...        54        55        56        57  \\\n",
       "0   1.187995  0.225868  0.392357  ... -1.422216  0.430002 -2.296590  0.682391   \n",
       "1   0.422995 -0.305700  1.316512  ... -1.305209  0.517357 -0.769232  2.453286   \n",
       "2   0.037816 -0.062642  0.109018  ...  0.345480  0.649032  2.280455  0.029028   \n",
       "3   0.434956 -0.011366  0.962436  ... -0.432298  0.779191  0.585567  0.382702   \n",
       "4  -0.261824  1.753469 -1.426909  ... -1.264800  1.780472 -0.324892  0.633097   \n",
       "5  -0.796780  2.955874  1.209752  ...  0.126851  1.778619  0.186862 -0.191826   \n",
       "6  -1.264426  0.383264 -0.996698  ... -0.135550 -0.305888  1.485160 -0.562882   \n",
       "7   0.311017  1.729931  1.656754  ... -1.598838 -1.088881  1.673396 -0.454879   \n",
       "8  -1.494310 -0.819942  1.081781  ... -0.419777  0.280895 -0.413820  0.646798   \n",
       "9  -0.837360 -0.370198 -0.014134  ... -1.805270  1.317155  0.458655  2.032854   \n",
       "10 -1.072391  0.759863 -2.386641  ... -0.328043  1.691437  1.143693  0.440067   \n",
       "11  0.975971 -0.918146 -1.667673  ...  0.748818  1.420100  0.031368  1.713493   \n",
       "12 -0.554358 -0.406430 -0.110955  ... -0.474871  1.275522  0.100919  0.772986   \n",
       "13  1.172853  0.118969 -1.131584  ... -1.054018 -0.042240  0.532918  0.530353   \n",
       "14  2.275039 -0.822683  0.349688  ... -0.236251  0.356787 -1.193108  2.539943   \n",
       "15  2.952732 -1.559527  0.884742  ...  1.210328  0.759358 -1.324322  3.518668   \n",
       "\n",
       "          58        59        60        61        62        63  \n",
       "0  -1.125781  1.039780 -0.736760  1.617381 -1.659685  2.034280  \n",
       "1  -0.132470  1.682389 -0.506467  1.718456 -1.397565  1.085632  \n",
       "2   0.074670 -0.605091  1.007469  1.679901 -1.096249  0.542577  \n",
       "3  -0.148719  2.479179  1.081339  0.404456 -1.075257  1.786806  \n",
       "4   0.180528  0.485122 -0.889358 -0.075535  0.406919  1.805238  \n",
       "5  -0.566398  0.562522  0.795752  1.216661  0.230497  1.741593  \n",
       "6   0.143301  0.067994  0.391010  1.431948 -0.940260  1.029929  \n",
       "7   0.850996  2.683141  0.222953 -0.611666 -1.496093  0.850562  \n",
       "8  -0.182543  3.690764  0.535984  2.294566 -0.246089  1.193938  \n",
       "9   0.741658  0.862796  1.827389  1.268273  0.015452  0.840279  \n",
       "10  0.057404  0.193754  0.218403  1.549918 -1.497290  0.604281  \n",
       "11  0.190713  1.117285 -0.653691  2.449676 -0.804127  1.258677  \n",
       "12  0.025628  0.950260 -1.794152 -1.263074  0.707710  0.895882  \n",
       "13 -0.022435  2.151105 -0.258651  2.318940 -1.421477 -0.115446  \n",
       "14 -0.581248 -0.367470 -0.369169  2.293157 -0.185330  1.698127  \n",
       "15 -0.074451 -0.273923 -1.288975  2.289745  1.837441  0.334085  \n",
       "\n",
       "[16 rows x 64 columns]"
      ]
     },
     "execution_count": 58,
     "metadata": {},
     "output_type": "execute_result"
    }
   ],
   "source": [
    "pd.DataFrame(y[0].detach().numpy())"
   ]
  },
  {
   "cell_type": "markdown",
   "id": "c624f2f1-d2ec-4cde-a609-86037b217aed",
   "metadata": {},
   "source": [
    "# 10、Q，K，V 初始化"
   ]
  },
  {
   "cell_type": "code",
   "execution_count": 59,
   "id": "a0e67aff-bc39-4c4e-8527-70d5e95b3329",
   "metadata": {
    "tags": []
   },
   "outputs": [],
   "source": [
    "Wq = nn.Linear(d_model, d_model)"
   ]
  },
  {
   "cell_type": "code",
   "execution_count": 60,
   "id": "120bb266-9282-4d77-945b-93732cd4b60a",
   "metadata": {
    "tags": []
   },
   "outputs": [
    {
     "data": {
      "text/plain": [
       "Linear(in_features=64, out_features=64, bias=True)"
      ]
     },
     "execution_count": 60,
     "metadata": {},
     "output_type": "execute_result"
    }
   ],
   "source": [
    "Wq"
   ]
  },
  {
   "cell_type": "markdown",
   "id": "d95e7216-b18e-46b2-8310-26f951d97cd3",
   "metadata": {},
   "source": [
    "# 使用Linear实现线性变变换\n",
    "## 数学应用方程：\n",
    "y = x * W^T + b，其中 W 是权重矩阵，b 是偏置向量。\n",
    "\n",
    "## 业务意义在于：\n",
    "给出多个样本特殊，调整权重和偏置，输出新的特殊\n",
    "\n",
    "## 举例应用说明：\n",
    "房价预测应该场景场景，给出多套房子的样本 1、[80.0, 2, 2010],   # 80㎡, 2室, 2010年建 2、[120.0, 3, 2015],  # 120㎡, 3室, 2015年建， 3、[95.0, 2, 2005],   # 95㎡, 2室, 2005年建，4、[150.0, 4, 2020]   # 150㎡, 4室, 2020年建；1，2，3，4 房屋对应的售价为[180.0, 320.0, 220.0, 450.0]（单位万元）\n",
    "\n",
    "## 目标应用说明：\n",
    "预测[110.0, 3, 2018] # 110㎡, 3室, 2018年建 房屋的售价\n",
    "\n",
    "## Linear函数说明：\n",
    "Wq = nn.Linear(输入特征, 输出特征) ， 在本实例中输入特殊是3个，分别是1、房屋面积，2、房屋室数，3、房屋的建造时间；输出特征是1个，房屋售价\n"
   ]
  },
  {
   "cell_type": "markdown",
   "id": "ac21d60d-38ca-4594-a480-3ad41dbf44c6",
   "metadata": {},
   "source": [
    "# 在transfomer 应用中的说明\n",
    "nn.Linear(d_model, d_model) 输入特征64个，输出特征64个；"
   ]
  },
  {
   "cell_type": "code",
   "execution_count": 61,
   "id": "5ee5e7c2-6556-4c12-94e5-b3eda5e9032f",
   "metadata": {
    "tags": []
   },
   "outputs": [],
   "source": [
    "Wk = nn.Linear(d_model, d_model)"
   ]
  },
  {
   "cell_type": "code",
   "execution_count": 62,
   "id": "c78e78d5-a9c6-44ae-99e2-f923f1b224c4",
   "metadata": {
    "tags": []
   },
   "outputs": [
    {
     "data": {
      "text/plain": [
       "Linear(in_features=64, out_features=64, bias=True)"
      ]
     },
     "execution_count": 62,
     "metadata": {},
     "output_type": "execute_result"
    }
   ],
   "source": [
    "Wk"
   ]
  },
  {
   "cell_type": "code",
   "execution_count": 63,
   "id": "49c05b90-63e9-4ea1-bba3-b2228363ecad",
   "metadata": {
    "tags": []
   },
   "outputs": [],
   "source": [
    "Wv = nn.Linear(d_model, d_model)"
   ]
  },
  {
   "cell_type": "code",
   "execution_count": 64,
   "id": "aff2e1a9-c6b0-4b35-b5a8-49097e62880c",
   "metadata": {
    "tags": []
   },
   "outputs": [
    {
     "data": {
      "text/plain": [
       "Linear(in_features=64, out_features=64, bias=True)"
      ]
     },
     "execution_count": 64,
     "metadata": {},
     "output_type": "execute_result"
    }
   ],
   "source": [
    "Wv"
   ]
  },
  {
   "cell_type": "code",
   "execution_count": 65,
   "id": "7f9fafbd-fa1a-4bbc-add3-8ee56070a4c8",
   "metadata": {
    "tags": []
   },
   "outputs": [],
   "source": [
    "Q = Wq(x)"
   ]
  },
  {
   "cell_type": "code",
   "execution_count": 66,
   "id": "b7068a2e-7808-4408-a2d2-e9aef48b5c9e",
   "metadata": {
    "tags": []
   },
   "outputs": [
    {
     "data": {
      "text/plain": [
       "(tensor([[[-0.3730,  0.2596,  0.0551,  ..., -1.1778, -0.4900,  0.2701],\n",
       "          [ 0.0948, -0.0452, -1.4833,  ..., -1.0527,  0.3641, -0.9317],\n",
       "          [ 1.3326, -0.1049,  0.7766,  ..., -0.7566,  1.0303, -1.4135],\n",
       "          ...,\n",
       "          [ 0.7365, -0.3461,  0.7025,  ...,  0.0836,  0.3765, -0.1521],\n",
       "          [ 0.5027,  0.8307,  0.1504,  ..., -1.0211, -0.0636,  0.1331],\n",
       "          [ 0.8030, -1.1224, -0.3981,  ..., -0.0471, -0.1667,  1.0940]],\n",
       " \n",
       "         [[ 0.7128,  0.5455,  0.6433,  ...,  0.5088,  1.4039,  0.4895],\n",
       "          [ 1.0800,  1.1886,  0.3522,  ..., -1.7433,  1.3344, -1.0574],\n",
       "          [-0.0990,  0.0650,  0.3896,  ..., -2.1305, -0.0659, -0.4703],\n",
       "          ...,\n",
       "          [ 0.4792,  1.1859,  0.0338,  ...,  0.3888,  1.1047, -0.9642],\n",
       "          [-0.6032, -1.5424,  0.1622,  ...,  0.2111, -0.2859, -0.1583],\n",
       "          [ 1.8390,  0.9554, -0.0900,  ..., -1.2859, -0.2285, -0.3110]],\n",
       " \n",
       "         [[-0.3380,  0.5130,  0.0695,  ..., -0.9158,  0.6343, -0.2454],\n",
       "          [ 0.1843, -0.3056, -1.3808,  ..., -1.7129,  1.4615,  0.2916],\n",
       "          [ 0.4074, -0.0771, -1.1594,  ..., -1.2346,  0.6168, -0.8074],\n",
       "          ...,\n",
       "          [ 1.1297,  0.3187,  0.6841,  ..., -0.1660,  0.1742, -1.0064],\n",
       "          [ 0.3536, -0.5725, -0.0298,  ...,  0.1758,  0.8339, -0.2734],\n",
       "          [ 1.8390,  0.9554, -0.0900,  ..., -1.2859, -0.2285, -0.3110]],\n",
       " \n",
       "         [[ 0.0577, -0.4023, -1.3243,  ..., -1.4938,  1.4616,  0.4693],\n",
       "          [ 0.2187, -0.1118, -1.0820,  ..., -1.0836,  0.6935, -0.5625],\n",
       "          [ 1.3432, -0.3348, -0.2620,  ..., -1.9554, -0.4451, -0.6455],\n",
       "          ...,\n",
       "          [ 0.1548, -0.4934,  0.0348,  ...,  0.3953,  1.0763, -0.2855],\n",
       "          [ 1.7873,  1.1313,  0.0461,  ..., -1.1483, -0.0605, -0.2528],\n",
       "          [ 1.0757,  0.4767,  0.6066,  ...,  1.3332,  0.3313, -0.9808]]],\n",
       "        grad_fn=<ViewBackward0>),\n",
       " torch.Size([4, 16, 64]))"
      ]
     },
     "execution_count": 66,
     "metadata": {},
     "output_type": "execute_result"
    }
   ],
   "source": [
    "Q, Q.shape"
   ]
  },
  {
   "cell_type": "code",
   "execution_count": 67,
   "id": "b37c629f-f389-4fff-be58-922d8ab84e8a",
   "metadata": {
    "tags": []
   },
   "outputs": [],
   "source": [
    "K = Wk(x)"
   ]
  },
  {
   "cell_type": "code",
   "execution_count": 68,
   "id": "2b95f287-35fd-4446-8e8e-522ba8deb4b4",
   "metadata": {
    "tags": []
   },
   "outputs": [
    {
     "data": {
      "text/plain": [
       "(tensor([[[ 1.8046e-01,  1.1139e+00,  2.2179e-02,  ...,  1.0466e-01,\n",
       "            4.3003e-01,  3.4449e-01],\n",
       "          [ 3.5371e-01, -7.3697e-02,  2.1858e-01,  ...,  5.7132e-02,\n",
       "            1.2799e+00,  3.1169e-01],\n",
       "          [ 9.3529e-01,  4.0174e-01,  1.3239e+00,  ..., -6.9774e-01,\n",
       "            2.2835e-01, -3.3770e-01],\n",
       "          ...,\n",
       "          [ 6.6475e-01,  6.4982e-01, -5.3610e-01,  ...,  1.2636e-01,\n",
       "           -1.0674e-01, -1.0265e+00],\n",
       "          [-1.8350e-01,  2.5860e-01,  7.2985e-01,  ..., -6.8019e-01,\n",
       "            1.3254e+00,  1.1527e+00],\n",
       "          [-1.2009e+00,  6.1653e-01, -3.5848e-01,  ...,  2.8922e-01,\n",
       "           -1.3731e-01,  9.8321e-02]],\n",
       " \n",
       "         [[-1.6129e-01,  4.3212e-01,  4.1891e-01,  ...,  2.1533e-01,\n",
       "            5.2450e-01, -6.8731e-01],\n",
       "          [ 2.8928e-01,  1.8965e+00,  3.4286e-01,  ..., -4.9676e-01,\n",
       "           -4.6857e-01,  6.1583e-01],\n",
       "          [-1.1168e-01,  2.0521e-01,  9.8527e-01,  ...,  1.0844e+00,\n",
       "            7.2728e-01,  9.9427e-01],\n",
       "          ...,\n",
       "          [-4.8438e-01,  3.2372e-01,  2.6467e-01,  ..., -1.4428e+00,\n",
       "            1.4872e+00, -9.4261e-01],\n",
       "          [-6.1403e-01,  2.9063e-01, -5.5382e-01,  ..., -1.6639e-01,\n",
       "            1.3982e+00,  6.6625e-01],\n",
       "          [-1.2279e+00, -4.1379e-02, -7.6434e-02,  ..., -3.4279e-01,\n",
       "            1.1493e+00,  4.5653e-01]],\n",
       " \n",
       "         [[-8.8077e-01,  1.7592e+00, -5.4448e-02,  ..., -1.5849e+00,\n",
       "            6.2265e-01,  1.7946e-01],\n",
       "          [ 5.5247e-01,  8.7260e-01,  9.3386e-01,  ..., -1.4668e-01,\n",
       "            6.7008e-01, -1.0716e+00],\n",
       "          [ 8.1377e-02,  7.7694e-01,  3.5576e-01,  ..., -8.5303e-02,\n",
       "           -1.3869e-01, -7.6876e-01],\n",
       "          ...,\n",
       "          [ 1.1010e+00, -4.3155e-02,  1.1258e+00,  ...,  5.6874e-02,\n",
       "            6.9575e-01, -7.1170e-01],\n",
       "          [-6.1921e-01, -2.8290e-01,  7.2777e-02,  ..., -1.3938e+00,\n",
       "            3.2408e-01,  9.1864e-02],\n",
       "          [-1.2279e+00, -4.1379e-02, -7.6434e-02,  ..., -3.4279e-01,\n",
       "            1.1493e+00,  4.5653e-01]],\n",
       " \n",
       "         [[ 6.0799e-01,  9.0892e-01,  9.8975e-01,  ..., -1.4539e-01,\n",
       "            7.3266e-01, -1.0062e+00],\n",
       "          [ 1.4734e-01,  8.7154e-01,  3.2043e-01,  ..., -2.5859e-02,\n",
       "           -5.6931e-02, -7.8609e-01],\n",
       "          [-3.4649e-01, -3.3228e-01,  5.0751e-01,  ..., -2.5222e-01,\n",
       "            7.5905e-01, -5.5007e-01],\n",
       "          ...,\n",
       "          [-4.4439e-01, -3.1995e-01,  1.8383e-01,  ..., -1.6447e+00,\n",
       "            5.0119e-01,  1.2854e-02],\n",
       "          [-1.1025e+00,  1.0695e-03,  2.3935e-02,  ..., -4.5800e-01,\n",
       "            1.2382e+00,  4.3275e-01],\n",
       "          [-3.1943e-01, -9.0423e-01, -3.5137e-01,  ..., -9.9939e-01,\n",
       "            4.6591e-01,  1.3987e-01]]], grad_fn=<ViewBackward0>),\n",
       " torch.Size([4, 16, 64]))"
      ]
     },
     "execution_count": 68,
     "metadata": {},
     "output_type": "execute_result"
    }
   ],
   "source": [
    "K, K.shape"
   ]
  },
  {
   "cell_type": "code",
   "execution_count": 69,
   "id": "71176470-fdd2-4787-b363-1a373fd02755",
   "metadata": {
    "tags": []
   },
   "outputs": [],
   "source": [
    "V = Wv(x)"
   ]
  },
  {
   "cell_type": "code",
   "execution_count": 70,
   "id": "a6031d2f-d5b0-4400-964f-101d43e36054",
   "metadata": {
    "tags": []
   },
   "outputs": [
    {
     "data": {
      "text/plain": [
       "(tensor([[[ 0.2101, -0.2642, -0.0187,  ..., -0.3991,  1.3007,  0.2192],\n",
       "          [ 0.9700,  0.2160,  0.9357,  ...,  0.0524, -0.2690, -0.7381],\n",
       "          [ 0.8299,  1.0521, -0.3755,  ..., -0.5164,  0.2159,  0.9648],\n",
       "          ...,\n",
       "          [-0.5894, -0.2769,  0.2222,  ..., -1.0624,  0.3319, -0.3580],\n",
       "          [ 0.6967, -0.2212,  0.1251,  ..., -0.9125,  1.0350, -0.2970],\n",
       "          [ 0.4239, -0.9956,  0.5543,  ..., -0.8051,  0.7492, -0.1003]],\n",
       " \n",
       "         [[ 1.2150, -0.0367,  0.3736,  ..., -0.1700,  0.3376,  0.7344],\n",
       "          [ 0.8544,  0.0643, -0.3343,  ..., -0.1194, -0.0587, -0.2945],\n",
       "          [ 0.8146, -0.7014,  0.8302,  ...,  0.9869, -0.4773, -0.4093],\n",
       "          ...,\n",
       "          [ 0.8314,  0.8159,  0.5155,  ..., -0.1332,  1.2528,  0.6942],\n",
       "          [ 0.3311, -1.5904,  1.1245,  ..., -1.5752,  0.9364, -0.1469],\n",
       "          [-0.2969,  0.9127,  0.0955,  ..., -0.4721,  1.1855,  0.9283]],\n",
       " \n",
       "         [[ 0.9342, -1.3837,  0.4140,  ..., -0.7778,  0.6217,  0.7750],\n",
       "          [ 1.2607,  0.1890,  1.2747,  ..., -0.5640,  0.8970,  0.7171],\n",
       "          [ 1.2163, -0.3472,  1.0844,  ...,  0.0468, -0.3074, -0.4394],\n",
       "          ...,\n",
       "          [ 0.4785, -0.2618, -0.8546,  ..., -0.5259,  0.0595,  0.9556],\n",
       "          [ 0.2208, -1.0515, -0.0350,  ..., -0.7690, -1.1297,  0.2273],\n",
       "          [-0.2969,  0.9127,  0.0955,  ..., -0.4721,  1.1855,  0.9283]],\n",
       " \n",
       "         [[ 1.2491,  0.0976,  1.2074,  ..., -0.7156,  0.8741,  0.7917],\n",
       "          [ 1.3180, -0.3902,  1.1113,  ..., -0.1490, -0.2597, -0.4144],\n",
       "          [ 0.4620,  0.2940, -0.3407,  ...,  0.2624,  0.1833,  0.6644],\n",
       "          ...,\n",
       "          [ 0.2110, -0.9991, -0.0640,  ..., -0.8408, -1.2084,  0.2531],\n",
       "          [-0.1965,  1.0183,  0.1712,  ..., -0.5503,  1.1566,  1.0076],\n",
       "          [-0.7131, -0.2876, -0.1247,  ..., -0.2538, -0.3015,  0.5861]]],\n",
       "        grad_fn=<ViewBackward0>),\n",
       " torch.Size([4, 16, 64]))"
      ]
     },
     "execution_count": 70,
     "metadata": {},
     "output_type": "execute_result"
    }
   ],
   "source": [
    "V, V.shape"
   ]
  },
  {
   "cell_type": "markdown",
   "id": "c78aeb7a-bfcc-4d95-a956-70122fdb6600",
   "metadata": {},
   "source": [
    "# 矩阵相乘法则\n",
    "左矩阵A:纬度m x n (m行，n列)\n",
    "右矩阵B:纬度n x p（n行，p列）\n",
    "乘矩阵C:伟度m x p（m行，p列） C = A X B；可以参考https://www.processon.com/diagraming/689f04fbacb0cb4e0f75bbb1 实例"
   ]
  },
  {
   "cell_type": "markdown",
   "id": "11ab7905-96dc-4707-b2f4-280fa42b79ec",
   "metadata": {},
   "source": [
    "# 11、multi head Q,K,V多头注意力机制"
   ]
  },
  {
   "cell_type": "code",
   "execution_count": 71,
   "id": "9bdc0ab9-64ca-437b-b23e-66ef9eaef060",
   "metadata": {
    "tags": []
   },
   "outputs": [],
   "source": [
    "Q = Q.view(batch_size, context_length, num_heads, d_model//num_heads).permute(0, 2, 1, 3)"
   ]
  },
  {
   "cell_type": "markdown",
   "id": "96af9232-79f5-4f05-8119-82158ad9a3b9",
   "metadata": {},
   "source": [
    "## 多头注意力业务含义说明\n",
    "极其重要，注意深刻理解其实现的目标"
   ]
  },
  {
   "cell_type": "code",
   "execution_count": null,
   "id": "4fedbbb7-fb8e-4799-bf10-cff6753a6b71",
   "metadata": {},
   "outputs": [],
   "source": []
  }
 ],
 "metadata": {
  "kernelspec": {
   "display_name": "myconda",
   "language": "python",
   "name": "myconda"
  },
  "language_info": {
   "codemirror_mode": {
    "name": "ipython",
    "version": 3
   },
   "file_extension": ".py",
   "mimetype": "text/x-python",
   "name": "python",
   "nbconvert_exporter": "python",
   "pygments_lexer": "ipython3",
   "version": "3.10.12"
  }
 },
 "nbformat": 4,
 "nbformat_minor": 5
}
