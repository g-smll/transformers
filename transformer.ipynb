{
 "cells": [
  {
   "cell_type": "code",
   "execution_count": 1,
   "id": "f01bfb03-df57-45b2-b470-d185b9ef21fa",
   "metadata": {
    "tags": []
   },
   "outputs": [],
   "source": [
    "import torch"
   ]
  },
  {
   "cell_type": "code",
   "execution_count": 2,
   "id": "a385140c-c1a1-4a74-96aa-0d82a90a361d",
   "metadata": {
    "tags": []
   },
   "outputs": [],
   "source": [
    "import torch.nn as nn"
   ]
  },
  {
   "cell_type": "code",
   "execution_count": 3,
   "id": "467e31a9-58b2-4b15-8d43-ed95a5b0fcdb",
   "metadata": {
    "tags": []
   },
   "outputs": [],
   "source": [
    "import torch.nn.functional as F"
   ]
  },
  {
   "cell_type": "code",
   "execution_count": 4,
   "id": "822e3bba-b0e7-4069-9397-630eb26925ce",
   "metadata": {
    "tags": []
   },
   "outputs": [],
   "source": [
    "import os"
   ]
  },
  {
   "cell_type": "code",
   "execution_count": 5,
   "id": "f2e2ebbe-682c-4104-9aae-f429cf114e0d",
   "metadata": {
    "tags": []
   },
   "outputs": [],
   "source": [
    "import requests"
   ]
  },
  {
   "cell_type": "code",
   "execution_count": 6,
   "id": "37ea1383-80e2-4ecd-ac87-23eed5aeb148",
   "metadata": {
    "tags": []
   },
   "outputs": [],
   "source": [
    "import tiktoken"
   ]
  },
  {
   "cell_type": "code",
   "execution_count": 42,
   "id": "3cc9e033-11b3-443b-af93-c27a7a393760",
   "metadata": {
    "tags": []
   },
   "outputs": [],
   "source": [
    "import math"
   ]
  },
  {
   "cell_type": "markdown",
   "id": "b0d4f376-1b50-4ba8-b0e1-fe58d913e169",
   "metadata": {},
   "source": [
    "# 1、获取数据集-由于无法访问huggingface手动上传"
   ]
  },
  {
   "cell_type": "code",
   "execution_count": 43,
   "id": "e80c9701-dcae-4dec-b987-6d108b9d649f",
   "metadata": {
    "tags": []
   },
   "outputs": [],
   "source": [
    "# todo nothing"
   ]
  },
  {
   "cell_type": "markdown",
   "id": "bb55f574-2c65-4880-bf7e-9e2dfe696493",
   "metadata": {},
   "source": [
    "# 2、读取sales_textbook.txt文件"
   ]
  },
  {
   "cell_type": "code",
   "execution_count": 44,
   "id": "0c3d41af-aeec-4bbf-bf27-4bf3a1ee0312",
   "metadata": {
    "tags": []
   },
   "outputs": [],
   "source": [
    "with open('trans_instance.txt','r') as f:\n",
    "    text = f.read()"
   ]
  },
  {
   "cell_type": "code",
   "execution_count": 45,
   "id": "59d9532b-d8c9-4f73-a768-5277682c68b6",
   "metadata": {
    "tags": []
   },
   "outputs": [
    {
     "data": {
      "text/plain": [
       "'小沈阳江西演唱会邀请沈春，\\n明星刀郎的歌火遍大江南北\\n2002年的第一场雪比2001年来得\\n大模型张老师的粉丝全是正能量'"
      ]
     },
     "execution_count": 45,
     "metadata": {},
     "output_type": "execute_result"
    }
   ],
   "source": [
    "text[0:1000]"
   ]
  },
  {
   "cell_type": "code",
   "execution_count": 46,
   "id": "b950e755-8226-41c4-bc32-4d1b4a98a0d3",
   "metadata": {
    "tags": []
   },
   "outputs": [
    {
     "data": {
      "text/plain": [
       "60"
      ]
     },
     "execution_count": 46,
     "metadata": {},
     "output_type": "execute_result"
    }
   ],
   "source": [
    "len(text)"
   ]
  },
  {
   "cell_type": "markdown",
   "id": "7cdf88e4-6b74-47c7-b38c-262c0e577346",
   "metadata": {},
   "source": [
    "# 3、引入tiktoken 将文字token化"
   ]
  },
  {
   "cell_type": "code",
   "execution_count": 47,
   "id": "6830e9af-7ca1-40ce-9596-5ad09573fc0c",
   "metadata": {
    "tags": []
   },
   "outputs": [],
   "source": [
    "encoding = tiktoken.get_encoding(\"cl100k_base\")"
   ]
  },
  {
   "cell_type": "code",
   "execution_count": 48,
   "id": "bd61a35d-91d9-4502-9803-34c61473f97f",
   "metadata": {
    "tags": []
   },
   "outputs": [],
   "source": [
    "tokenized_text = encoding.encode(text)"
   ]
  },
  {
   "cell_type": "code",
   "execution_count": 49,
   "id": "1191ce53-dbb5-4ac8-8774-2d5d27bfc0c4",
   "metadata": {
    "tags": []
   },
   "outputs": [],
   "source": [
    "tokenized_text = torch.tensor(tokenized_text, dtype=torch.long)"
   ]
  },
  {
   "cell_type": "code",
   "execution_count": 50,
   "id": "b4d6469c-a4de-4dbd-9bdc-7c8f50efc264",
   "metadata": {
    "tags": []
   },
   "outputs": [],
   "source": [
    "max_token_value = tokenized_text.max().item()"
   ]
  },
  {
   "cell_type": "code",
   "execution_count": 51,
   "id": "8c61e739-6e7a-4cee-a772-c7157a00a6ae",
   "metadata": {
    "tags": []
   },
   "outputs": [
    {
     "data": {
      "text/plain": [
       "69"
      ]
     },
     "execution_count": 51,
     "metadata": {},
     "output_type": "execute_result"
    }
   ],
   "source": [
    "len(tokenized_text)"
   ]
  },
  {
   "cell_type": "code",
   "execution_count": 52,
   "id": "e8b3fd34-73a8-40d5-acd7-7b3e814f3356",
   "metadata": {
    "tags": []
   },
   "outputs": [
    {
     "data": {
      "text/plain": [
       "92877"
      ]
     },
     "execution_count": 52,
     "metadata": {},
     "output_type": "execute_result"
    }
   ],
   "source": [
    "max_token_value"
   ]
  },
  {
   "cell_type": "markdown",
   "id": "4bd8ed9d-a20c-4dc2-bbbe-c667954450a8",
   "metadata": {},
   "source": [
    "# 4、参数设置"
   ]
  },
  {
   "cell_type": "code",
   "execution_count": 53,
   "id": "d97cd4bb-2110-4f4b-b58d-e18a834f2117",
   "metadata": {
    "tags": []
   },
   "outputs": [],
   "source": [
    "context_length = 10"
   ]
  },
  {
   "cell_type": "code",
   "execution_count": 54,
   "id": "03928e24-ac80-4b09-b9ba-78ce1052fd64",
   "metadata": {
    "tags": []
   },
   "outputs": [],
   "source": [
    "d_model = 64"
   ]
  },
  {
   "cell_type": "code",
   "execution_count": 55,
   "id": "9ba23807-39f4-4efe-83d4-d6ffdc7c3fd8",
   "metadata": {
    "tags": []
   },
   "outputs": [],
   "source": [
    "batch_size = 4"
   ]
  },
  {
   "cell_type": "code",
   "execution_count": 56,
   "id": "54bfcfac-4e0d-48b4-95f2-3728861ffa45",
   "metadata": {
    "tags": []
   },
   "outputs": [],
   "source": [
    "data = tokenized_text"
   ]
  },
  {
   "cell_type": "code",
   "execution_count": 57,
   "id": "2ad04db9-ea56-409e-99dc-e5d084e44eb8",
   "metadata": {
    "tags": []
   },
   "outputs": [],
   "source": [
    "high = len(data) - context_length"
   ]
  },
  {
   "cell_type": "code",
   "execution_count": 58,
   "id": "a24b9115-00da-4c82-b527-27c44ff00951",
   "metadata": {
    "tags": []
   },
   "outputs": [
    {
     "data": {
      "text/plain": [
       "59"
      ]
     },
     "execution_count": 58,
     "metadata": {},
     "output_type": "execute_result"
    }
   ],
   "source": [
    "high"
   ]
  },
  {
   "cell_type": "markdown",
   "id": "e4a9d447-d409-4042-9d47-c327ed30735a",
   "metadata": {},
   "source": [
    "# 5、初始化张量"
   ]
  },
  {
   "cell_type": "markdown",
   "id": "94f33561-84e5-479a-aa46-e75c3ac7fdff",
   "metadata": {},
   "source": [
    "## 参数low随机整数，最小值为零"
   ]
  },
  {
   "cell_type": "markdown",
   "id": "038daea9-f42e-403f-8563-8b970f06d6d7",
   "metadata": {},
   "source": [
    "## 参数high随机整数，最大值为49"
   ]
  },
  {
   "cell_type": "code",
   "execution_count": 59,
   "id": "4bc5ceeb-24cc-4657-82ba-9f0b5672fd69",
   "metadata": {
    "tags": []
   },
   "outputs": [],
   "source": [
    "idxs = torch.randint(low=0, high=high, size=(batch_size,))"
   ]
  },
  {
   "cell_type": "code",
   "execution_count": 60,
   "id": "99f0571e-cb23-410d-a222-a258091be845",
   "metadata": {
    "tags": []
   },
   "outputs": [],
   "source": [
    "#idxs tensor([53, 25, 13,  7])"
   ]
  },
  {
   "cell_type": "markdown",
   "id": "512ca36f-611e-4fcc-8924-defb9108c09e",
   "metadata": {},
   "source": [
    "## 说明初始化一维张量的目的"
   ]
  },
  {
   "cell_type": "markdown",
   "id": "699d37cb-de94-4c74-993d-1b8dc38c2d00",
   "metadata": {},
   "source": [
    "### 在trans_instance.txt文件中，中文字数59， token数65"
   ]
  },
  {
   "cell_type": "markdown",
   "id": "5116f4e4-afad-4581-8e62-77410a6ee8f9",
   "metadata": {},
   "source": [
    "### 随机张量tensor([41, 1, 32, 50]) 以41，1，32，50为token索引， 获取分别41，1，32，50为起始索引的token"
   ]
  },
  {
   "cell_type": "markdown",
   "id": "f5cb925c-cb80-40c2-9345-5a2fb4346a6b",
   "metadata": {},
   "source": [
    "### 例如41为起点的索引，取长度为10的文本，其它索引的值为41，42，43，44，45，46，47，48，49，50 每个索引对应了具体的token"
   ]
  },
  {
   "cell_type": "markdown",
   "id": "2c5b5f2b-ca97-4720-9a01-c2723829a0bc",
   "metadata": {},
   "source": [
    "# 6、初始化4批数据"
   ]
  },
  {
   "cell_type": "markdown",
   "id": "dcbd3514-9dcf-4cda-a8a5-e6e0c5d5dcb0",
   "metadata": {},
   "source": [
    "## 数据结构是4行10列， 即4行token， 每行10个token"
   ]
  },
  {
   "cell_type": "code",
   "execution_count": 61,
   "id": "abb4f7b0-ef49-4dfb-b7f7-5212dc2cf3cb",
   "metadata": {
    "tags": []
   },
   "outputs": [],
   "source": [
    "x_batch = torch.stack([data[idx:idx+context_length] for idx in idxs])"
   ]
  },
  {
   "cell_type": "code",
   "execution_count": 62,
   "id": "977559d0-b209-4fcb-bb70-e4c015d43f66",
   "metadata": {
    "tags": []
   },
   "outputs": [
    {
     "data": {
      "text/plain": [
       "tensor([[31809, 31106,   230, 83175, 70277, 61786, 78256,   242, 84150,   109],\n",
       "        [  234, 80699, 30250,   235, 27384, 70277, 59563, 49409,   198,  1049],\n",
       "        [78519,  6701,   222, 31938,   236,  9554, 15722,   234, 80699, 30250],\n",
       "        [  236,  9554, 15722,   234, 80699, 30250,   235, 27384, 70277, 59563]])"
      ]
     },
     "execution_count": 62,
     "metadata": {},
     "output_type": "execute_result"
    }
   ],
   "source": [
    "x_batch"
   ]
  },
  {
   "cell_type": "code",
   "execution_count": 63,
   "id": "ed701842-7c8f-4589-8c7c-6c5463321886",
   "metadata": {
    "tags": []
   },
   "outputs": [],
   "source": [
    "y_batch = torch.stack([data[idx+1:idx+context_length+1] for idx in idxs])"
   ]
  },
  {
   "cell_type": "code",
   "execution_count": 64,
   "id": "6898ea29-2c95-43d5-811e-5850ac3c5dea",
   "metadata": {
    "tags": []
   },
   "outputs": [
    {
     "data": {
      "text/plain": [
       "tensor([[31106,   230, 83175, 70277, 61786, 78256,   242, 84150,   109, 38093],\n",
       "        [80699, 30250,   235, 27384, 70277, 59563, 49409,   198,  1049,    17],\n",
       "        [ 6701,   222, 31938,   236,  9554, 15722,   234, 80699, 30250,   235],\n",
       "        [ 9554, 15722,   234, 80699, 30250,   235, 27384, 70277, 59563, 49409]])"
      ]
     },
     "execution_count": 64,
     "metadata": {},
     "output_type": "execute_result"
    }
   ],
   "source": [
    "y_batch"
   ]
  },
  {
   "cell_type": "markdown",
   "id": "270925e3-eaee-4255-b39a-b34faffa8114",
   "metadata": {},
   "source": [
    "# 7、引入pandas查看原始数据"
   ]
  },
  {
   "cell_type": "code",
   "execution_count": 65,
   "id": "50bbdc16-312a-4ce1-ae9a-99200cca79ce",
   "metadata": {
    "tags": []
   },
   "outputs": [],
   "source": [
    "import pandas as pd"
   ]
  },
  {
   "cell_type": "code",
   "execution_count": 87,
   "id": "19daa57a-5a37-4e0c-be79-5e1c9ec6668a",
   "metadata": {
    "tags": []
   },
   "outputs": [
    {
     "data": {
      "text/plain": [
       "'小沈阳江西演唱'"
      ]
     },
     "execution_count": 87,
     "metadata": {},
     "output_type": "execute_result"
    }
   ],
   "source": [
    "encoding.decode(x_batch[0].numpy())"
   ]
  },
  {
   "cell_type": "code",
   "execution_count": 88,
   "id": "fd0ec3ea-432a-4846-81ab-fd52780b69d9",
   "metadata": {
    "tags": []
   },
   "outputs": [
    {
     "data": {
      "text/plain": [
       "'�火遍大江南北\\n200'"
      ]
     },
     "execution_count": 88,
     "metadata": {},
     "output_type": "execute_result"
    }
   ],
   "source": [
    "encoding.decode(x_batch[1].numpy())"
   ]
  },
  {
   "cell_type": "code",
   "execution_count": 89,
   "id": "f279ec9c-37d6-4188-82a8-bb55e85a9e5b",
   "metadata": {
    "tags": []
   },
   "outputs": [
    {
     "data": {
      "text/plain": [
       "'星刀郎的歌火�'"
      ]
     },
     "execution_count": 89,
     "metadata": {},
     "output_type": "execute_result"
    }
   ],
   "source": [
    "encoding.decode(x_batch[2].numpy())"
   ]
  },
  {
   "cell_type": "code",
   "execution_count": 90,
   "id": "da93ee60-783e-474c-a57a-a42de8f19fb5",
   "metadata": {
    "tags": []
   },
   "outputs": [
    {
     "data": {
      "text/plain": [
       "'�的歌火遍大江南'"
      ]
     },
     "execution_count": 90,
     "metadata": {},
     "output_type": "execute_result"
    }
   ],
   "source": [
    "encoding.decode(x_batch[3].numpy())"
   ]
  },
  {
   "cell_type": "code",
   "execution_count": 91,
   "id": "2c07719f-d056-42ee-ac52-e4c39dc63c2f",
   "metadata": {
    "tags": []
   },
   "outputs": [
    {
     "data": {
      "text/plain": [
       "'沈阳江西演唱会'"
      ]
     },
     "execution_count": 91,
     "metadata": {},
     "output_type": "execute_result"
    }
   ],
   "source": [
    "encoding.decode(y_batch[0].numpy())"
   ]
  },
  {
   "cell_type": "code",
   "execution_count": 92,
   "id": "01f6bdfb-d951-41d2-8e0a-893c36a1df3f",
   "metadata": {
    "tags": []
   },
   "outputs": [
    {
     "data": {
      "text/plain": [
       "'火遍大江南北\\n2002'"
      ]
     },
     "execution_count": 92,
     "metadata": {},
     "output_type": "execute_result"
    }
   ],
   "source": [
    "encoding.decode(y_batch[1].numpy())"
   ]
  },
  {
   "cell_type": "code",
   "execution_count": 93,
   "id": "a17f942d-d6f8-42d0-bc2c-1b2ed950d25b",
   "metadata": {
    "tags": []
   },
   "outputs": [
    {
     "data": {
      "text/plain": [
       "'刀郎的歌火遍'"
      ]
     },
     "execution_count": 93,
     "metadata": {},
     "output_type": "execute_result"
    }
   ],
   "source": [
    "encoding.decode(y_batch[2].numpy())"
   ]
  },
  {
   "cell_type": "code",
   "execution_count": 94,
   "id": "65d05fac-36de-4d61-b21c-dd46f307fc91",
   "metadata": {
    "tags": []
   },
   "outputs": [
    {
     "data": {
      "text/plain": [
       "'的歌火遍大江南北'"
      ]
     },
     "execution_count": 94,
     "metadata": {},
     "output_type": "execute_result"
    }
   ],
   "source": [
    "encoding.decode(y_batch[3].numpy())"
   ]
  },
  {
   "cell_type": "markdown",
   "id": "6b663f28-d98a-49e8-b086-4e5f0bb296ff",
   "metadata": {},
   "source": [
    "# 8、input Enbedding 初始化"
   ]
  },
  {
   "cell_type": "code",
   "execution_count": 67,
   "id": "f882236b-5fa9-42c5-81f4-87eaa123ae7e",
   "metadata": {
    "tags": []
   },
   "outputs": [
    {
     "data": {
      "text/plain": [
       "'老'"
      ]
     },
     "execution_count": 67,
     "metadata": {},
     "output_type": "execute_result"
    }
   ],
   "source": [
    "encoding.decode([92877]) "
   ]
  },
  {
   "cell_type": "markdown",
   "id": "777ed814-5712-4a16-a248-8cc92ea32ea0",
   "metadata": {},
   "source": [
    "## 创建一个Embedding table （92877， 64）即行为92877 列为64列"
   ]
  },
  {
   "cell_type": "code",
   "execution_count": 68,
   "id": "a981d641-2773-4004-83ad-d326720f8372",
   "metadata": {
    "tags": []
   },
   "outputs": [],
   "source": [
    "input_embedding_lookup_table = nn.Embedding(\n",
    "    num_embeddings=max_token_value + 1,  # 词汇表大小（含未知标记）\n",
    "    embedding_dim=d_model               # 嵌入向量维度\n",
    ")"
   ]
  },
  {
   "cell_type": "code",
   "execution_count": 69,
   "id": "641fea89-3c04-4a74-99e8-c871f2a0a336",
   "metadata": {
    "tags": []
   },
   "outputs": [
    {
     "data": {
      "text/plain": [
       "Embedding(92878, 64)"
      ]
     },
     "execution_count": 69,
     "metadata": {},
     "output_type": "execute_result"
    }
   ],
   "source": [
    "input_embedding_lookup_table #数据结构"
   ]
  },
  {
   "cell_type": "code",
   "execution_count": 70,
   "id": "6ea94e70-b7e6-4e1a-9b7a-ecb9ee15a6cf",
   "metadata": {
    "tags": []
   },
   "outputs": [
    {
     "data": {
      "text/plain": [
       "tensor([[-0.5180, -1.2831, -1.8315,  ..., -0.7923, -1.5449,  0.7383],\n",
       "        [-0.5362,  1.2741, -0.4269,  ..., -0.1117,  1.6702,  0.0265],\n",
       "        [-0.0310,  1.3513, -1.5939,  ...,  0.5652, -0.3909, -0.6691],\n",
       "        ...,\n",
       "        [-0.2261,  1.0138,  1.1066,  ...,  0.0226, -0.5757,  0.3687],\n",
       "        [ 0.9333, -1.4034, -1.8869,  ..., -1.6839,  1.0230,  0.0276],\n",
       "        [ 1.0363, -1.2717, -0.6549,  ..., -0.3199, -0.6892,  0.8592]])"
      ]
     },
     "execution_count": 70,
     "metadata": {},
     "output_type": "execute_result"
    }
   ],
   "source": [
    "input_embedding_lookup_table.weight.data #初始化的权重，这些初始值在训练过程中修正"
   ]
  },
  {
   "cell_type": "code",
   "execution_count": 71,
   "id": "f28936a7-3c60-43e0-86e6-aeded4b3e049",
   "metadata": {
    "tags": []
   },
   "outputs": [],
   "source": [
    "x_batch_embedding = input_embedding_lookup_table(x_batch)\n",
    "y_batch_embedding = input_embedding_lookup_table(y_batch)"
   ]
  },
  {
   "cell_type": "code",
   "execution_count": 72,
   "id": "903833c0-2a20-42cb-b747-7034ae095620",
   "metadata": {
    "tags": []
   },
   "outputs": [
    {
     "data": {
      "text/plain": [
       "torch.Size([4, 10, 64])"
      ]
     },
     "execution_count": 72,
     "metadata": {},
     "output_type": "execute_result"
    }
   ],
   "source": [
    "x_batch_embedding.shape"
   ]
  },
  {
   "cell_type": "markdown",
   "id": "1aaef8b4-74dd-4aee-bee3-1f8535eab6d3",
   "metadata": {},
   "source": [
    "## 4 代表的是4个批次， 10 是行数即10个token， 64即64列64个纬度"
   ]
  },
  {
   "cell_type": "code",
   "execution_count": 73,
   "id": "b2413976-a5b5-4a91-9ded-44966895921b",
   "metadata": {
    "tags": []
   },
   "outputs": [
    {
     "data": {
      "text/plain": [
       "torch.Size([4, 10, 64])"
      ]
     },
     "execution_count": 73,
     "metadata": {},
     "output_type": "execute_result"
    }
   ],
   "source": [
    "y_batch_embedding.shape"
   ]
  },
  {
   "cell_type": "markdown",
   "id": "a6c19873-2a93-4191-858a-564866d1ba02",
   "metadata": {},
   "source": [
    "# 9、positional encoding 加入位置信息"
   ]
  },
  {
   "cell_type": "code",
   "execution_count": 74,
   "id": "8b12df2a-0822-4c7d-aefc-443ff60d5bc6",
   "metadata": {
    "tags": []
   },
   "outputs": [],
   "source": [
    "position_encoding_lookup_table = torch.zeros(context_length, d_model)"
   ]
  },
  {
   "cell_type": "code",
   "execution_count": 75,
   "id": "61bd6064-f53c-4e64-8e04-0391baf9bdbb",
   "metadata": {
    "tags": []
   },
   "outputs": [
    {
     "data": {
      "text/plain": [
       "tensor([[0., 0., 0., 0., 0., 0., 0., 0., 0., 0., 0., 0., 0., 0., 0., 0., 0., 0., 0., 0., 0., 0., 0., 0.,\n",
       "         0., 0., 0., 0., 0., 0., 0., 0., 0., 0., 0., 0., 0., 0., 0., 0., 0., 0., 0., 0., 0., 0., 0., 0.,\n",
       "         0., 0., 0., 0., 0., 0., 0., 0., 0., 0., 0., 0., 0., 0., 0., 0.],\n",
       "        [0., 0., 0., 0., 0., 0., 0., 0., 0., 0., 0., 0., 0., 0., 0., 0., 0., 0., 0., 0., 0., 0., 0., 0.,\n",
       "         0., 0., 0., 0., 0., 0., 0., 0., 0., 0., 0., 0., 0., 0., 0., 0., 0., 0., 0., 0., 0., 0., 0., 0.,\n",
       "         0., 0., 0., 0., 0., 0., 0., 0., 0., 0., 0., 0., 0., 0., 0., 0.],\n",
       "        [0., 0., 0., 0., 0., 0., 0., 0., 0., 0., 0., 0., 0., 0., 0., 0., 0., 0., 0., 0., 0., 0., 0., 0.,\n",
       "         0., 0., 0., 0., 0., 0., 0., 0., 0., 0., 0., 0., 0., 0., 0., 0., 0., 0., 0., 0., 0., 0., 0., 0.,\n",
       "         0., 0., 0., 0., 0., 0., 0., 0., 0., 0., 0., 0., 0., 0., 0., 0.],\n",
       "        [0., 0., 0., 0., 0., 0., 0., 0., 0., 0., 0., 0., 0., 0., 0., 0., 0., 0., 0., 0., 0., 0., 0., 0.,\n",
       "         0., 0., 0., 0., 0., 0., 0., 0., 0., 0., 0., 0., 0., 0., 0., 0., 0., 0., 0., 0., 0., 0., 0., 0.,\n",
       "         0., 0., 0., 0., 0., 0., 0., 0., 0., 0., 0., 0., 0., 0., 0., 0.],\n",
       "        [0., 0., 0., 0., 0., 0., 0., 0., 0., 0., 0., 0., 0., 0., 0., 0., 0., 0., 0., 0., 0., 0., 0., 0.,\n",
       "         0., 0., 0., 0., 0., 0., 0., 0., 0., 0., 0., 0., 0., 0., 0., 0., 0., 0., 0., 0., 0., 0., 0., 0.,\n",
       "         0., 0., 0., 0., 0., 0., 0., 0., 0., 0., 0., 0., 0., 0., 0., 0.],\n",
       "        [0., 0., 0., 0., 0., 0., 0., 0., 0., 0., 0., 0., 0., 0., 0., 0., 0., 0., 0., 0., 0., 0., 0., 0.,\n",
       "         0., 0., 0., 0., 0., 0., 0., 0., 0., 0., 0., 0., 0., 0., 0., 0., 0., 0., 0., 0., 0., 0., 0., 0.,\n",
       "         0., 0., 0., 0., 0., 0., 0., 0., 0., 0., 0., 0., 0., 0., 0., 0.],\n",
       "        [0., 0., 0., 0., 0., 0., 0., 0., 0., 0., 0., 0., 0., 0., 0., 0., 0., 0., 0., 0., 0., 0., 0., 0.,\n",
       "         0., 0., 0., 0., 0., 0., 0., 0., 0., 0., 0., 0., 0., 0., 0., 0., 0., 0., 0., 0., 0., 0., 0., 0.,\n",
       "         0., 0., 0., 0., 0., 0., 0., 0., 0., 0., 0., 0., 0., 0., 0., 0.],\n",
       "        [0., 0., 0., 0., 0., 0., 0., 0., 0., 0., 0., 0., 0., 0., 0., 0., 0., 0., 0., 0., 0., 0., 0., 0.,\n",
       "         0., 0., 0., 0., 0., 0., 0., 0., 0., 0., 0., 0., 0., 0., 0., 0., 0., 0., 0., 0., 0., 0., 0., 0.,\n",
       "         0., 0., 0., 0., 0., 0., 0., 0., 0., 0., 0., 0., 0., 0., 0., 0.],\n",
       "        [0., 0., 0., 0., 0., 0., 0., 0., 0., 0., 0., 0., 0., 0., 0., 0., 0., 0., 0., 0., 0., 0., 0., 0.,\n",
       "         0., 0., 0., 0., 0., 0., 0., 0., 0., 0., 0., 0., 0., 0., 0., 0., 0., 0., 0., 0., 0., 0., 0., 0.,\n",
       "         0., 0., 0., 0., 0., 0., 0., 0., 0., 0., 0., 0., 0., 0., 0., 0.],\n",
       "        [0., 0., 0., 0., 0., 0., 0., 0., 0., 0., 0., 0., 0., 0., 0., 0., 0., 0., 0., 0., 0., 0., 0., 0.,\n",
       "         0., 0., 0., 0., 0., 0., 0., 0., 0., 0., 0., 0., 0., 0., 0., 0., 0., 0., 0., 0., 0., 0., 0., 0.,\n",
       "         0., 0., 0., 0., 0., 0., 0., 0., 0., 0., 0., 0., 0., 0., 0., 0.]])"
      ]
     },
     "execution_count": 75,
     "metadata": {},
     "output_type": "execute_result"
    }
   ],
   "source": [
    "position_encoding_lookup_table"
   ]
  },
  {
   "cell_type": "markdown",
   "id": "4a532502-ef57-481e-8068-69662b5d06e7",
   "metadata": {},
   "source": [
    "## 目标是初始一个10x64的二维矩阵，目的就是给每一个"
   ]
  },
  {
   "cell_type": "code",
   "execution_count": 76,
   "id": "78527b5f-4ba0-49fc-9b9b-7a53f8b4d420",
   "metadata": {
    "tags": []
   },
   "outputs": [],
   "source": [
    "# 2. 生成位置序列 [0, 1, 2, ..., context_length-1]\n",
    "position = torch.arange(0, context_length, dtype=torch.float).unsqueeze(1)\n",
    "\n",
    "# 3. 计算频率缩放因子（指数衰减）\n",
    "div_term = torch.exp(torch.arange(0, d_model, 2).float() * (-math.log(10000.0) / d_model))\n",
    "\n",
    "# 4. 交替应用正弦和余弦函数\n",
    "position_encoding_lookup_table[:, 0::2] = torch.sin(position * div_term)  # 偶数位置\n",
    "position_encoding_lookup_table[:, 1::2] = torch.cos(position * div_term)  # 奇数位置\n",
    "\n",
    "# 5. 添加batch维度 [batch_size, seq_len, d_model]\n",
    "position_encoding_lookup_table = position_encoding_lookup_table.unsqueeze(0).expand(batch_size, -1, -1)"
   ]
  },
  {
   "cell_type": "code",
   "execution_count": 77,
   "id": "b81650a6-44f9-4805-9e0a-f07a0d053840",
   "metadata": {
    "tags": []
   },
   "outputs": [
    {
     "data": {
      "text/plain": [
       "tensor([[[ 0.0000e+00,  1.0000e+00,  0.0000e+00,  ...,  1.0000e+00,\n",
       "           0.0000e+00,  1.0000e+00],\n",
       "         [ 8.4147e-01,  5.4030e-01,  6.8156e-01,  ...,  1.0000e+00,\n",
       "           1.3335e-04,  1.0000e+00],\n",
       "         [ 9.0930e-01, -4.1615e-01,  9.9748e-01,  ...,  1.0000e+00,\n",
       "           2.6670e-04,  1.0000e+00],\n",
       "         ...,\n",
       "         [ 6.5699e-01,  7.5390e-01, -8.5931e-01,  ...,  1.0000e+00,\n",
       "           9.3346e-04,  1.0000e+00],\n",
       "         [ 9.8936e-01, -1.4550e-01, -2.8023e-01,  ...,  1.0000e+00,\n",
       "           1.0668e-03,  1.0000e+00],\n",
       "         [ 4.1212e-01, -9.1113e-01,  4.4919e-01,  ...,  1.0000e+00,\n",
       "           1.2002e-03,  1.0000e+00]],\n",
       "\n",
       "        [[ 0.0000e+00,  1.0000e+00,  0.0000e+00,  ...,  1.0000e+00,\n",
       "           0.0000e+00,  1.0000e+00],\n",
       "         [ 8.4147e-01,  5.4030e-01,  6.8156e-01,  ...,  1.0000e+00,\n",
       "           1.3335e-04,  1.0000e+00],\n",
       "         [ 9.0930e-01, -4.1615e-01,  9.9748e-01,  ...,  1.0000e+00,\n",
       "           2.6670e-04,  1.0000e+00],\n",
       "         ...,\n",
       "         [ 6.5699e-01,  7.5390e-01, -8.5931e-01,  ...,  1.0000e+00,\n",
       "           9.3346e-04,  1.0000e+00],\n",
       "         [ 9.8936e-01, -1.4550e-01, -2.8023e-01,  ...,  1.0000e+00,\n",
       "           1.0668e-03,  1.0000e+00],\n",
       "         [ 4.1212e-01, -9.1113e-01,  4.4919e-01,  ...,  1.0000e+00,\n",
       "           1.2002e-03,  1.0000e+00]],\n",
       "\n",
       "        [[ 0.0000e+00,  1.0000e+00,  0.0000e+00,  ...,  1.0000e+00,\n",
       "           0.0000e+00,  1.0000e+00],\n",
       "         [ 8.4147e-01,  5.4030e-01,  6.8156e-01,  ...,  1.0000e+00,\n",
       "           1.3335e-04,  1.0000e+00],\n",
       "         [ 9.0930e-01, -4.1615e-01,  9.9748e-01,  ...,  1.0000e+00,\n",
       "           2.6670e-04,  1.0000e+00],\n",
       "         ...,\n",
       "         [ 6.5699e-01,  7.5390e-01, -8.5931e-01,  ...,  1.0000e+00,\n",
       "           9.3346e-04,  1.0000e+00],\n",
       "         [ 9.8936e-01, -1.4550e-01, -2.8023e-01,  ...,  1.0000e+00,\n",
       "           1.0668e-03,  1.0000e+00],\n",
       "         [ 4.1212e-01, -9.1113e-01,  4.4919e-01,  ...,  1.0000e+00,\n",
       "           1.2002e-03,  1.0000e+00]],\n",
       "\n",
       "        [[ 0.0000e+00,  1.0000e+00,  0.0000e+00,  ...,  1.0000e+00,\n",
       "           0.0000e+00,  1.0000e+00],\n",
       "         [ 8.4147e-01,  5.4030e-01,  6.8156e-01,  ...,  1.0000e+00,\n",
       "           1.3335e-04,  1.0000e+00],\n",
       "         [ 9.0930e-01, -4.1615e-01,  9.9748e-01,  ...,  1.0000e+00,\n",
       "           2.6670e-04,  1.0000e+00],\n",
       "         ...,\n",
       "         [ 6.5699e-01,  7.5390e-01, -8.5931e-01,  ...,  1.0000e+00,\n",
       "           9.3346e-04,  1.0000e+00],\n",
       "         [ 9.8936e-01, -1.4550e-01, -2.8023e-01,  ...,  1.0000e+00,\n",
       "           1.0668e-03,  1.0000e+00],\n",
       "         [ 4.1212e-01, -9.1113e-01,  4.4919e-01,  ...,  1.0000e+00,\n",
       "           1.2002e-03,  1.0000e+00]]])"
      ]
     },
     "execution_count": 77,
     "metadata": {},
     "output_type": "execute_result"
    }
   ],
   "source": [
    "position_encoding_lookup_table"
   ]
  },
  {
   "cell_type": "markdown",
   "id": "b90ad248-2c4a-464b-8b3d-64df2d8a8a4a",
   "metadata": {},
   "source": [
    "## 增加位置编码"
   ]
  },
  {
   "cell_type": "code",
   "execution_count": 80,
   "id": "d0620843-cd29-4781-a9bc-663b947fee46",
   "metadata": {
    "tags": []
   },
   "outputs": [],
   "source": [
    "x = x_batch_embedding + position_encoding_lookup_table"
   ]
  },
  {
   "cell_type": "code",
   "execution_count": 81,
   "id": "56edc1bf-7287-4c25-a25f-fd68c7fab578",
   "metadata": {
    "tags": []
   },
   "outputs": [
    {
     "data": {
      "text/plain": [
       "tensor([[[ 0.6580,  1.4935,  0.0574,  ...,  1.9252,  1.4490,  0.3878],\n",
       "         [ 2.4235,  0.5228,  1.3203,  ...,  3.6914, -0.0772,  2.1024],\n",
       "         [ 2.7252,  0.0471,  0.6334,  ..., -0.0108,  2.4385,  3.7459],\n",
       "         ...,\n",
       "         [ 0.3275,  0.0349, -0.9200,  ...,  2.6774,  0.4239,  1.2428],\n",
       "         [ 2.3333, -0.1715,  0.9364,  ...,  3.0683, -0.6175,  2.9561],\n",
       "         [ 0.8766, -1.3089, -0.6468,  ...,  3.2859,  0.1350,  2.2900]],\n",
       "\n",
       "        [[-1.8310,  1.7970,  0.1451,  ...,  2.1265, -0.8719,  1.5233],\n",
       "         [ 3.7912,  1.7826,  2.5107,  ...,  3.4485, -0.3508,  1.9317],\n",
       "         [ 1.8938, -0.5448, -0.6195,  ...,  1.3728, -0.7553,  3.1923],\n",
       "         ...,\n",
       "         [ 0.7686,  1.0790, -2.3757,  ...,  1.6144,  0.6550,  2.3885],\n",
       "         [ 1.5093,  2.0870, -0.4721,  ...,  2.8282,  0.6949,  1.4700],\n",
       "         [ 0.2795, -1.2161, -0.3664,  ...,  0.3671,  0.7612,  3.5880]],\n",
       "\n",
       "        [[ 0.5870,  2.1422,  0.0415,  ...,  0.7699, -0.6005,  1.7527],\n",
       "         [ 1.9032, -0.6440,  2.8213,  ...,  1.8137, -1.8745,  3.2940],\n",
       "         [ 2.4372, -0.9010,  1.2889,  ...,  3.3371, -0.2016,  2.7966],\n",
       "         ...,\n",
       "         [-0.5170,  1.3048, -1.5735,  ...,  2.1265, -0.8700,  1.5233],\n",
       "         [ 4.0870,  0.4110,  0.5871,  ...,  3.4485, -0.3489,  1.9317],\n",
       "         [ 0.8994, -1.5347, -1.7161,  ...,  1.3728, -0.7535,  3.1923]],\n",
       "\n",
       "        [[-0.0073,  1.6290, -0.0876,  ...,  2.2810, -0.2338,  2.3118],\n",
       "         [ 1.8233, -0.0091,  2.3635,  ...,  1.0526,  0.7792,  3.6236],\n",
       "         [ 1.4814, -2.4678,  2.4698,  ...,  2.6054, -0.5767,  2.3933],\n",
       "         ...,\n",
       "         [ 2.1329,  2.0993, -0.8798,  ...,  3.2842, -0.9747,  2.1311],\n",
       "         [ 1.6510,  0.6992, -0.9899,  ...,  1.8780, -0.5766,  1.4657],\n",
       "         [ 0.9267, -0.6778,  0.8007,  ...,  2.9641, -0.9593,  2.5975]]],\n",
       "       grad_fn=<AddBackward0>)"
      ]
     },
     "execution_count": 81,
     "metadata": {},
     "output_type": "execute_result"
    }
   ],
   "source": [
    "x"
   ]
  },
  {
   "cell_type": "code",
   "execution_count": 83,
   "id": "b9d6bd23-18c6-4690-affa-347f5bfbdbce",
   "metadata": {
    "tags": []
   },
   "outputs": [],
   "source": [
    "y = y_batch_embedding + position_encoding_lookup_table"
   ]
  },
  {
   "cell_type": "code",
   "execution_count": 84,
   "id": "e5783eac-7a01-47be-8c57-117a92af8074",
   "metadata": {
    "tags": []
   },
   "outputs": [
    {
     "data": {
      "text/plain": [
       "tensor([[[ 0.7406,  0.4422, -0.0428,  ...,  2.6914, -0.0775,  1.1024],\n",
       "         [ 1.7481,  1.4197, -0.6800,  ..., -1.0108,  2.4381,  2.7459],\n",
       "         [ 0.1799,  0.2843,  1.4008,  ...,  1.1941, -0.4105,  0.8581],\n",
       "         ...,\n",
       "         [ 1.0116,  0.8734,  0.6375,  ...,  2.0683, -0.6187,  1.9561],\n",
       "         [ 1.0417,  0.3679, -1.8254,  ...,  2.2859,  0.1337,  1.2900],\n",
       "         [ 0.0043, -0.3653, -1.9876,  ..., -0.0846, -0.8482,  1.2410]],\n",
       "\n",
       "        [[ 2.1083,  1.7020,  1.1476,  ...,  2.4485, -0.3511,  0.9317],\n",
       "         [ 0.9167,  0.8278, -1.9329,  ...,  0.3728, -0.7557,  2.1923],\n",
       "         [ 0.9035, -1.1290,  1.2655,  ...,  1.0475, -0.2108,  0.4673],\n",
       "         ...,\n",
       "         [ 0.1876,  3.1319, -0.7710,  ...,  1.8282,  0.6937,  0.4700],\n",
       "         [ 0.4446,  0.4607, -1.5450,  ..., -0.6329,  0.7599,  2.5880],\n",
       "         [ 1.6580, -1.9287,  0.8579,  ...,  0.5097,  0.3525,  1.6596]],\n",
       "\n",
       "        [[ 0.2202, -0.7246,  1.4582,  ...,  0.8137, -1.8747,  2.2940],\n",
       "         [ 1.4600,  0.4716, -0.0245,  ...,  2.3371, -0.2020,  1.7966],\n",
       "         [ 0.9312, -1.1812,  1.6118,  ...,  2.0049,  0.7404,  1.0521],\n",
       "         ...,\n",
       "         [ 2.7652,  1.4559,  0.2883,  ...,  2.4485, -0.3501,  0.9317],\n",
       "         [ 1.0645,  0.1420, -2.8947,  ...,  0.3728, -0.7548,  2.1923],\n",
       "         [ 0.4063, -1.6239,  0.7172,  ...,  1.0475, -0.2098,  0.4673]],\n",
       "\n",
       "        [[ 0.1403, -0.0897,  1.0004,  ...,  0.0526,  0.7789,  2.6236],\n",
       "         [ 0.5043, -1.0952,  1.1564,  ...,  1.6054, -0.5771,  1.3933],\n",
       "         [-0.9217, -0.6191,  1.1426,  ...,  1.1265, -0.8716,  0.5233],\n",
       "         ...,\n",
       "         [ 0.3292,  1.7441, -1.2888,  ...,  0.8780, -0.5778,  0.4657],\n",
       "         [ 1.0918,  0.9990, -0.3779,  ...,  1.9641, -0.9607,  1.5975],\n",
       "         [-0.1332, -1.3399, -0.2079,  ...,  0.6144,  0.6544,  1.3885]]],\n",
       "       grad_fn=<AddBackward0>)"
      ]
     },
     "execution_count": 84,
     "metadata": {},
     "output_type": "execute_result"
    }
   ],
   "source": [
    "y"
   ]
  },
  {
   "cell_type": "code",
   "execution_count": 85,
   "id": "e251f280-01d9-4fe0-b0b7-08636f0ab79c",
   "metadata": {
    "tags": []
   },
   "outputs": [
    {
     "data": {
      "text/plain": [
       "(torch.Size([4, 10, 64]), torch.Size([4, 10, 64]))"
      ]
     },
     "execution_count": 85,
     "metadata": {},
     "output_type": "execute_result"
    }
   ],
   "source": [
    "x.shape, y.shape"
   ]
  },
  {
   "cell_type": "code",
   "execution_count": 86,
   "id": "b3c63241-a63b-4b12-b2db-d370642066c2",
   "metadata": {
    "tags": []
   },
   "outputs": [
    {
     "data": {
      "text/html": [
       "<div>\n",
       "<style scoped>\n",
       "    .dataframe tbody tr th:only-of-type {\n",
       "        vertical-align: middle;\n",
       "    }\n",
       "\n",
       "    .dataframe tbody tr th {\n",
       "        vertical-align: top;\n",
       "    }\n",
       "\n",
       "    .dataframe thead th {\n",
       "        text-align: right;\n",
       "    }\n",
       "</style>\n",
       "<table border=\"1\" class=\"dataframe\">\n",
       "  <thead>\n",
       "    <tr style=\"text-align: right;\">\n",
       "      <th></th>\n",
       "      <th>0</th>\n",
       "      <th>1</th>\n",
       "      <th>2</th>\n",
       "      <th>3</th>\n",
       "      <th>4</th>\n",
       "      <th>5</th>\n",
       "      <th>6</th>\n",
       "      <th>7</th>\n",
       "      <th>8</th>\n",
       "      <th>9</th>\n",
       "      <th>...</th>\n",
       "      <th>54</th>\n",
       "      <th>55</th>\n",
       "      <th>56</th>\n",
       "      <th>57</th>\n",
       "      <th>58</th>\n",
       "      <th>59</th>\n",
       "      <th>60</th>\n",
       "      <th>61</th>\n",
       "      <th>62</th>\n",
       "      <th>63</th>\n",
       "    </tr>\n",
       "  </thead>\n",
       "  <tbody>\n",
       "    <tr>\n",
       "      <th>0</th>\n",
       "      <td>0.657990</td>\n",
       "      <td>1.493456</td>\n",
       "      <td>0.057354</td>\n",
       "      <td>3.143023</td>\n",
       "      <td>-1.771471</td>\n",
       "      <td>1.362890</td>\n",
       "      <td>-0.828065</td>\n",
       "      <td>0.583228</td>\n",
       "      <td>0.053534</td>\n",
       "      <td>0.814435</td>\n",
       "      <td>...</td>\n",
       "      <td>-0.098599</td>\n",
       "      <td>2.772037</td>\n",
       "      <td>-0.457894</td>\n",
       "      <td>3.416338</td>\n",
       "      <td>0.584577</td>\n",
       "      <td>0.716223</td>\n",
       "      <td>0.076802</td>\n",
       "      <td>1.925173</td>\n",
       "      <td>1.449020</td>\n",
       "      <td>0.387845</td>\n",
       "    </tr>\n",
       "    <tr>\n",
       "      <th>1</th>\n",
       "      <td>2.423509</td>\n",
       "      <td>0.522808</td>\n",
       "      <td>1.320328</td>\n",
       "      <td>0.997766</td>\n",
       "      <td>0.255153</td>\n",
       "      <td>2.573210</td>\n",
       "      <td>2.159432</td>\n",
       "      <td>0.810123</td>\n",
       "      <td>-0.977423</td>\n",
       "      <td>3.010900</td>\n",
       "      <td>...</td>\n",
       "      <td>-0.378481</td>\n",
       "      <td>2.136615</td>\n",
       "      <td>-1.090957</td>\n",
       "      <td>0.752428</td>\n",
       "      <td>1.011021</td>\n",
       "      <td>2.003762</td>\n",
       "      <td>2.334848</td>\n",
       "      <td>3.691366</td>\n",
       "      <td>-0.077250</td>\n",
       "      <td>2.102414</td>\n",
       "    </tr>\n",
       "    <tr>\n",
       "      <th>2</th>\n",
       "      <td>2.725236</td>\n",
       "      <td>0.047081</td>\n",
       "      <td>0.633394</td>\n",
       "      <td>-0.321458</td>\n",
       "      <td>1.356426</td>\n",
       "      <td>0.149932</td>\n",
       "      <td>1.369661</td>\n",
       "      <td>2.223868</td>\n",
       "      <td>2.075838</td>\n",
       "      <td>-0.034166</td>\n",
       "      <td>...</td>\n",
       "      <td>-1.340173</td>\n",
       "      <td>1.507314</td>\n",
       "      <td>-0.421790</td>\n",
       "      <td>0.866582</td>\n",
       "      <td>-0.227802</td>\n",
       "      <td>0.336653</td>\n",
       "      <td>1.285429</td>\n",
       "      <td>-0.010818</td>\n",
       "      <td>2.438485</td>\n",
       "      <td>3.745878</td>\n",
       "    </tr>\n",
       "    <tr>\n",
       "      <th>3</th>\n",
       "      <td>-0.447111</td>\n",
       "      <td>-1.279560</td>\n",
       "      <td>1.959848</td>\n",
       "      <td>-0.600880</td>\n",
       "      <td>2.786970</td>\n",
       "      <td>1.648211</td>\n",
       "      <td>0.314654</td>\n",
       "      <td>2.016898</td>\n",
       "      <td>0.269873</td>\n",
       "      <td>2.575533</td>\n",
       "      <td>...</td>\n",
       "      <td>-1.259274</td>\n",
       "      <td>2.169379</td>\n",
       "      <td>0.005957</td>\n",
       "      <td>1.781306</td>\n",
       "      <td>0.705451</td>\n",
       "      <td>1.151155</td>\n",
       "      <td>0.015270</td>\n",
       "      <td>2.194141</td>\n",
       "      <td>-0.409939</td>\n",
       "      <td>1.858117</td>\n",
       "    </tr>\n",
       "    <tr>\n",
       "      <th>4</th>\n",
       "      <td>-1.841347</td>\n",
       "      <td>-0.317044</td>\n",
       "      <td>-0.146393</td>\n",
       "      <td>-3.130875</td>\n",
       "      <td>1.754574</td>\n",
       "      <td>-0.385798</td>\n",
       "      <td>1.855644</td>\n",
       "      <td>-0.075504</td>\n",
       "      <td>0.636406</td>\n",
       "      <td>-2.091642</td>\n",
       "      <td>...</td>\n",
       "      <td>-1.133646</td>\n",
       "      <td>2.281186</td>\n",
       "      <td>0.331456</td>\n",
       "      <td>2.327513</td>\n",
       "      <td>0.817328</td>\n",
       "      <td>3.919157</td>\n",
       "      <td>0.778028</td>\n",
       "      <td>1.877989</td>\n",
       "      <td>-0.577671</td>\n",
       "      <td>1.465714</td>\n",
       "    </tr>\n",
       "    <tr>\n",
       "      <th>5</th>\n",
       "      <td>-1.536381</td>\n",
       "      <td>-0.373043</td>\n",
       "      <td>-0.899130</td>\n",
       "      <td>-1.601389</td>\n",
       "      <td>-1.349457</td>\n",
       "      <td>-2.907691</td>\n",
       "      <td>-0.010470</td>\n",
       "      <td>0.724777</td>\n",
       "      <td>3.389273</td>\n",
       "      <td>1.437697</td>\n",
       "      <td>...</td>\n",
       "      <td>0.068011</td>\n",
       "      <td>2.839387</td>\n",
       "      <td>-2.156352</td>\n",
       "      <td>1.029874</td>\n",
       "      <td>0.466322</td>\n",
       "      <td>1.825027</td>\n",
       "      <td>0.688392</td>\n",
       "      <td>2.701521</td>\n",
       "      <td>0.438164</td>\n",
       "      <td>1.403920</td>\n",
       "    </tr>\n",
       "    <tr>\n",
       "      <th>6</th>\n",
       "      <td>-0.888300</td>\n",
       "      <td>-0.007680</td>\n",
       "      <td>-1.082841</td>\n",
       "      <td>-0.152588</td>\n",
       "      <td>-1.046484</td>\n",
       "      <td>0.041815</td>\n",
       "      <td>1.608427</td>\n",
       "      <td>-1.865774</td>\n",
       "      <td>3.363904</td>\n",
       "      <td>-0.352297</td>\n",
       "      <td>...</td>\n",
       "      <td>1.175344</td>\n",
       "      <td>1.407073</td>\n",
       "      <td>0.819835</td>\n",
       "      <td>1.131556</td>\n",
       "      <td>-0.146393</td>\n",
       "      <td>3.372055</td>\n",
       "      <td>-0.362573</td>\n",
       "      <td>2.672351</td>\n",
       "      <td>-0.740967</td>\n",
       "      <td>1.771977</td>\n",
       "    </tr>\n",
       "    <tr>\n",
       "      <th>7</th>\n",
       "      <td>0.327467</td>\n",
       "      <td>0.034867</td>\n",
       "      <td>-0.920042</td>\n",
       "      <td>2.283300</td>\n",
       "      <td>-1.022620</td>\n",
       "      <td>-2.141044</td>\n",
       "      <td>-0.451487</td>\n",
       "      <td>-0.939053</td>\n",
       "      <td>2.181507</td>\n",
       "      <td>-2.991994</td>\n",
       "      <td>...</td>\n",
       "      <td>-2.030466</td>\n",
       "      <td>1.961415</td>\n",
       "      <td>-0.454454</td>\n",
       "      <td>1.426277</td>\n",
       "      <td>0.052252</td>\n",
       "      <td>1.804291</td>\n",
       "      <td>0.245980</td>\n",
       "      <td>2.677408</td>\n",
       "      <td>0.423892</td>\n",
       "      <td>1.242784</td>\n",
       "    </tr>\n",
       "    <tr>\n",
       "      <th>8</th>\n",
       "      <td>2.333298</td>\n",
       "      <td>-0.171528</td>\n",
       "      <td>0.936393</td>\n",
       "      <td>2.981894</td>\n",
       "      <td>-2.204461</td>\n",
       "      <td>-0.710211</td>\n",
       "      <td>-1.125043</td>\n",
       "      <td>-2.360204</td>\n",
       "      <td>0.269484</td>\n",
       "      <td>-0.494158</td>\n",
       "      <td>...</td>\n",
       "      <td>-1.226887</td>\n",
       "      <td>3.494533</td>\n",
       "      <td>-0.575411</td>\n",
       "      <td>1.265912</td>\n",
       "      <td>-0.985054</td>\n",
       "      <td>2.364651</td>\n",
       "      <td>-0.958155</td>\n",
       "      <td>3.068333</td>\n",
       "      <td>-0.617537</td>\n",
       "      <td>2.956089</td>\n",
       "    </tr>\n",
       "    <tr>\n",
       "      <th>9</th>\n",
       "      <td>0.876571</td>\n",
       "      <td>-1.308858</td>\n",
       "      <td>-0.646776</td>\n",
       "      <td>2.797430</td>\n",
       "      <td>-1.118704</td>\n",
       "      <td>1.405277</td>\n",
       "      <td>0.070735</td>\n",
       "      <td>-2.808073</td>\n",
       "      <td>0.601056</td>\n",
       "      <td>-2.121127</td>\n",
       "      <td>...</td>\n",
       "      <td>0.687400</td>\n",
       "      <td>1.865635</td>\n",
       "      <td>-0.555483</td>\n",
       "      <td>0.955980</td>\n",
       "      <td>0.242457</td>\n",
       "      <td>0.616005</td>\n",
       "      <td>-0.858171</td>\n",
       "      <td>3.285901</td>\n",
       "      <td>0.134984</td>\n",
       "      <td>2.289959</td>\n",
       "    </tr>\n",
       "  </tbody>\n",
       "</table>\n",
       "<p>10 rows × 64 columns</p>\n",
       "</div>"
      ],
      "text/plain": [
       "         0         1         2         3         4         5         6   \\\n",
       "0  0.657990  1.493456  0.057354  3.143023 -1.771471  1.362890 -0.828065   \n",
       "1  2.423509  0.522808  1.320328  0.997766  0.255153  2.573210  2.159432   \n",
       "2  2.725236  0.047081  0.633394 -0.321458  1.356426  0.149932  1.369661   \n",
       "3 -0.447111 -1.279560  1.959848 -0.600880  2.786970  1.648211  0.314654   \n",
       "4 -1.841347 -0.317044 -0.146393 -3.130875  1.754574 -0.385798  1.855644   \n",
       "5 -1.536381 -0.373043 -0.899130 -1.601389 -1.349457 -2.907691 -0.010470   \n",
       "6 -0.888300 -0.007680 -1.082841 -0.152588 -1.046484  0.041815  1.608427   \n",
       "7  0.327467  0.034867 -0.920042  2.283300 -1.022620 -2.141044 -0.451487   \n",
       "8  2.333298 -0.171528  0.936393  2.981894 -2.204461 -0.710211 -1.125043   \n",
       "9  0.876571 -1.308858 -0.646776  2.797430 -1.118704  1.405277  0.070735   \n",
       "\n",
       "         7         8         9   ...        54        55        56        57  \\\n",
       "0  0.583228  0.053534  0.814435  ... -0.098599  2.772037 -0.457894  3.416338   \n",
       "1  0.810123 -0.977423  3.010900  ... -0.378481  2.136615 -1.090957  0.752428   \n",
       "2  2.223868  2.075838 -0.034166  ... -1.340173  1.507314 -0.421790  0.866582   \n",
       "3  2.016898  0.269873  2.575533  ... -1.259274  2.169379  0.005957  1.781306   \n",
       "4 -0.075504  0.636406 -2.091642  ... -1.133646  2.281186  0.331456  2.327513   \n",
       "5  0.724777  3.389273  1.437697  ...  0.068011  2.839387 -2.156352  1.029874   \n",
       "6 -1.865774  3.363904 -0.352297  ...  1.175344  1.407073  0.819835  1.131556   \n",
       "7 -0.939053  2.181507 -2.991994  ... -2.030466  1.961415 -0.454454  1.426277   \n",
       "8 -2.360204  0.269484 -0.494158  ... -1.226887  3.494533 -0.575411  1.265912   \n",
       "9 -2.808073  0.601056 -2.121127  ...  0.687400  1.865635 -0.555483  0.955980   \n",
       "\n",
       "         58        59        60        61        62        63  \n",
       "0  0.584577  0.716223  0.076802  1.925173  1.449020  0.387845  \n",
       "1  1.011021  2.003762  2.334848  3.691366 -0.077250  2.102414  \n",
       "2 -0.227802  0.336653  1.285429 -0.010818  2.438485  3.745878  \n",
       "3  0.705451  1.151155  0.015270  2.194141 -0.409939  1.858117  \n",
       "4  0.817328  3.919157  0.778028  1.877989 -0.577671  1.465714  \n",
       "5  0.466322  1.825027  0.688392  2.701521  0.438164  1.403920  \n",
       "6 -0.146393  3.372055 -0.362573  2.672351 -0.740967  1.771977  \n",
       "7  0.052252  1.804291  0.245980  2.677408  0.423892  1.242784  \n",
       "8 -0.985054  2.364651 -0.958155  3.068333 -0.617537  2.956089  \n",
       "9  0.242457  0.616005 -0.858171  3.285901  0.134984  2.289959  \n",
       "\n",
       "[10 rows x 64 columns]"
      ]
     },
     "execution_count": 86,
     "metadata": {},
     "output_type": "execute_result"
    }
   ],
   "source": [
    "pd.DataFrame(x[0].detach().numpy())"
   ]
  },
  {
   "cell_type": "code",
   "execution_count": null,
   "id": "9ece05aa-ad35-40c1-843e-370a13ddc910",
   "metadata": {},
   "outputs": [],
   "source": []
  }
 ],
 "metadata": {
  "kernelspec": {
   "display_name": "myconda",
   "language": "python",
   "name": "myconda"
  },
  "language_info": {
   "codemirror_mode": {
    "name": "ipython",
    "version": 3
   },
   "file_extension": ".py",
   "mimetype": "text/x-python",
   "name": "python",
   "nbconvert_exporter": "python",
   "pygments_lexer": "ipython3",
   "version": "3.10.12"
  }
 },
 "nbformat": 4,
 "nbformat_minor": 5
}
